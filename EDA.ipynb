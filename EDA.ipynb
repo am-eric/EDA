{
 "cells": [
  {
   "cell_type": "markdown",
   "id": "e3f1df14-a5e9-416a-abde-f9391110f400",
   "metadata": {},
   "source": [
    "# EXPLORATORY DATA ANALYSIS"
   ]
  },
  {
   "cell_type": "markdown",
   "id": "649a10b9-bf04-4e5c-a2d1-da385fdc2c53",
   "metadata": {},
   "source": [
    "## Business Problem Understanding\n"
   ]
  },
  {
   "cell_type": "markdown",
   "id": "e2532774-154a-4e7a-96ec-6b0770eb5325",
   "metadata": {},
   "source": [
    "Company X is expanding in to new industries to diversify its portfolio. They are particularly interested in purchasing and operating airplanes for commercial and private enterprises. However, they do not have enough knowledge on the potential risks of aircrafts.\n",
    "\n",
    "**Task** \n",
    "- Determine which aircraft are the lowest risk for the company X to start this new endeavor. \n",
    "- Translate findings into actionable insights that the stake holders can use to help decide which aircraft to purchase. "
   ]
  },
  {
   "cell_type": "markdown",
   "id": "727d1c40-e134-4ded-8a7a-5912185ef5b1",
   "metadata": {},
   "source": [
    "## The Data"
   ]
  },
  {
   "cell_type": "markdown",
   "id": "3a8e150c-e662-4510-8526-e8ca655465e4",
   "metadata": {},
   "source": [
    "The data is from the National Transportation Safety Board that includes aviation accident data from 1962 to 2023 about civil aviation accidents and selected incidents in the United States and international waters. \n",
    "The dataset was obtained from Kaggle. https://www.kaggle.com/datasets/khsamaha/aviation-accident-database-synopses "
   ]
  },
  {
   "cell_type": "markdown",
   "id": "ed253e00-3ecb-4267-982b-1c381f133bb3",
   "metadata": {},
   "source": [
    "### Loading the Data"
   ]
  },
  {
   "cell_type": "code",
   "execution_count": 1,
   "id": "e5ac8d30-983e-41ea-811d-3c189e214bb1",
   "metadata": {},
   "outputs": [],
   "source": [
    "# import necessary libraries\n",
    "import matplotlib.pyplot as plt\n",
    "import pandas as pd"
   ]
  },
  {
   "cell_type": "code",
   "execution_count": 2,
   "id": "045992b7-9997-4ae2-9003-520518a988a6",
   "metadata": {},
   "outputs": [
    {
     "data": {
      "text/html": [
       "<div>\n",
       "<style scoped>\n",
       "    .dataframe tbody tr th:only-of-type {\n",
       "        vertical-align: middle;\n",
       "    }\n",
       "\n",
       "    .dataframe tbody tr th {\n",
       "        vertical-align: top;\n",
       "    }\n",
       "\n",
       "    .dataframe thead th {\n",
       "        text-align: right;\n",
       "    }\n",
       "</style>\n",
       "<table border=\"1\" class=\"dataframe\">\n",
       "  <thead>\n",
       "    <tr style=\"text-align: right;\">\n",
       "      <th></th>\n",
       "      <th>Event.Id</th>\n",
       "      <th>Investigation.Type</th>\n",
       "      <th>Accident.Number</th>\n",
       "      <th>Event.Date</th>\n",
       "      <th>Location</th>\n",
       "      <th>Country</th>\n",
       "      <th>Latitude</th>\n",
       "      <th>Longitude</th>\n",
       "      <th>Airport.Code</th>\n",
       "      <th>Airport.Name</th>\n",
       "      <th>...</th>\n",
       "      <th>Purpose.of.flight</th>\n",
       "      <th>Air.carrier</th>\n",
       "      <th>Total.Fatal.Injuries</th>\n",
       "      <th>Total.Serious.Injuries</th>\n",
       "      <th>Total.Minor.Injuries</th>\n",
       "      <th>Total.Uninjured</th>\n",
       "      <th>Weather.Condition</th>\n",
       "      <th>Broad.phase.of.flight</th>\n",
       "      <th>Report.Status</th>\n",
       "      <th>Publication.Date</th>\n",
       "    </tr>\n",
       "  </thead>\n",
       "  <tbody>\n",
       "    <tr>\n",
       "      <th>0</th>\n",
       "      <td>20001218X45444</td>\n",
       "      <td>Accident</td>\n",
       "      <td>SEA87LA080</td>\n",
       "      <td>1948-10-24</td>\n",
       "      <td>MOOSE CREEK, ID</td>\n",
       "      <td>United States</td>\n",
       "      <td>NaN</td>\n",
       "      <td>NaN</td>\n",
       "      <td>NaN</td>\n",
       "      <td>NaN</td>\n",
       "      <td>...</td>\n",
       "      <td>Personal</td>\n",
       "      <td>NaN</td>\n",
       "      <td>2.0</td>\n",
       "      <td>0.0</td>\n",
       "      <td>0.0</td>\n",
       "      <td>0.0</td>\n",
       "      <td>UNK</td>\n",
       "      <td>Cruise</td>\n",
       "      <td>Probable Cause</td>\n",
       "      <td>NaT</td>\n",
       "    </tr>\n",
       "    <tr>\n",
       "      <th>1</th>\n",
       "      <td>20001218X45447</td>\n",
       "      <td>Accident</td>\n",
       "      <td>LAX94LA336</td>\n",
       "      <td>1962-07-19</td>\n",
       "      <td>BRIDGEPORT, CA</td>\n",
       "      <td>United States</td>\n",
       "      <td>NaN</td>\n",
       "      <td>NaN</td>\n",
       "      <td>NaN</td>\n",
       "      <td>NaN</td>\n",
       "      <td>...</td>\n",
       "      <td>Personal</td>\n",
       "      <td>NaN</td>\n",
       "      <td>4.0</td>\n",
       "      <td>0.0</td>\n",
       "      <td>0.0</td>\n",
       "      <td>0.0</td>\n",
       "      <td>UNK</td>\n",
       "      <td>Unknown</td>\n",
       "      <td>Probable Cause</td>\n",
       "      <td>1996-09-19</td>\n",
       "    </tr>\n",
       "    <tr>\n",
       "      <th>2</th>\n",
       "      <td>20061025X01555</td>\n",
       "      <td>Accident</td>\n",
       "      <td>NYC07LA005</td>\n",
       "      <td>1974-08-30</td>\n",
       "      <td>Saltville, VA</td>\n",
       "      <td>United States</td>\n",
       "      <td>36.922223</td>\n",
       "      <td>-81.878056</td>\n",
       "      <td>NaN</td>\n",
       "      <td>NaN</td>\n",
       "      <td>...</td>\n",
       "      <td>Personal</td>\n",
       "      <td>NaN</td>\n",
       "      <td>3.0</td>\n",
       "      <td>NaN</td>\n",
       "      <td>NaN</td>\n",
       "      <td>NaN</td>\n",
       "      <td>IMC</td>\n",
       "      <td>Cruise</td>\n",
       "      <td>Probable Cause</td>\n",
       "      <td>2007-02-26</td>\n",
       "    </tr>\n",
       "    <tr>\n",
       "      <th>3</th>\n",
       "      <td>20001218X45448</td>\n",
       "      <td>Accident</td>\n",
       "      <td>LAX96LA321</td>\n",
       "      <td>1977-06-19</td>\n",
       "      <td>EUREKA, CA</td>\n",
       "      <td>United States</td>\n",
       "      <td>NaN</td>\n",
       "      <td>NaN</td>\n",
       "      <td>NaN</td>\n",
       "      <td>NaN</td>\n",
       "      <td>...</td>\n",
       "      <td>Personal</td>\n",
       "      <td>NaN</td>\n",
       "      <td>2.0</td>\n",
       "      <td>0.0</td>\n",
       "      <td>0.0</td>\n",
       "      <td>0.0</td>\n",
       "      <td>IMC</td>\n",
       "      <td>Cruise</td>\n",
       "      <td>Probable Cause</td>\n",
       "      <td>2000-09-12</td>\n",
       "    </tr>\n",
       "    <tr>\n",
       "      <th>4</th>\n",
       "      <td>20041105X01764</td>\n",
       "      <td>Accident</td>\n",
       "      <td>CHI79FA064</td>\n",
       "      <td>1979-08-02</td>\n",
       "      <td>Canton, OH</td>\n",
       "      <td>United States</td>\n",
       "      <td>NaN</td>\n",
       "      <td>NaN</td>\n",
       "      <td>NaN</td>\n",
       "      <td>NaN</td>\n",
       "      <td>...</td>\n",
       "      <td>Personal</td>\n",
       "      <td>NaN</td>\n",
       "      <td>1.0</td>\n",
       "      <td>2.0</td>\n",
       "      <td>NaN</td>\n",
       "      <td>0.0</td>\n",
       "      <td>VMC</td>\n",
       "      <td>Approach</td>\n",
       "      <td>Probable Cause</td>\n",
       "      <td>1980-04-16</td>\n",
       "    </tr>\n",
       "  </tbody>\n",
       "</table>\n",
       "<p>5 rows × 31 columns</p>\n",
       "</div>"
      ],
      "text/plain": [
       "         Event.Id Investigation.Type Accident.Number Event.Date  \\\n",
       "0  20001218X45444           Accident      SEA87LA080 1948-10-24   \n",
       "1  20001218X45447           Accident      LAX94LA336 1962-07-19   \n",
       "2  20061025X01555           Accident      NYC07LA005 1974-08-30   \n",
       "3  20001218X45448           Accident      LAX96LA321 1977-06-19   \n",
       "4  20041105X01764           Accident      CHI79FA064 1979-08-02   \n",
       "\n",
       "          Location        Country   Latitude  Longitude Airport.Code  \\\n",
       "0  MOOSE CREEK, ID  United States        NaN        NaN          NaN   \n",
       "1   BRIDGEPORT, CA  United States        NaN        NaN          NaN   \n",
       "2    Saltville, VA  United States  36.922223 -81.878056          NaN   \n",
       "3       EUREKA, CA  United States        NaN        NaN          NaN   \n",
       "4       Canton, OH  United States        NaN        NaN          NaN   \n",
       "\n",
       "  Airport.Name  ... Purpose.of.flight Air.carrier Total.Fatal.Injuries  \\\n",
       "0          NaN  ...          Personal         NaN                  2.0   \n",
       "1          NaN  ...          Personal         NaN                  4.0   \n",
       "2          NaN  ...          Personal         NaN                  3.0   \n",
       "3          NaN  ...          Personal         NaN                  2.0   \n",
       "4          NaN  ...          Personal         NaN                  1.0   \n",
       "\n",
       "  Total.Serious.Injuries Total.Minor.Injuries Total.Uninjured  \\\n",
       "0                    0.0                  0.0             0.0   \n",
       "1                    0.0                  0.0             0.0   \n",
       "2                    NaN                  NaN             NaN   \n",
       "3                    0.0                  0.0             0.0   \n",
       "4                    2.0                  NaN             0.0   \n",
       "\n",
       "  Weather.Condition  Broad.phase.of.flight   Report.Status Publication.Date  \n",
       "0               UNK                 Cruise  Probable Cause              NaT  \n",
       "1               UNK                Unknown  Probable Cause       1996-09-19  \n",
       "2               IMC                 Cruise  Probable Cause       2007-02-26  \n",
       "3               IMC                 Cruise  Probable Cause       2000-09-12  \n",
       "4               VMC               Approach  Probable Cause       1980-04-16  \n",
       "\n",
       "[5 rows x 31 columns]"
      ]
     },
     "execution_count": 2,
     "metadata": {},
     "output_type": "execute_result"
    }
   ],
   "source": [
    "df = pd.read_excel(\"AviationData.xlsx\")\n",
    "df.head()"
   ]
  },
  {
   "cell_type": "code",
   "execution_count": 3,
   "id": "94de09b0-5225-407a-a60b-31535f82e1a3",
   "metadata": {},
   "outputs": [
    {
     "name": "stdout",
     "output_type": "stream",
     "text": [
      "<class 'pandas.core.frame.DataFrame'>\n",
      "RangeIndex: 88889 entries, 0 to 88888\n",
      "Data columns (total 31 columns):\n",
      " #   Column                  Non-Null Count  Dtype         \n",
      "---  ------                  --------------  -----         \n",
      " 0   Event.Id                88889 non-null  object        \n",
      " 1   Investigation.Type      88889 non-null  object        \n",
      " 2   Accident.Number         88889 non-null  object        \n",
      " 3   Event.Date              88889 non-null  datetime64[ns]\n",
      " 4   Location                88837 non-null  object        \n",
      " 5   Country                 88663 non-null  object        \n",
      " 6   Latitude                34382 non-null  object        \n",
      " 7   Longitude               34373 non-null  object        \n",
      " 8   Airport.Code            50132 non-null  object        \n",
      " 9   Airport.Name            52704 non-null  object        \n",
      " 10  Injury.Severity         87889 non-null  object        \n",
      " 11  Aircraft.damage         85695 non-null  object        \n",
      " 12  Aircraft.Category       32287 non-null  object        \n",
      " 13  Registration.Number     87507 non-null  object        \n",
      " 14  Make                    88826 non-null  object        \n",
      " 15  Model                   88797 non-null  object        \n",
      " 16  Amateur.Built           88787 non-null  object        \n",
      " 17  Number.of.Engines       82805 non-null  float64       \n",
      " 18  Engine.Type             81793 non-null  object        \n",
      " 19  FAR.Description         32023 non-null  object        \n",
      " 20  Schedule                12582 non-null  object        \n",
      " 21  Purpose.of.flight       82697 non-null  object        \n",
      " 22  Air.carrier             16648 non-null  object        \n",
      " 23  Total.Fatal.Injuries    77488 non-null  float64       \n",
      " 24  Total.Serious.Injuries  76379 non-null  float64       \n",
      " 25  Total.Minor.Injuries    76956 non-null  float64       \n",
      " 26  Total.Uninjured         82977 non-null  float64       \n",
      " 27  Weather.Condition       84397 non-null  object        \n",
      " 28  Broad.phase.of.flight   61724 non-null  object        \n",
      " 29  Report.Status           82505 non-null  object        \n",
      " 30  Publication.Date        75118 non-null  datetime64[ns]\n",
      "dtypes: datetime64[ns](2), float64(5), object(24)\n",
      "memory usage: 21.0+ MB\n"
     ]
    }
   ],
   "source": [
    "df.info()"
   ]
  },
  {
   "cell_type": "code",
   "execution_count": 4,
   "id": "90ae2823-9714-401b-8a73-c2cc953a9984",
   "metadata": {},
   "outputs": [
    {
     "data": {
      "text/plain": [
       "Event.Id                      0\n",
       "Investigation.Type            0\n",
       "Accident.Number               0\n",
       "Event.Date                    0\n",
       "Location                     52\n",
       "Country                     226\n",
       "Latitude                  54507\n",
       "Longitude                 54516\n",
       "Airport.Code              38757\n",
       "Airport.Name              36185\n",
       "Injury.Severity            1000\n",
       "Aircraft.damage            3194\n",
       "Aircraft.Category         56602\n",
       "Registration.Number        1382\n",
       "Make                         63\n",
       "Model                        92\n",
       "Amateur.Built               102\n",
       "Number.of.Engines          6084\n",
       "Engine.Type                7096\n",
       "FAR.Description           56866\n",
       "Schedule                  76307\n",
       "Purpose.of.flight          6192\n",
       "Air.carrier               72241\n",
       "Total.Fatal.Injuries      11401\n",
       "Total.Serious.Injuries    12510\n",
       "Total.Minor.Injuries      11933\n",
       "Total.Uninjured            5912\n",
       "Weather.Condition          4492\n",
       "Broad.phase.of.flight     27165\n",
       "Report.Status              6384\n",
       "Publication.Date          13771\n",
       "dtype: int64"
      ]
     },
     "execution_count": 4,
     "metadata": {},
     "output_type": "execute_result"
    }
   ],
   "source": [
    "# get the number of missing values\n",
    "df.isna().sum()"
   ]
  },
  {
   "cell_type": "markdown",
   "id": "0035cbc3-bba0-41e3-b46f-dfbbca676cc5",
   "metadata": {},
   "source": [
    "### Get relevant columns for our analysis"
   ]
  },
  {
   "cell_type": "code",
   "execution_count": 158,
   "id": "5ad6f28b-bb40-4676-99b2-82f34b80432c",
   "metadata": {},
   "outputs": [],
   "source": [
    "relevant_columns = [\n",
    "    'Investigation.Type',\n",
    "    'Accident.Number',\n",
    "    'Event.Date',\n",
    "    'Country',\n",
    "    'Injury.Severity',\n",
    "    'Aircraft.damage',\n",
    "    'Make',\n",
    "    'Model',\n",
    "    'Amateur.Built',\n",
    "    'Number.of.Engines',\n",
    "    'Engine.Type',\n",
    "    'Purpose.of.flight',\n",
    "    'Total.Fatal.Injuries',\n",
    "    'Total.Serious.Injuries',\n",
    "    'Total.Minor.Injuries',\n",
    "    'Total.Uninjured',\n",
    "    'Weather.Condition',\n",
    "    \n",
    "]"
   ]
  },
  {
   "cell_type": "code",
   "execution_count": 159,
   "id": "706909d6-9bf6-4651-b969-acfb43c685bf",
   "metadata": {},
   "outputs": [
    {
     "data": {
      "text/plain": [
       "Index(['Event.Id', 'Investigation.Type', 'Accident.Number', 'Event.Date',\n",
       "       'Location', 'Country', 'Latitude', 'Longitude', 'Airport.Code',\n",
       "       'Airport.Name', 'Injury.Severity', 'Aircraft.damage',\n",
       "       'Aircraft.Category', 'Registration.Number', 'Make', 'Model',\n",
       "       'Amateur.Built', 'Number.of.Engines', 'Engine.Type', 'FAR.Description',\n",
       "       'Schedule', 'Purpose.of.flight', 'Air.carrier', 'Total.Fatal.Injuries',\n",
       "       'Total.Serious.Injuries', 'Total.Minor.Injuries', 'Total.Uninjured',\n",
       "       'Weather.Condition', 'Broad.phase.of.flight', 'Report.Status',\n",
       "       'Publication.Date'],\n",
       "      dtype='object')"
      ]
     },
     "execution_count": 159,
     "metadata": {},
     "output_type": "execute_result"
    }
   ],
   "source": [
    "df.columns"
   ]
  },
  {
   "cell_type": "code",
   "execution_count": 160,
   "id": "d92e9da3-435b-44b3-b03d-3cdf1633b74f",
   "metadata": {},
   "outputs": [
    {
     "data": {
      "text/plain": [
       "(88889, 17)"
      ]
     },
     "execution_count": 160,
     "metadata": {},
     "output_type": "execute_result"
    }
   ],
   "source": [
    "df2 = df.loc[:,relevant_columns]\n",
    "df2.shape"
   ]
  },
  {
   "cell_type": "markdown",
   "id": "3e3a14da-1129-468d-b0e0-2952277572a0",
   "metadata": {},
   "source": [
    "### DATA CLEANING"
   ]
  },
  {
   "cell_type": "code",
   "execution_count": 161,
   "id": "fe874c5d-3cf3-422e-906d-0d40f704757e",
   "metadata": {},
   "outputs": [
    {
     "data": {
      "text/plain": [
       "Investigation.Type            0\n",
       "Accident.Number               0\n",
       "Event.Date                    0\n",
       "Country                     226\n",
       "Injury.Severity            1000\n",
       "Aircraft.damage            3194\n",
       "Make                         63\n",
       "Model                        92\n",
       "Amateur.Built               102\n",
       "Number.of.Engines          6084\n",
       "Engine.Type                7096\n",
       "Purpose.of.flight          6192\n",
       "Total.Fatal.Injuries      11401\n",
       "Total.Serious.Injuries    12510\n",
       "Total.Minor.Injuries      11933\n",
       "Total.Uninjured            5912\n",
       "Weather.Condition          4492\n",
       "dtype: int64"
      ]
     },
     "execution_count": 161,
     "metadata": {},
     "output_type": "execute_result"
    }
   ],
   "source": [
    "df2.isna().sum()"
   ]
  },
  {
   "cell_type": "code",
   "execution_count": 162,
   "id": "12bb13aa-14a2-46d7-92ee-f7357229b87f",
   "metadata": {},
   "outputs": [
    {
     "data": {
      "text/plain": [
       "Country\n",
       "United States                       82248\n",
       "Brazil                                374\n",
       "Canada                                359\n",
       "Mexico                                358\n",
       "United Kingdom                        344\n",
       "                                    ...  \n",
       "Seychelles                              1\n",
       "Palau                                   1\n",
       "Libya                                   1\n",
       "Saint Vincent and the Grenadines        1\n",
       "Turks and Caicos Islands                1\n",
       "Name: count, Length: 219, dtype: int64"
      ]
     },
     "execution_count": 162,
     "metadata": {},
     "output_type": "execute_result"
    }
   ],
   "source": [
    "df2.Country.value_counts()"
   ]
  },
  {
   "cell_type": "code",
   "execution_count": 163,
   "id": "e7209747-e7ac-4ab3-abc9-6111428fc7ff",
   "metadata": {},
   "outputs": [],
   "source": [
    "# Drop null rows in COUNTRY\n",
    "\n",
    "df2 = df2[df2['Country'].notna()]"
   ]
  },
  {
   "cell_type": "code",
   "execution_count": 164,
   "id": "367ac470-9506-48b6-b600-e5dcc295398b",
   "metadata": {},
   "outputs": [
    {
     "data": {
      "text/plain": [
       "Injury.Severity\n",
       "Non-Fatal      67212\n",
       "Fatal(1)        6144\n",
       "Fatal           5262\n",
       "Fatal(2)        3695\n",
       "Incident        2199\n",
       "Fatal(3)        1137\n",
       "Fatal(4)         806\n",
       "Fatal(5)         233\n",
       "Minor            218\n",
       "Serious          173\n",
       "Fatal(6)         161\n",
       "Unavailable       95\n",
       "Fatal(7)          56\n",
       "Fatal(8)          51\n",
       "Fatal(10)         32\n",
       "Fatal(9)          17\n",
       "Fatal(14)         11\n",
       "Fatal(11)         10\n",
       "Fatal(13)          9\n",
       "Fatal(12)          8\n",
       "Name: count, dtype: int64"
      ]
     },
     "execution_count": 164,
     "metadata": {},
     "output_type": "execute_result"
    }
   ],
   "source": [
    "# INJURY SEVERITY\n",
    "\n",
    "df2['Injury.Severity'].value_counts()[:20]"
   ]
  },
  {
   "cell_type": "code",
   "execution_count": 165,
   "id": "8ef828a5-023a-4b53-aeb5-549b0e829478",
   "metadata": {},
   "outputs": [
    {
     "data": {
      "text/plain": [
       "1000"
      ]
     },
     "execution_count": 165,
     "metadata": {},
     "output_type": "execute_result"
    }
   ],
   "source": [
    "df2['Injury.Severity'].isna().sum()"
   ]
  },
  {
   "cell_type": "code",
   "execution_count": 166,
   "id": "a6555411-e97b-44bc-8155-8002d0fe101f",
   "metadata": {},
   "outputs": [],
   "source": [
    "# drop missing values\n",
    "df2 = df2[df2['Injury.Severity'].notna()]"
   ]
  },
  {
   "cell_type": "code",
   "execution_count": 167,
   "id": "ea49e092-e65a-4d0d-b2a9-e1d275e66d76",
   "metadata": {},
   "outputs": [
    {
     "data": {
      "text/plain": [
       "Aircraft.damage\n",
       "Substantial    63848\n",
       "Destroyed      18480\n",
       "Minor           2570\n",
       "Unknown           92\n",
       "Name: count, dtype: int64"
      ]
     },
     "execution_count": 167,
     "metadata": {},
     "output_type": "execute_result"
    }
   ],
   "source": [
    "# AIRCRAFT DAMAGE\n",
    "\n",
    "df2['Aircraft.damage'].value_counts()"
   ]
  },
  {
   "cell_type": "code",
   "execution_count": 168,
   "id": "f38fc775-8e4a-46f1-a833-8b367cf4acd9",
   "metadata": {},
   "outputs": [
    {
     "data": {
      "text/plain": [
       "2673"
      ]
     },
     "execution_count": 168,
     "metadata": {},
     "output_type": "execute_result"
    }
   ],
   "source": [
    "# Unkown is a placeholder for missing values\n",
    "df2['Aircraft.damage'].isna().sum()"
   ]
  },
  {
   "cell_type": "code",
   "execution_count": 169,
   "id": "5f6c7df0-18fb-4929-80e5-d96dc9699211",
   "metadata": {},
   "outputs": [],
   "source": [
    "# drop missing values\n",
    "df2 = df2[df2['Aircraft.damage'].notna()]"
   ]
  },
  {
   "cell_type": "code",
   "execution_count": 170,
   "id": "e29cb167-d5c8-44ef-b404-ab559624de2c",
   "metadata": {},
   "outputs": [],
   "source": [
    "# MAKE\n",
    "\n",
    "df2 = df2[df2['Make'].notna()]\n"
   ]
  },
  {
   "cell_type": "code",
   "execution_count": 171,
   "id": "71d91d01-58ae-4f13-ab65-a84ef05017a3",
   "metadata": {},
   "outputs": [],
   "source": [
    "df2['Make'] = df2['Make'].str.lower()"
   ]
  },
  {
   "cell_type": "code",
   "execution_count": 172,
   "id": "4c492766-fa96-4801-9a5c-da6824c29633",
   "metadata": {},
   "outputs": [
    {
     "data": {
      "text/plain": [
       "Make\n",
       "cessna             26786\n",
       "piper              14697\n",
       "beech               5278\n",
       "bell                2581\n",
       "boeing              1440\n",
       "                   ...  \n",
       "slater                 1\n",
       "eaa chapter 229        1\n",
       "prudhomme              1\n",
       "o'hara bob             1\n",
       "orlican s r o          1\n",
       "Name: count, Length: 7511, dtype: int64"
      ]
     },
     "execution_count": 172,
     "metadata": {},
     "output_type": "execute_result"
    }
   ],
   "source": [
    "df2['Make'].value_counts()"
   ]
  },
  {
   "cell_type": "code",
   "execution_count": 173,
   "id": "5db05eb0-8e1a-406d-a28d-966c3892f859",
   "metadata": {},
   "outputs": [
    {
     "data": {
      "text/plain": [
       "Investigation.Type            0\n",
       "Accident.Number               0\n",
       "Event.Date                    0\n",
       "Country                       0\n",
       "Injury.Severity               0\n",
       "Aircraft.damage               0\n",
       "Make                          3\n",
       "Model                        43\n",
       "Amateur.Built                82\n",
       "Number.of.Engines          4523\n",
       "Engine.Type                5436\n",
       "Purpose.of.flight          4087\n",
       "Total.Fatal.Injuries      10898\n",
       "Total.Serious.Injuries    12169\n",
       "Total.Minor.Injuries      11459\n",
       "Total.Uninjured            5798\n",
       "Weather.Condition          2874\n",
       "dtype: int64"
      ]
     },
     "execution_count": 173,
     "metadata": {},
     "output_type": "execute_result"
    }
   ],
   "source": [
    "df2.isna().sum()"
   ]
  },
  {
   "cell_type": "code",
   "execution_count": 174,
   "id": "a0f6f885-6407-4a1b-a855-ca65d3c0c1f8",
   "metadata": {},
   "outputs": [],
   "source": [
    "# MODEL\n",
    "df2 = df2[df2['Model'].notna()]"
   ]
  },
  {
   "cell_type": "code",
   "execution_count": 108,
   "id": "e34cac7e-10d0-4db5-9ad3-84140af93b15",
   "metadata": {},
   "outputs": [],
   "source": [
    "df2['Model']  = df2.Model.str.lower()"
   ]
  },
  {
   "cell_type": "code",
   "execution_count": 175,
   "id": "40e2dbf0-79e5-4151-97e1-3154604efdc0",
   "metadata": {},
   "outputs": [
    {
     "data": {
      "text/plain": [
       "Model\n",
       "152             2350\n",
       "172             1721\n",
       "172N            1147\n",
       "PA-28-140        927\n",
       "150              817\n",
       "                ... \n",
       "BO-105 CBS-4       1\n",
       "B-757-23A          1\n",
       "COLT 240A          1\n",
       "CIRRUS-S           1\n",
       "M-8 EAGLE          1\n",
       "Name: count, Length: 11751, dtype: int64"
      ]
     },
     "execution_count": 175,
     "metadata": {},
     "output_type": "execute_result"
    }
   ],
   "source": [
    "df2.Model.value_counts()"
   ]
  },
  {
   "cell_type": "code",
   "execution_count": 176,
   "id": "71d02a08-9471-4bd9-b3fb-59a4fdb54db0",
   "metadata": {},
   "outputs": [
    {
     "data": {
      "text/plain": [
       "Investigation.Type            0\n",
       "Accident.Number               0\n",
       "Event.Date                    0\n",
       "Country                       0\n",
       "Injury.Severity               0\n",
       "Aircraft.damage               0\n",
       "Make                          3\n",
       "Model                         0\n",
       "Amateur.Built                81\n",
       "Number.of.Engines          4515\n",
       "Engine.Type                5421\n",
       "Purpose.of.flight          4080\n",
       "Total.Fatal.Injuries      10891\n",
       "Total.Serious.Injuries    12160\n",
       "Total.Minor.Injuries      11452\n",
       "Total.Uninjured            5794\n",
       "Weather.Condition          2865\n",
       "dtype: int64"
      ]
     },
     "execution_count": 176,
     "metadata": {},
     "output_type": "execute_result"
    }
   ],
   "source": [
    "df2.isna().sum()"
   ]
  },
  {
   "cell_type": "code",
   "execution_count": 177,
   "id": "1f82b50d-3550-4045-8b28-ca986f2720ac",
   "metadata": {},
   "outputs": [
    {
     "data": {
      "text/plain": [
       "Investigation.Type            0\n",
       "Accident.Number               0\n",
       "Event.Date                    0\n",
       "Country                       0\n",
       "Injury.Severity               0\n",
       "Aircraft.damage               0\n",
       "Make                          3\n",
       "Model                         0\n",
       "Amateur.Built                 0\n",
       "Number.of.Engines          4451\n",
       "Engine.Type                5359\n",
       "Purpose.of.flight          4032\n",
       "Total.Fatal.Injuries      10843\n",
       "Total.Serious.Injuries    12089\n",
       "Total.Minor.Injuries      11377\n",
       "Total.Uninjured            5737\n",
       "Weather.Condition          2825\n",
       "dtype: int64"
      ]
     },
     "execution_count": 177,
     "metadata": {},
     "output_type": "execute_result"
    }
   ],
   "source": [
    "# AMATEUR BUILT\n",
    "df2 = df2[df2['Amateur.Built'].notna()]\n",
    "df2.isna().sum()"
   ]
  },
  {
   "cell_type": "code",
   "execution_count": 178,
   "id": "ac93f85d-7f50-421a-8ef6-6a054da95160",
   "metadata": {},
   "outputs": [
    {
     "data": {
      "text/plain": [
       "Number.of.Engines\n",
       "1.0    68973\n",
       "2.0     9690\n",
       "0.0     1088\n",
       "3.0      321\n",
       "4.0      304\n",
       "8.0        2\n",
       "6.0        1\n",
       "Name: count, dtype: int64"
      ]
     },
     "execution_count": 178,
     "metadata": {},
     "output_type": "execute_result"
    }
   ],
   "source": [
    "# NUMBER OF ENGINES\n",
    "\n",
    "df2['Number.of.Engines'].value_counts()\n",
    "\n",
    "# 0.0 is an outlier. A plane can't have 0 engines"
   ]
  },
  {
   "cell_type": "code",
   "execution_count": 179,
   "id": "2dcee1f3-7309-4803-8384-c9bc525cdd62",
   "metadata": {},
   "outputs": [
    {
     "name": "stdout",
     "output_type": "stream",
     "text": [
      "<class 'pandas.core.frame.DataFrame'>\n",
      "Index: 84830 entries, 0 to 88886\n",
      "Data columns (total 17 columns):\n",
      " #   Column                  Non-Null Count  Dtype         \n",
      "---  ------                  --------------  -----         \n",
      " 0   Investigation.Type      84830 non-null  object        \n",
      " 1   Accident.Number         84830 non-null  object        \n",
      " 2   Event.Date              84830 non-null  datetime64[ns]\n",
      " 3   Country                 84830 non-null  object        \n",
      " 4   Injury.Severity         84830 non-null  object        \n",
      " 5   Aircraft.damage         84830 non-null  object        \n",
      " 6   Make                    84827 non-null  object        \n",
      " 7   Model                   84830 non-null  object        \n",
      " 8   Amateur.Built           84830 non-null  object        \n",
      " 9   Number.of.Engines       84830 non-null  float64       \n",
      " 10  Engine.Type             79471 non-null  object        \n",
      " 11  Purpose.of.flight       80798 non-null  object        \n",
      " 12  Total.Fatal.Injuries    73987 non-null  float64       \n",
      " 13  Total.Serious.Injuries  72741 non-null  float64       \n",
      " 14  Total.Minor.Injuries    73453 non-null  float64       \n",
      " 15  Total.Uninjured         79093 non-null  float64       \n",
      " 16  Weather.Condition       82005 non-null  object        \n",
      "dtypes: datetime64[ns](1), float64(5), object(11)\n",
      "memory usage: 11.6+ MB\n"
     ]
    }
   ],
   "source": [
    "# use median to fill the missing values.\n",
    "# Median and Mean are almost same and lie at 1\n",
    "df2['Number.of.Engines'] = df['Number.of.Engines'].fillna(df2['Number.of.Engines'].median())\n",
    "df2.info()"
   ]
  },
  {
   "cell_type": "code",
   "execution_count": 180,
   "id": "c1a24f82-7456-4800-9fee-fd207ac4a3a8",
   "metadata": {},
   "outputs": [
    {
     "data": {
      "text/plain": [
       "Number.of.Engines\n",
       "1.0    74512\n",
       "2.0     9690\n",
       "3.0      321\n",
       "4.0      304\n",
       "8.0        2\n",
       "6.0        1\n",
       "Name: count, dtype: int64"
      ]
     },
     "execution_count": 180,
     "metadata": {},
     "output_type": "execute_result"
    }
   ],
   "source": [
    "# Replace 'Number.of.Engines' with 1.0 where 'Number.of.Engines' is 0.0\n",
    "\n",
    "df2['Number.of.Engines'] = df2['Number.of.Engines'].replace(0.0, 1.0)\n",
    "\n",
    "\n",
    "df2['Number.of.Engines'].value_counts()"
   ]
  },
  {
   "cell_type": "code",
   "execution_count": 181,
   "id": "a042065d-49ff-49e7-bceb-b45efefe0966",
   "metadata": {},
   "outputs": [
    {
     "data": {
      "text/plain": [
       "Engine.Type\n",
       "Reciprocating      69017\n",
       "Turbo Shaft         3433\n",
       "Turbo Prop          3123\n",
       "Unknown             1802\n",
       "Turbo Fan           1547\n",
       "Turbo Jet            535\n",
       "Electric               8\n",
       "NONE                   2\n",
       "Hybrid Rocket          1\n",
       "Geared Turbofan        1\n",
       "LR                     1\n",
       "UNK                    1\n",
       "Name: count, dtype: int64"
      ]
     },
     "execution_count": 181,
     "metadata": {},
     "output_type": "execute_result"
    }
   ],
   "source": [
    "# ENGINE TYPE\n",
    "\n",
    "df2['Engine.Type'].value_counts()\n",
    "\n",
    "# Unkown, None, UNK, are not valid engine types"
   ]
  },
  {
   "cell_type": "code",
   "execution_count": 182,
   "id": "8e2ab4ec-e3cc-4891-9e53-872da562c7ba",
   "metadata": {},
   "outputs": [],
   "source": [
    "# Unkown, None, UNK, are not valid engine types so we drop\n",
    "\n",
    "df2 = df2[~df2['Engine.Type'].isin(['Unknown', 'NONE', 'UNK'])]\n"
   ]
  },
  {
   "cell_type": "code",
   "execution_count": 183,
   "id": "4597d48d-e929-463f-a15e-5e7b3817228c",
   "metadata": {},
   "outputs": [],
   "source": [
    "# drop the missing values\n",
    "df2 = df2[df2['Engine.Type'].notna()]"
   ]
  },
  {
   "cell_type": "code",
   "execution_count": 184,
   "id": "9eb80fb1-da3d-41bc-ae5d-7d8fc2e1e335",
   "metadata": {},
   "outputs": [
    {
     "data": {
      "text/plain": [
       "Investigation.Type            0\n",
       "Accident.Number               0\n",
       "Event.Date                    0\n",
       "Country                       0\n",
       "Injury.Severity               0\n",
       "Aircraft.damage               0\n",
       "Make                          0\n",
       "Model                         0\n",
       "Amateur.Built                 0\n",
       "Number.of.Engines             0\n",
       "Engine.Type                   0\n",
       "Purpose.of.flight          2133\n",
       "Total.Fatal.Injuries      10086\n",
       "Total.Serious.Injuries    11025\n",
       "Total.Minor.Injuries      10245\n",
       "Total.Uninjured            4906\n",
       "Weather.Condition           667\n",
       "dtype: int64"
      ]
     },
     "execution_count": 184,
     "metadata": {},
     "output_type": "execute_result"
    }
   ],
   "source": [
    "df2.isna().sum()"
   ]
  },
  {
   "cell_type": "code",
   "execution_count": 185,
   "id": "a95acd47-1e1f-4f96-9d41-6d94cabe0673",
   "metadata": {},
   "outputs": [
    {
     "data": {
      "text/plain": [
       "Purpose.of.flight\n",
       "Personal                     45931\n",
       "Instructional                 9937\n",
       "Unknown                       5190\n",
       "Aerial Application            4549\n",
       "Business                      3704\n",
       "Positioning                   1507\n",
       "Other Work Use                1070\n",
       "Ferry                          759\n",
       "Aerial Observation             679\n",
       "Public Aircraft                590\n",
       "Executive/corporate            489\n",
       "Flight Test                    360\n",
       "Skydiving                      167\n",
       "External Load                   97\n",
       "Banner Tow                      95\n",
       "Public Aircraft - Federal       92\n",
       "Air Race show                   69\n",
       "Public Aircraft - Local         68\n",
       "Public Aircraft - State         59\n",
       "Air Race/show                   48\n",
       "Glider Tow                      37\n",
       "Firefighting                    23\n",
       "Air Drop                         8\n",
       "PUBS                             2\n",
       "ASHO                             2\n",
       "PUBL                             1\n",
       "Name: count, dtype: int64"
      ]
     },
     "execution_count": 185,
     "metadata": {},
     "output_type": "execute_result"
    }
   ],
   "source": [
    "df2['Purpose.of.flight'].value_counts()"
   ]
  },
  {
   "cell_type": "code",
   "execution_count": 186,
   "id": "0832cb5a-68f7-4316-92e7-78e3f9e6a610",
   "metadata": {},
   "outputs": [
    {
     "data": {
      "text/plain": [
       "2133"
      ]
     },
     "execution_count": 186,
     "metadata": {},
     "output_type": "execute_result"
    }
   ],
   "source": [
    "df2['Purpose.of.flight'].isna().sum()"
   ]
  },
  {
   "cell_type": "code",
   "execution_count": 187,
   "id": "26b18c40-eccd-4e3d-a51f-475f6d985d17",
   "metadata": {},
   "outputs": [
    {
     "name": "stdout",
     "output_type": "stream",
     "text": [
      "<class 'pandas.core.frame.DataFrame'>\n",
      "Index: 75533 entries, 0 to 88767\n",
      "Data columns (total 17 columns):\n",
      " #   Column                  Non-Null Count  Dtype         \n",
      "---  ------                  --------------  -----         \n",
      " 0   Investigation.Type      75533 non-null  object        \n",
      " 1   Accident.Number         75533 non-null  object        \n",
      " 2   Event.Date              75533 non-null  datetime64[ns]\n",
      " 3   Country                 75533 non-null  object        \n",
      " 4   Injury.Severity         75533 non-null  object        \n",
      " 5   Aircraft.damage         75533 non-null  object        \n",
      " 6   Make                    75533 non-null  object        \n",
      " 7   Model                   75533 non-null  object        \n",
      " 8   Amateur.Built           75533 non-null  object        \n",
      " 9   Number.of.Engines       75533 non-null  float64       \n",
      " 10  Engine.Type             75533 non-null  object        \n",
      " 11  Purpose.of.flight       75533 non-null  object        \n",
      " 12  Total.Fatal.Injuries    66138 non-null  float64       \n",
      " 13  Total.Serious.Injuries  65256 non-null  float64       \n",
      " 14  Total.Minor.Injuries    65980 non-null  float64       \n",
      " 15  Total.Uninjured         70833 non-null  float64       \n",
      " 16  Weather.Condition       75200 non-null  object        \n",
      "dtypes: datetime64[ns](1), float64(5), object(11)\n",
      "memory usage: 10.4+ MB\n"
     ]
    }
   ],
   "source": [
    "# we can drop the missing values in Purpose.of.flight\n",
    "df2 = df2[df2['Purpose.of.flight'].notna()]\n",
    "df2.info()"
   ]
  },
  {
   "cell_type": "code",
   "execution_count": 188,
   "id": "a298cb5a-2350-4d26-9439-71bb14cdff4f",
   "metadata": {},
   "outputs": [
    {
     "data": {
      "text/plain": [
       "0.4531131875774895"
      ]
     },
     "execution_count": 188,
     "metadata": {},
     "output_type": "execute_result"
    }
   ],
   "source": [
    "# TOTAL FATAL INJURIES\n",
    "\n",
    "df2['Total.Fatal.Injuries'].mean()"
   ]
  },
  {
   "cell_type": "code",
   "execution_count": 189,
   "id": "1731f133-ce3c-4f63-b552-71ff6492882f",
   "metadata": {},
   "outputs": [
    {
     "data": {
      "text/plain": [
       "0.0"
      ]
     },
     "execution_count": 189,
     "metadata": {},
     "output_type": "execute_result"
    }
   ],
   "source": [
    "df2['Total.Fatal.Injuries'].median()"
   ]
  },
  {
   "cell_type": "code",
   "execution_count": 190,
   "id": "b673b183-42b8-4936-aced-4a46a940b60d",
   "metadata": {},
   "outputs": [
    {
     "data": {
      "text/plain": [
       "9395"
      ]
     },
     "execution_count": 190,
     "metadata": {},
     "output_type": "execute_result"
    }
   ],
   "source": [
    "df2['Total.Fatal.Injuries'].isna().sum()"
   ]
  },
  {
   "cell_type": "code",
   "execution_count": 191,
   "id": "be110e88-3e93-4620-bfa9-f74eb5766a48",
   "metadata": {},
   "outputs": [],
   "source": [
    "# use median to fill missing values\n",
    "df2['Total.Fatal.Injuries'] = df2['Total.Fatal.Injuries'].fillna(df2['Total.Fatal.Injuries'].median())"
   ]
  },
  {
   "cell_type": "code",
   "execution_count": 192,
   "id": "f0b066bb-6ae9-4142-b447-9521064a333a",
   "metadata": {},
   "outputs": [
    {
     "data": {
      "text/plain": [
       "10277"
      ]
     },
     "execution_count": 192,
     "metadata": {},
     "output_type": "execute_result"
    }
   ],
   "source": [
    "#  Total.Serious.Injuries\n",
    "df2['Total.Serious.Injuries'].isna().sum()"
   ]
  },
  {
   "cell_type": "code",
   "execution_count": 193,
   "id": "c6e569bf-e87c-43e4-a91b-fe27e7915393",
   "metadata": {},
   "outputs": [
    {
     "data": {
      "text/plain": [
       "0.23436925340198603"
      ]
     },
     "execution_count": 193,
     "metadata": {},
     "output_type": "execute_result"
    }
   ],
   "source": [
    "df2['Total.Serious.Injuries'].mean()"
   ]
  },
  {
   "cell_type": "code",
   "execution_count": 194,
   "id": "75de2219-3185-4a48-9b3f-9ebe045e4278",
   "metadata": {},
   "outputs": [
    {
     "data": {
      "text/plain": [
       "0.0"
      ]
     },
     "execution_count": 194,
     "metadata": {},
     "output_type": "execute_result"
    }
   ],
   "source": [
    "df2['Total.Serious.Injuries'].median()"
   ]
  },
  {
   "cell_type": "code",
   "execution_count": 195,
   "id": "36544ff9-ddd3-4ab9-9640-459727e97991",
   "metadata": {},
   "outputs": [
    {
     "name": "stdout",
     "output_type": "stream",
     "text": [
      "<class 'pandas.core.frame.DataFrame'>\n",
      "Index: 75533 entries, 0 to 88767\n",
      "Data columns (total 17 columns):\n",
      " #   Column                  Non-Null Count  Dtype         \n",
      "---  ------                  --------------  -----         \n",
      " 0   Investigation.Type      75533 non-null  object        \n",
      " 1   Accident.Number         75533 non-null  object        \n",
      " 2   Event.Date              75533 non-null  datetime64[ns]\n",
      " 3   Country                 75533 non-null  object        \n",
      " 4   Injury.Severity         75533 non-null  object        \n",
      " 5   Aircraft.damage         75533 non-null  object        \n",
      " 6   Make                    75533 non-null  object        \n",
      " 7   Model                   75533 non-null  object        \n",
      " 8   Amateur.Built           75533 non-null  object        \n",
      " 9   Number.of.Engines       75533 non-null  float64       \n",
      " 10  Engine.Type             75533 non-null  object        \n",
      " 11  Purpose.of.flight       75533 non-null  object        \n",
      " 12  Total.Fatal.Injuries    75533 non-null  float64       \n",
      " 13  Total.Serious.Injuries  75533 non-null  float64       \n",
      " 14  Total.Minor.Injuries    65980 non-null  float64       \n",
      " 15  Total.Uninjured         70833 non-null  float64       \n",
      " 16  Weather.Condition       75200 non-null  object        \n",
      "dtypes: datetime64[ns](1), float64(5), object(11)\n",
      "memory usage: 10.4+ MB\n"
     ]
    }
   ],
   "source": [
    "df2['Total.Serious.Injuries'] = df2['Total.Serious.Injuries'].fillna(df2['Total.Serious.Injuries'].median())\n",
    "df2.info()"
   ]
  },
  {
   "cell_type": "code",
   "execution_count": 196,
   "id": "07e36f46-284d-496e-8208-3075bf154cd3",
   "metadata": {},
   "outputs": [
    {
     "data": {
      "text/plain": [
       "0.3210518338890573"
      ]
     },
     "execution_count": 196,
     "metadata": {},
     "output_type": "execute_result"
    }
   ],
   "source": [
    "# MINOR INJURIES\n",
    "\n",
    "df2['Total.Minor.Injuries'].mean()"
   ]
  },
  {
   "cell_type": "code",
   "execution_count": 197,
   "id": "32fc0f0b-6173-41c7-85b8-88228151b2a4",
   "metadata": {},
   "outputs": [
    {
     "data": {
      "text/plain": [
       "0.0"
      ]
     },
     "execution_count": 197,
     "metadata": {},
     "output_type": "execute_result"
    }
   ],
   "source": [
    "df2['Total.Minor.Injuries'].median()"
   ]
  },
  {
   "cell_type": "code",
   "execution_count": 198,
   "id": "cec0921d-9178-4384-97f0-9c08668e1cb1",
   "metadata": {},
   "outputs": [
    {
     "data": {
      "text/plain": [
       "9553"
      ]
     },
     "execution_count": 198,
     "metadata": {},
     "output_type": "execute_result"
    }
   ],
   "source": [
    "df2['Total.Minor.Injuries'].isna().sum()"
   ]
  },
  {
   "cell_type": "code",
   "execution_count": 199,
   "id": "4ce34420-70ed-4673-8e7c-a6e37791ae33",
   "metadata": {},
   "outputs": [
    {
     "name": "stdout",
     "output_type": "stream",
     "text": [
      "<class 'pandas.core.frame.DataFrame'>\n",
      "Index: 75533 entries, 0 to 88767\n",
      "Data columns (total 17 columns):\n",
      " #   Column                  Non-Null Count  Dtype         \n",
      "---  ------                  --------------  -----         \n",
      " 0   Investigation.Type      75533 non-null  object        \n",
      " 1   Accident.Number         75533 non-null  object        \n",
      " 2   Event.Date              75533 non-null  datetime64[ns]\n",
      " 3   Country                 75533 non-null  object        \n",
      " 4   Injury.Severity         75533 non-null  object        \n",
      " 5   Aircraft.damage         75533 non-null  object        \n",
      " 6   Make                    75533 non-null  object        \n",
      " 7   Model                   75533 non-null  object        \n",
      " 8   Amateur.Built           75533 non-null  object        \n",
      " 9   Number.of.Engines       75533 non-null  float64       \n",
      " 10  Engine.Type             75533 non-null  object        \n",
      " 11  Purpose.of.flight       75533 non-null  object        \n",
      " 12  Total.Fatal.Injuries    75533 non-null  float64       \n",
      " 13  Total.Serious.Injuries  75533 non-null  float64       \n",
      " 14  Total.Minor.Injuries    75533 non-null  float64       \n",
      " 15  Total.Uninjured         70833 non-null  float64       \n",
      " 16  Weather.Condition       75200 non-null  object        \n",
      "dtypes: datetime64[ns](1), float64(5), object(11)\n",
      "memory usage: 10.4+ MB\n"
     ]
    }
   ],
   "source": [
    "df2['Total.Minor.Injuries'] = df2['Total.Minor.Injuries'].fillna(df2['Total.Minor.Injuries'].median())\n",
    "df2.info()"
   ]
  },
  {
   "cell_type": "code",
   "execution_count": 200,
   "id": "e726c044-84f1-4d40-ad46-550070bee64e",
   "metadata": {},
   "outputs": [
    {
     "data": {
      "text/plain": [
       "2.3258368274674233"
      ]
     },
     "execution_count": 200,
     "metadata": {},
     "output_type": "execute_result"
    }
   ],
   "source": [
    "# TOTAL UNINJURED\n",
    "\n",
    "df2['Total.Uninjured'].mean()"
   ]
  },
  {
   "cell_type": "code",
   "execution_count": 201,
   "id": "c1377aba-680c-4db8-9235-c9fdc948c5a7",
   "metadata": {},
   "outputs": [
    {
     "data": {
      "text/plain": [
       "1.0"
      ]
     },
     "execution_count": 201,
     "metadata": {},
     "output_type": "execute_result"
    }
   ],
   "source": [
    "df2['Total.Uninjured'].median()"
   ]
  },
  {
   "cell_type": "code",
   "execution_count": 202,
   "id": "e931a41f-7699-4495-b9bc-2a8629bbc66a",
   "metadata": {},
   "outputs": [
    {
     "data": {
      "text/plain": [
       "4700"
      ]
     },
     "execution_count": 202,
     "metadata": {},
     "output_type": "execute_result"
    }
   ],
   "source": [
    "df2['Total.Uninjured'].isna().sum()"
   ]
  },
  {
   "cell_type": "code",
   "execution_count": 203,
   "id": "6505c179-bc54-41d4-a7b8-5ff3a36f7ef0",
   "metadata": {},
   "outputs": [
    {
     "data": {
      "text/plain": [
       "Total.Uninjured\n",
       "0.0      24908\n",
       "1.0      23197\n",
       "2.0      14551\n",
       "3.0       3695\n",
       "4.0       2292\n",
       "         ...  \n",
       "254.0        1\n",
       "309.0        1\n",
       "194.0        1\n",
       "206.0        1\n",
       "252.0        1\n",
       "Name: count, Length: 264, dtype: int64"
      ]
     },
     "execution_count": 203,
     "metadata": {},
     "output_type": "execute_result"
    }
   ],
   "source": [
    "df2['Total.Uninjured'].value_counts()"
   ]
  },
  {
   "cell_type": "code",
   "execution_count": 204,
   "id": "d661bf4f-ca28-4921-aa61-f8bcfaad9361",
   "metadata": {},
   "outputs": [
    {
     "name": "stdout",
     "output_type": "stream",
     "text": [
      "<class 'pandas.core.frame.DataFrame'>\n",
      "Index: 75533 entries, 0 to 88767\n",
      "Data columns (total 17 columns):\n",
      " #   Column                  Non-Null Count  Dtype         \n",
      "---  ------                  --------------  -----         \n",
      " 0   Investigation.Type      75533 non-null  object        \n",
      " 1   Accident.Number         75533 non-null  object        \n",
      " 2   Event.Date              75533 non-null  datetime64[ns]\n",
      " 3   Country                 75533 non-null  object        \n",
      " 4   Injury.Severity         75533 non-null  object        \n",
      " 5   Aircraft.damage         75533 non-null  object        \n",
      " 6   Make                    75533 non-null  object        \n",
      " 7   Model                   75533 non-null  object        \n",
      " 8   Amateur.Built           75533 non-null  object        \n",
      " 9   Number.of.Engines       75533 non-null  float64       \n",
      " 10  Engine.Type             75533 non-null  object        \n",
      " 11  Purpose.of.flight       75533 non-null  object        \n",
      " 12  Total.Fatal.Injuries    75533 non-null  float64       \n",
      " 13  Total.Serious.Injuries  75533 non-null  float64       \n",
      " 14  Total.Minor.Injuries    75533 non-null  float64       \n",
      " 15  Total.Uninjured         75533 non-null  float64       \n",
      " 16  Weather.Condition       75200 non-null  object        \n",
      "dtypes: datetime64[ns](1), float64(5), object(11)\n",
      "memory usage: 10.4+ MB\n"
     ]
    }
   ],
   "source": [
    "df2['Total.Uninjured'] = df2['Total.Uninjured'].fillna(df2['Total.Uninjured'].median())\n",
    "df2.info()"
   ]
  },
  {
   "cell_type": "code",
   "execution_count": 205,
   "id": "3a8ddfab-582c-4479-9c47-12b11457098b",
   "metadata": {},
   "outputs": [
    {
     "data": {
      "text/plain": [
       "Weather.Condition\n",
       "VMC    69414\n",
       "IMC     5146\n",
       "UNK      564\n",
       "Unk       76\n",
       "Name: count, dtype: int64"
      ]
     },
     "execution_count": 205,
     "metadata": {},
     "output_type": "execute_result"
    }
   ],
   "source": [
    "df2['Weather.Condition'].value_counts()"
   ]
  },
  {
   "cell_type": "code",
   "execution_count": 206,
   "id": "896f88ca-15c6-4499-8099-339c02234090",
   "metadata": {},
   "outputs": [
    {
     "data": {
      "text/plain": [
       "333"
      ]
     },
     "execution_count": 206,
     "metadata": {},
     "output_type": "execute_result"
    }
   ],
   "source": [
    "df2['Weather.Condition'].isna().sum()"
   ]
  },
  {
   "cell_type": "code",
   "execution_count": 207,
   "id": "bfe7ff54-6225-4966-a3d4-085e8ee56760",
   "metadata": {},
   "outputs": [],
   "source": [
    "# UNK and Unk are place holders for missing values. we have to drop them.\n",
    "df2 = df2[df2['Weather.Condition'].notna()]"
   ]
  },
  {
   "cell_type": "code",
   "execution_count": 208,
   "id": "f6b3522c-5fc5-4fb2-a243-d25207633570",
   "metadata": {},
   "outputs": [],
   "source": [
    "df2 = df2[~df2['Weather.Condition'].isin(['UNK', 'Unk'])]"
   ]
  },
  {
   "cell_type": "code",
   "execution_count": 209,
   "id": "3f2ebcfb-93d7-41d6-94f0-2fb3c3f3a50b",
   "metadata": {},
   "outputs": [
    {
     "name": "stdout",
     "output_type": "stream",
     "text": [
      "<class 'pandas.core.frame.DataFrame'>\n",
      "Index: 74560 entries, 2 to 88767\n",
      "Data columns (total 17 columns):\n",
      " #   Column                  Non-Null Count  Dtype         \n",
      "---  ------                  --------------  -----         \n",
      " 0   Investigation.Type      74560 non-null  object        \n",
      " 1   Accident.Number         74560 non-null  object        \n",
      " 2   Event.Date              74560 non-null  datetime64[ns]\n",
      " 3   Country                 74560 non-null  object        \n",
      " 4   Injury.Severity         74560 non-null  object        \n",
      " 5   Aircraft.damage         74560 non-null  object        \n",
      " 6   Make                    74560 non-null  object        \n",
      " 7   Model                   74560 non-null  object        \n",
      " 8   Amateur.Built           74560 non-null  object        \n",
      " 9   Number.of.Engines       74560 non-null  float64       \n",
      " 10  Engine.Type             74560 non-null  object        \n",
      " 11  Purpose.of.flight       74560 non-null  object        \n",
      " 12  Total.Fatal.Injuries    74560 non-null  float64       \n",
      " 13  Total.Serious.Injuries  74560 non-null  float64       \n",
      " 14  Total.Minor.Injuries    74560 non-null  float64       \n",
      " 15  Total.Uninjured         74560 non-null  float64       \n",
      " 16  Weather.Condition       74560 non-null  object        \n",
      "dtypes: datetime64[ns](1), float64(5), object(11)\n",
      "memory usage: 10.2+ MB\n"
     ]
    }
   ],
   "source": [
    "df2.info()"
   ]
  },
  {
   "cell_type": "markdown",
   "id": "d734d287-7973-4ecc-b2b8-b55380b104fa",
   "metadata": {},
   "source": [
    "### Visualizations"
   ]
  },
  {
   "cell_type": "markdown",
   "id": "27d43fe8-4de2-4f36-87aa-0b2539a66140",
   "metadata": {},
   "source": [
    "What determines aircraft that are lowest risk"
   ]
  },
  {
   "cell_type": "markdown",
   "id": "64f3ffc4-ea19-4aea-9523-270a4323b596",
   "metadata": {},
   "source": [
    "Questions to ask. \n"
   ]
  },
  {
   "cell_type": "code",
   "execution_count": 210,
   "id": "d7d443a8-c32f-4b4e-a664-b71dd0f62f6d",
   "metadata": {},
   "outputs": [
    {
     "name": "stdout",
     "output_type": "stream",
     "text": [
      "<class 'pandas.core.frame.DataFrame'>\n",
      "Index: 74560 entries, 2 to 88767\n",
      "Data columns (total 17 columns):\n",
      " #   Column                  Non-Null Count  Dtype         \n",
      "---  ------                  --------------  -----         \n",
      " 0   Investigation.Type      74560 non-null  object        \n",
      " 1   Accident.Number         74560 non-null  object        \n",
      " 2   Event.Date              74560 non-null  datetime64[ns]\n",
      " 3   Country                 74560 non-null  object        \n",
      " 4   Injury.Severity         74560 non-null  object        \n",
      " 5   Aircraft.damage         74560 non-null  object        \n",
      " 6   Make                    74560 non-null  object        \n",
      " 7   Model                   74560 non-null  object        \n",
      " 8   Amateur.Built           74560 non-null  object        \n",
      " 9   Number.of.Engines       74560 non-null  float64       \n",
      " 10  Engine.Type             74560 non-null  object        \n",
      " 11  Purpose.of.flight       74560 non-null  object        \n",
      " 12  Total.Fatal.Injuries    74560 non-null  float64       \n",
      " 13  Total.Serious.Injuries  74560 non-null  float64       \n",
      " 14  Total.Minor.Injuries    74560 non-null  float64       \n",
      " 15  Total.Uninjured         74560 non-null  float64       \n",
      " 16  Weather.Condition       74560 non-null  object        \n",
      "dtypes: datetime64[ns](1), float64(5), object(11)\n",
      "memory usage: 10.2+ MB\n"
     ]
    }
   ],
   "source": [
    "df2.info()"
   ]
  },
  {
   "cell_type": "markdown",
   "id": "4ba77567-2502-4c96-a22f-04e4d7f6e2dc",
   "metadata": {},
   "source": [
    "First let's determine the Make and Model that has been involved in many Accidents"
   ]
  },
  {
   "cell_type": "code",
   "execution_count": 217,
   "id": "06ad117d-b2bb-46d0-bba1-d7649c42b928",
   "metadata": {},
   "outputs": [
    {
     "data": {
      "text/html": [
       "<div>\n",
       "<style scoped>\n",
       "    .dataframe tbody tr th:only-of-type {\n",
       "        vertical-align: middle;\n",
       "    }\n",
       "\n",
       "    .dataframe tbody tr th {\n",
       "        vertical-align: top;\n",
       "    }\n",
       "\n",
       "    .dataframe thead th {\n",
       "        text-align: right;\n",
       "    }\n",
       "</style>\n",
       "<table border=\"1\" class=\"dataframe\">\n",
       "  <thead>\n",
       "    <tr style=\"text-align: right;\">\n",
       "      <th></th>\n",
       "      <th>Make</th>\n",
       "      <th>Model</th>\n",
       "      <th>AccidentCount</th>\n",
       "    </tr>\n",
       "  </thead>\n",
       "  <tbody>\n",
       "    <tr>\n",
       "      <th>0</th>\n",
       "      <td>cessna</td>\n",
       "      <td>172M</td>\n",
       "      <td>758</td>\n",
       "    </tr>\n",
       "    <tr>\n",
       "      <th>1</th>\n",
       "      <td>rockwell</td>\n",
       "      <td>112</td>\n",
       "      <td>6</td>\n",
       "    </tr>\n",
       "    <tr>\n",
       "      <th>2</th>\n",
       "      <td>cessna</td>\n",
       "      <td>180</td>\n",
       "      <td>594</td>\n",
       "    </tr>\n",
       "    <tr>\n",
       "      <th>3</th>\n",
       "      <td>cessna</td>\n",
       "      <td>140</td>\n",
       "      <td>387</td>\n",
       "    </tr>\n",
       "    <tr>\n",
       "      <th>4</th>\n",
       "      <td>cessna</td>\n",
       "      <td>401B</td>\n",
       "      <td>5</td>\n",
       "    </tr>\n",
       "    <tr>\n",
       "      <th>...</th>\n",
       "      <td>...</td>\n",
       "      <td>...</td>\n",
       "      <td>...</td>\n",
       "    </tr>\n",
       "    <tr>\n",
       "      <th>15137</th>\n",
       "      <td>cessna</td>\n",
       "      <td>305C (0-1E)</td>\n",
       "      <td>1</td>\n",
       "    </tr>\n",
       "    <tr>\n",
       "      <th>15138</th>\n",
       "      <td>mossman michael d</td>\n",
       "      <td>ZENAIR CH 601 HD</td>\n",
       "      <td>1</td>\n",
       "    </tr>\n",
       "    <tr>\n",
       "      <th>15139</th>\n",
       "      <td>hibbard norman e</td>\n",
       "      <td>THORP T-18</td>\n",
       "      <td>1</td>\n",
       "    </tr>\n",
       "    <tr>\n",
       "      <th>15140</th>\n",
       "      <td>waszak arthur b</td>\n",
       "      <td>WITTMAN TAILWIND W10</td>\n",
       "      <td>1</td>\n",
       "    </tr>\n",
       "    <tr>\n",
       "      <th>15141</th>\n",
       "      <td>stephen j hoffman</td>\n",
       "      <td>MS-500</td>\n",
       "      <td>1</td>\n",
       "    </tr>\n",
       "  </tbody>\n",
       "</table>\n",
       "<p>15142 rows × 3 columns</p>\n",
       "</div>"
      ],
      "text/plain": [
       "                    Make                 Model  AccidentCount\n",
       "0                 cessna                  172M            758\n",
       "1               rockwell                   112              6\n",
       "2                 cessna                   180            594\n",
       "3                 cessna                   140            387\n",
       "4                 cessna                  401B              5\n",
       "...                  ...                   ...            ...\n",
       "15137             cessna           305C (0-1E)              1\n",
       "15138  mossman michael d      ZENAIR CH 601 HD              1\n",
       "15139   hibbard norman e            THORP T-18              1\n",
       "15140    waszak arthur b  WITTMAN TAILWIND W10              1\n",
       "15141  stephen j hoffman                MS-500              1\n",
       "\n",
       "[15142 rows x 3 columns]"
      ]
     },
     "execution_count": 217,
     "metadata": {},
     "output_type": "execute_result"
    }
   ],
   "source": [
    "make_model_group = df2.groupby(['Make', 'Model'], sort=False).size().reset_index(name='AccidentCount')\n",
    "make_model_group"
   ]
  },
  {
   "cell_type": "code",
   "execution_count": 219,
   "id": "8cc098dd-defc-46bf-94d8-f6f1d9c6c49a",
   "metadata": {},
   "outputs": [
    {
     "data": {
      "text/html": [
       "<div>\n",
       "<style scoped>\n",
       "    .dataframe tbody tr th:only-of-type {\n",
       "        vertical-align: middle;\n",
       "    }\n",
       "\n",
       "    .dataframe tbody tr th {\n",
       "        vertical-align: top;\n",
       "    }\n",
       "\n",
       "    .dataframe thead th {\n",
       "        text-align: right;\n",
       "    }\n",
       "</style>\n",
       "<table border=\"1\" class=\"dataframe\">\n",
       "  <thead>\n",
       "    <tr style=\"text-align: right;\">\n",
       "      <th></th>\n",
       "      <th>Make</th>\n",
       "      <th>Model</th>\n",
       "      <th>AccidentCount</th>\n",
       "    </tr>\n",
       "  </thead>\n",
       "  <tbody>\n",
       "    <tr>\n",
       "      <th>15</th>\n",
       "      <td>cessna</td>\n",
       "      <td>152</td>\n",
       "      <td>2295</td>\n",
       "    </tr>\n",
       "    <tr>\n",
       "      <th>13</th>\n",
       "      <td>cessna</td>\n",
       "      <td>172</td>\n",
       "      <td>1554</td>\n",
       "    </tr>\n",
       "    <tr>\n",
       "      <th>46</th>\n",
       "      <td>cessna</td>\n",
       "      <td>172N</td>\n",
       "      <td>1106</td>\n",
       "    </tr>\n",
       "    <tr>\n",
       "      <th>44</th>\n",
       "      <td>piper</td>\n",
       "      <td>PA-28-140</td>\n",
       "      <td>875</td>\n",
       "    </tr>\n",
       "    <tr>\n",
       "      <th>78</th>\n",
       "      <td>cessna</td>\n",
       "      <td>150</td>\n",
       "      <td>773</td>\n",
       "    </tr>\n",
       "    <tr>\n",
       "      <th>...</th>\n",
       "      <td>...</td>\n",
       "      <td>...</td>\n",
       "      <td>...</td>\n",
       "    </tr>\n",
       "    <tr>\n",
       "      <th>14216</th>\n",
       "      <td>d &amp; k aviation</td>\n",
       "      <td>BABY BELLE</td>\n",
       "      <td>1</td>\n",
       "    </tr>\n",
       "    <tr>\n",
       "      <th>14215</th>\n",
       "      <td>aircraft mfg &amp; dvlpmt co</td>\n",
       "      <td>CH601XLi SLSA</td>\n",
       "      <td>1</td>\n",
       "    </tr>\n",
       "    <tr>\n",
       "      <th>14278</th>\n",
       "      <td>croft robert c</td>\n",
       "      <td>KITFOX SUPER SPORT</td>\n",
       "      <td>1</td>\n",
       "    </tr>\n",
       "    <tr>\n",
       "      <th>14203</th>\n",
       "      <td>gerald donovan</td>\n",
       "      <td>RANS S-16</td>\n",
       "      <td>1</td>\n",
       "    </tr>\n",
       "    <tr>\n",
       "      <th>15141</th>\n",
       "      <td>stephen j hoffman</td>\n",
       "      <td>MS-500</td>\n",
       "      <td>1</td>\n",
       "    </tr>\n",
       "  </tbody>\n",
       "</table>\n",
       "<p>15142 rows × 3 columns</p>\n",
       "</div>"
      ],
      "text/plain": [
       "                           Make               Model  AccidentCount\n",
       "15                       cessna                 152           2295\n",
       "13                       cessna                 172           1554\n",
       "46                       cessna                172N           1106\n",
       "44                        piper           PA-28-140            875\n",
       "78                       cessna                 150            773\n",
       "...                         ...                 ...            ...\n",
       "14216            d & k aviation          BABY BELLE              1\n",
       "14215  aircraft mfg & dvlpmt co       CH601XLi SLSA              1\n",
       "14278            croft robert c  KITFOX SUPER SPORT              1\n",
       "14203            gerald donovan           RANS S-16              1\n",
       "15141         stephen j hoffman              MS-500              1\n",
       "\n",
       "[15142 rows x 3 columns]"
      ]
     },
     "execution_count": 219,
     "metadata": {},
     "output_type": "execute_result"
    }
   ],
   "source": [
    "make_model_group = make_model_group.sort_values(by='AccidentCount', ascending=False)\n",
    "make_model_group"
   ]
  },
  {
   "cell_type": "code",
   "execution_count": 232,
   "id": "b4f55179-4767-44ab-ba30-6721014feb0b",
   "metadata": {},
   "outputs": [
    {
     "ename": "TypeError",
     "evalue": "can only concatenate str (not \"int\") to str",
     "output_type": "error",
     "traceback": [
      "\u001b[1;31m---------------------------------------------------------------------------\u001b[0m",
      "\u001b[1;31mTypeError\u001b[0m                                 Traceback (most recent call last)",
      "File \u001b[1;32m~\\anaconda3\\envs\\learn-env\\Lib\\site-packages\\pandas\\core\\ops\\array_ops.py:218\u001b[0m, in \u001b[0;36m_na_arithmetic_op\u001b[1;34m(left, right, op, is_cmp)\u001b[0m\n\u001b[0;32m    217\u001b[0m \u001b[38;5;28;01mtry\u001b[39;00m:\n\u001b[1;32m--> 218\u001b[0m     result \u001b[38;5;241m=\u001b[39m \u001b[43mfunc\u001b[49m\u001b[43m(\u001b[49m\u001b[43mleft\u001b[49m\u001b[43m,\u001b[49m\u001b[43m \u001b[49m\u001b[43mright\u001b[49m\u001b[43m)\u001b[49m\n\u001b[0;32m    219\u001b[0m \u001b[38;5;28;01mexcept\u001b[39;00m \u001b[38;5;167;01mTypeError\u001b[39;00m:\n",
      "File \u001b[1;32m~\\anaconda3\\envs\\learn-env\\Lib\\site-packages\\pandas\\core\\computation\\expressions.py:242\u001b[0m, in \u001b[0;36mevaluate\u001b[1;34m(op, a, b, use_numexpr)\u001b[0m\n\u001b[0;32m    240\u001b[0m     \u001b[38;5;28;01mif\u001b[39;00m use_numexpr:\n\u001b[0;32m    241\u001b[0m         \u001b[38;5;66;03m# error: \"None\" not callable\u001b[39;00m\n\u001b[1;32m--> 242\u001b[0m         \u001b[38;5;28;01mreturn\u001b[39;00m \u001b[43m_evaluate\u001b[49m\u001b[43m(\u001b[49m\u001b[43mop\u001b[49m\u001b[43m,\u001b[49m\u001b[43m \u001b[49m\u001b[43mop_str\u001b[49m\u001b[43m,\u001b[49m\u001b[43m \u001b[49m\u001b[43ma\u001b[49m\u001b[43m,\u001b[49m\u001b[43m \u001b[49m\u001b[43mb\u001b[49m\u001b[43m)\u001b[49m  \u001b[38;5;66;03m# type: ignore[misc]\u001b[39;00m\n\u001b[0;32m    243\u001b[0m \u001b[38;5;28;01mreturn\u001b[39;00m _evaluate_standard(op, op_str, a, b)\n",
      "File \u001b[1;32m~\\anaconda3\\envs\\learn-env\\Lib\\site-packages\\pandas\\core\\computation\\expressions.py:131\u001b[0m, in \u001b[0;36m_evaluate_numexpr\u001b[1;34m(op, op_str, a, b)\u001b[0m\n\u001b[0;32m    130\u001b[0m \u001b[38;5;28;01mif\u001b[39;00m result \u001b[38;5;129;01mis\u001b[39;00m \u001b[38;5;28;01mNone\u001b[39;00m:\n\u001b[1;32m--> 131\u001b[0m     result \u001b[38;5;241m=\u001b[39m \u001b[43m_evaluate_standard\u001b[49m\u001b[43m(\u001b[49m\u001b[43mop\u001b[49m\u001b[43m,\u001b[49m\u001b[43m \u001b[49m\u001b[43mop_str\u001b[49m\u001b[43m,\u001b[49m\u001b[43m \u001b[49m\u001b[43ma\u001b[49m\u001b[43m,\u001b[49m\u001b[43m \u001b[49m\u001b[43mb\u001b[49m\u001b[43m)\u001b[49m\n\u001b[0;32m    133\u001b[0m \u001b[38;5;28;01mreturn\u001b[39;00m result\n",
      "File \u001b[1;32m~\\anaconda3\\envs\\learn-env\\Lib\\site-packages\\pandas\\core\\computation\\expressions.py:73\u001b[0m, in \u001b[0;36m_evaluate_standard\u001b[1;34m(op, op_str, a, b)\u001b[0m\n\u001b[0;32m     72\u001b[0m     _store_test_result(\u001b[38;5;28;01mFalse\u001b[39;00m)\n\u001b[1;32m---> 73\u001b[0m \u001b[38;5;28;01mreturn\u001b[39;00m \u001b[43mop\u001b[49m\u001b[43m(\u001b[49m\u001b[43ma\u001b[49m\u001b[43m,\u001b[49m\u001b[43m \u001b[49m\u001b[43mb\u001b[49m\u001b[43m)\u001b[49m\n",
      "\u001b[1;31mTypeError\u001b[0m: can only concatenate str (not \"int\") to str",
      "\nDuring handling of the above exception, another exception occurred:\n",
      "\u001b[1;31mTypeError\u001b[0m                                 Traceback (most recent call last)",
      "Cell \u001b[1;32mIn[232], line 5\u001b[0m\n\u001b[0;32m      1\u001b[0m \u001b[38;5;66;03m# plotting the top 10 make and model \u001b[39;00m\n\u001b[0;32m      3\u001b[0m fig, ax \u001b[38;5;241m=\u001b[39m plt\u001b[38;5;241m.\u001b[39msubplots(figsize\u001b[38;5;241m=\u001b[39m(\u001b[38;5;241m8\u001b[39m,\u001b[38;5;241m6\u001b[39m))\n\u001b[1;32m----> 5\u001b[0m ax\u001b[38;5;241m.\u001b[39mbarh(\u001b[43mmake_model_group\u001b[49m\u001b[43m[\u001b[49m\u001b[38;5;124;43m'\u001b[39;49m\u001b[38;5;124;43mMake\u001b[39;49m\u001b[38;5;124;43m'\u001b[39;49m\u001b[43m]\u001b[49m\u001b[43m[\u001b[49m\u001b[43m:\u001b[49m\u001b[38;5;241;43m10\u001b[39;49m\u001b[43m]\u001b[49m\u001b[43m \u001b[49m\u001b[38;5;241;43m+\u001b[39;49m\u001b[43m \u001b[49m\u001b[38;5;124;43m'\u001b[39;49m\u001b[38;5;124;43m \u001b[39;49m\u001b[38;5;124;43m'\u001b[39;49m\u001b[38;5;241;43m+\u001b[39;49m\u001b[43m \u001b[49m\u001b[43mmake_model_group\u001b[49m\u001b[43m[\u001b[49m\u001b[38;5;124;43m'\u001b[39;49m\u001b[38;5;124;43mModel\u001b[39;49m\u001b[38;5;124;43m'\u001b[39;49m\u001b[43m]\u001b[49m\u001b[43m[\u001b[49m\u001b[43m:\u001b[49m\u001b[38;5;241;43m10\u001b[39;49m\u001b[43m]\u001b[49m, make_model_group[\u001b[38;5;124m'\u001b[39m\u001b[38;5;124mAccidentCount\u001b[39m\u001b[38;5;124m'\u001b[39m][:\u001b[38;5;241m10\u001b[39m])\n\u001b[0;32m      6\u001b[0m ax\u001b[38;5;241m.\u001b[39mset_xlabel(\u001b[38;5;124m'\u001b[39m\u001b[38;5;124mNumber of Accidents\u001b[39m\u001b[38;5;124m'\u001b[39m)\n\u001b[0;32m      7\u001b[0m ax\u001b[38;5;241m.\u001b[39mset_ylabel(\u001b[38;5;124m'\u001b[39m\u001b[38;5;124mMake and Model\u001b[39m\u001b[38;5;124m'\u001b[39m)\n",
      "File \u001b[1;32m~\\anaconda3\\envs\\learn-env\\Lib\\site-packages\\pandas\\core\\ops\\common.py:76\u001b[0m, in \u001b[0;36m_unpack_zerodim_and_defer.<locals>.new_method\u001b[1;34m(self, other)\u001b[0m\n\u001b[0;32m     72\u001b[0m             \u001b[38;5;28;01mreturn\u001b[39;00m \u001b[38;5;28mNotImplemented\u001b[39m\n\u001b[0;32m     74\u001b[0m other \u001b[38;5;241m=\u001b[39m item_from_zerodim(other)\n\u001b[1;32m---> 76\u001b[0m \u001b[38;5;28;01mreturn\u001b[39;00m \u001b[43mmethod\u001b[49m\u001b[43m(\u001b[49m\u001b[38;5;28;43mself\u001b[39;49m\u001b[43m,\u001b[49m\u001b[43m \u001b[49m\u001b[43mother\u001b[49m\u001b[43m)\u001b[49m\n",
      "File \u001b[1;32m~\\anaconda3\\envs\\learn-env\\Lib\\site-packages\\pandas\\core\\arraylike.py:186\u001b[0m, in \u001b[0;36mOpsMixin.__add__\u001b[1;34m(self, other)\u001b[0m\n\u001b[0;32m     98\u001b[0m \u001b[38;5;129m@unpack_zerodim_and_defer\u001b[39m(\u001b[38;5;124m\"\u001b[39m\u001b[38;5;124m__add__\u001b[39m\u001b[38;5;124m\"\u001b[39m)\n\u001b[0;32m     99\u001b[0m \u001b[38;5;28;01mdef\u001b[39;00m \u001b[38;5;21m__add__\u001b[39m(\u001b[38;5;28mself\u001b[39m, other):\n\u001b[0;32m    100\u001b[0m \u001b[38;5;250m    \u001b[39m\u001b[38;5;124;03m\"\"\"\u001b[39;00m\n\u001b[0;32m    101\u001b[0m \u001b[38;5;124;03m    Get Addition of DataFrame and other, column-wise.\u001b[39;00m\n\u001b[0;32m    102\u001b[0m \n\u001b[1;32m   (...)\u001b[0m\n\u001b[0;32m    184\u001b[0m \u001b[38;5;124;03m    moose     3.0     NaN\u001b[39;00m\n\u001b[0;32m    185\u001b[0m \u001b[38;5;124;03m    \"\"\"\u001b[39;00m\n\u001b[1;32m--> 186\u001b[0m     \u001b[38;5;28;01mreturn\u001b[39;00m \u001b[38;5;28;43mself\u001b[39;49m\u001b[38;5;241;43m.\u001b[39;49m\u001b[43m_arith_method\u001b[49m\u001b[43m(\u001b[49m\u001b[43mother\u001b[49m\u001b[43m,\u001b[49m\u001b[43m \u001b[49m\u001b[43moperator\u001b[49m\u001b[38;5;241;43m.\u001b[39;49m\u001b[43madd\u001b[49m\u001b[43m)\u001b[49m\n",
      "File \u001b[1;32m~\\anaconda3\\envs\\learn-env\\Lib\\site-packages\\pandas\\core\\series.py:6126\u001b[0m, in \u001b[0;36mSeries._arith_method\u001b[1;34m(self, other, op)\u001b[0m\n\u001b[0;32m   6124\u001b[0m \u001b[38;5;28;01mdef\u001b[39;00m \u001b[38;5;21m_arith_method\u001b[39m(\u001b[38;5;28mself\u001b[39m, other, op):\n\u001b[0;32m   6125\u001b[0m     \u001b[38;5;28mself\u001b[39m, other \u001b[38;5;241m=\u001b[39m \u001b[38;5;28mself\u001b[39m\u001b[38;5;241m.\u001b[39m_align_for_op(other)\n\u001b[1;32m-> 6126\u001b[0m     \u001b[38;5;28;01mreturn\u001b[39;00m \u001b[43mbase\u001b[49m\u001b[38;5;241;43m.\u001b[39;49m\u001b[43mIndexOpsMixin\u001b[49m\u001b[38;5;241;43m.\u001b[39;49m\u001b[43m_arith_method\u001b[49m\u001b[43m(\u001b[49m\u001b[38;5;28;43mself\u001b[39;49m\u001b[43m,\u001b[49m\u001b[43m \u001b[49m\u001b[43mother\u001b[49m\u001b[43m,\u001b[49m\u001b[43m \u001b[49m\u001b[43mop\u001b[49m\u001b[43m)\u001b[49m\n",
      "File \u001b[1;32m~\\anaconda3\\envs\\learn-env\\Lib\\site-packages\\pandas\\core\\base.py:1382\u001b[0m, in \u001b[0;36mIndexOpsMixin._arith_method\u001b[1;34m(self, other, op)\u001b[0m\n\u001b[0;32m   1379\u001b[0m     rvalues \u001b[38;5;241m=\u001b[39m np\u001b[38;5;241m.\u001b[39marange(rvalues\u001b[38;5;241m.\u001b[39mstart, rvalues\u001b[38;5;241m.\u001b[39mstop, rvalues\u001b[38;5;241m.\u001b[39mstep)\n\u001b[0;32m   1381\u001b[0m \u001b[38;5;28;01mwith\u001b[39;00m np\u001b[38;5;241m.\u001b[39merrstate(\u001b[38;5;28mall\u001b[39m\u001b[38;5;241m=\u001b[39m\u001b[38;5;124m\"\u001b[39m\u001b[38;5;124mignore\u001b[39m\u001b[38;5;124m\"\u001b[39m):\n\u001b[1;32m-> 1382\u001b[0m     result \u001b[38;5;241m=\u001b[39m \u001b[43mops\u001b[49m\u001b[38;5;241;43m.\u001b[39;49m\u001b[43marithmetic_op\u001b[49m\u001b[43m(\u001b[49m\u001b[43mlvalues\u001b[49m\u001b[43m,\u001b[49m\u001b[43m \u001b[49m\u001b[43mrvalues\u001b[49m\u001b[43m,\u001b[49m\u001b[43m \u001b[49m\u001b[43mop\u001b[49m\u001b[43m)\u001b[49m\n\u001b[0;32m   1384\u001b[0m \u001b[38;5;28;01mreturn\u001b[39;00m \u001b[38;5;28mself\u001b[39m\u001b[38;5;241m.\u001b[39m_construct_result(result, name\u001b[38;5;241m=\u001b[39mres_name)\n",
      "File \u001b[1;32m~\\anaconda3\\envs\\learn-env\\Lib\\site-packages\\pandas\\core\\ops\\array_ops.py:283\u001b[0m, in \u001b[0;36marithmetic_op\u001b[1;34m(left, right, op)\u001b[0m\n\u001b[0;32m    279\u001b[0m     _bool_arith_check(op, left, right)  \u001b[38;5;66;03m# type: ignore[arg-type]\u001b[39;00m\n\u001b[0;32m    281\u001b[0m     \u001b[38;5;66;03m# error: Argument 1 to \"_na_arithmetic_op\" has incompatible type\u001b[39;00m\n\u001b[0;32m    282\u001b[0m     \u001b[38;5;66;03m# \"Union[ExtensionArray, ndarray[Any, Any]]\"; expected \"ndarray[Any, Any]\"\u001b[39;00m\n\u001b[1;32m--> 283\u001b[0m     res_values \u001b[38;5;241m=\u001b[39m \u001b[43m_na_arithmetic_op\u001b[49m\u001b[43m(\u001b[49m\u001b[43mleft\u001b[49m\u001b[43m,\u001b[49m\u001b[43m \u001b[49m\u001b[43mright\u001b[49m\u001b[43m,\u001b[49m\u001b[43m \u001b[49m\u001b[43mop\u001b[49m\u001b[43m)\u001b[49m  \u001b[38;5;66;03m# type: ignore[arg-type]\u001b[39;00m\n\u001b[0;32m    285\u001b[0m \u001b[38;5;28;01mreturn\u001b[39;00m res_values\n",
      "File \u001b[1;32m~\\anaconda3\\envs\\learn-env\\Lib\\site-packages\\pandas\\core\\ops\\array_ops.py:227\u001b[0m, in \u001b[0;36m_na_arithmetic_op\u001b[1;34m(left, right, op, is_cmp)\u001b[0m\n\u001b[0;32m    219\u001b[0m \u001b[38;5;28;01mexcept\u001b[39;00m \u001b[38;5;167;01mTypeError\u001b[39;00m:\n\u001b[0;32m    220\u001b[0m     \u001b[38;5;28;01mif\u001b[39;00m \u001b[38;5;129;01mnot\u001b[39;00m is_cmp \u001b[38;5;129;01mand\u001b[39;00m (\n\u001b[0;32m    221\u001b[0m         left\u001b[38;5;241m.\u001b[39mdtype \u001b[38;5;241m==\u001b[39m \u001b[38;5;28mobject\u001b[39m \u001b[38;5;129;01mor\u001b[39;00m \u001b[38;5;28mgetattr\u001b[39m(right, \u001b[38;5;124m\"\u001b[39m\u001b[38;5;124mdtype\u001b[39m\u001b[38;5;124m\"\u001b[39m, \u001b[38;5;28;01mNone\u001b[39;00m) \u001b[38;5;241m==\u001b[39m \u001b[38;5;28mobject\u001b[39m\n\u001b[0;32m    222\u001b[0m     ):\n\u001b[1;32m   (...)\u001b[0m\n\u001b[0;32m    225\u001b[0m         \u001b[38;5;66;03m# Don't do this for comparisons, as that will handle complex numbers\u001b[39;00m\n\u001b[0;32m    226\u001b[0m         \u001b[38;5;66;03m#  incorrectly, see GH#32047\u001b[39;00m\n\u001b[1;32m--> 227\u001b[0m         result \u001b[38;5;241m=\u001b[39m \u001b[43m_masked_arith_op\u001b[49m\u001b[43m(\u001b[49m\u001b[43mleft\u001b[49m\u001b[43m,\u001b[49m\u001b[43m \u001b[49m\u001b[43mright\u001b[49m\u001b[43m,\u001b[49m\u001b[43m \u001b[49m\u001b[43mop\u001b[49m\u001b[43m)\u001b[49m\n\u001b[0;32m    228\u001b[0m     \u001b[38;5;28;01melse\u001b[39;00m:\n\u001b[0;32m    229\u001b[0m         \u001b[38;5;28;01mraise\u001b[39;00m\n",
      "File \u001b[1;32m~\\anaconda3\\envs\\learn-env\\Lib\\site-packages\\pandas\\core\\ops\\array_ops.py:163\u001b[0m, in \u001b[0;36m_masked_arith_op\u001b[1;34m(x, y, op)\u001b[0m\n\u001b[0;32m    161\u001b[0m     \u001b[38;5;66;03m# See GH#5284, GH#5035, GH#19448 for historical reference\u001b[39;00m\n\u001b[0;32m    162\u001b[0m     \u001b[38;5;28;01mif\u001b[39;00m mask\u001b[38;5;241m.\u001b[39many():\n\u001b[1;32m--> 163\u001b[0m         result[mask] \u001b[38;5;241m=\u001b[39m \u001b[43mop\u001b[49m\u001b[43m(\u001b[49m\u001b[43mxrav\u001b[49m\u001b[43m[\u001b[49m\u001b[43mmask\u001b[49m\u001b[43m]\u001b[49m\u001b[43m,\u001b[49m\u001b[43m \u001b[49m\u001b[43myrav\u001b[49m\u001b[43m[\u001b[49m\u001b[43mmask\u001b[49m\u001b[43m]\u001b[49m\u001b[43m)\u001b[49m\n\u001b[0;32m    165\u001b[0m \u001b[38;5;28;01melse\u001b[39;00m:\n\u001b[0;32m    166\u001b[0m     \u001b[38;5;28;01mif\u001b[39;00m \u001b[38;5;129;01mnot\u001b[39;00m is_scalar(y):\n",
      "\u001b[1;31mTypeError\u001b[0m: can only concatenate str (not \"int\") to str"
     ]
    },
    {
     "data": {
      "image/png": "[encoded data removed]",
      "text/plain": [
       "<Figure size 800x600 with 1 Axes>"
      ]
     },
     "metadata": {},
     "output_type": "display_data"
    }
   ],
   "source": [
    "# plotting the top 10 make and model \n",
    "\n",
    "fig, ax = plt.subplots(figsize=(8,6))\n",
    "\n",
    "ax.barh(make_model_group['Make'][:10] + ' '+ make_model_group['Model'][:10], make_model_group['AccidentCount'][:10])\n",
    "ax.set_xlabel('Number of Accidents')\n",
    "ax.set_ylabel('Make and Model')\n",
    "ax.set_title('Top 10 Aircraft Makes and Models Involved in Accidents');"
   ]
  },
  {
   "cell_type": "code",
   "execution_count": null,
   "id": "826e1345-7cb7-4b0a-bbc8-1372ce178929",
   "metadata": {},
   "outputs": [],
   "source": []
  }
 ],
 "metadata": {
  "kernelspec": {
   "display_name": "Python (learn-env)",
   "language": "python",
   "name": "learn-env"
  },
  "language_info": {
   "codemirror_mode": {
    "name": "ipython",
    "version": 3
   },
   "file_extension": ".py",
   "mimetype": "text/x-python",
   "name": "python",
   "nbconvert_exporter": "python",
   "pygments_lexer": "ipython3",
   "version": "3.12.3"
  }
 },
 "nbformat": 4,
 "nbformat_minor": 5
}
