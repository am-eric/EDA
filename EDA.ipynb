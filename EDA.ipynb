{
 "cells": [
  {
   "cell_type": "markdown",
   "id": "e3f1df14-a5e9-416a-abde-f9391110f400",
   "metadata": {},
   "source": [
    "# EXPLORATORY DATA ANALYSIS"
   ]
  },
  {
   "cell_type": "markdown",
   "id": "649a10b9-bf04-4e5c-a2d1-da385fdc2c53",
   "metadata": {},
   "source": [
    "## Business Problem Understanding\n"
   ]
  },
  {
   "cell_type": "markdown",
   "id": "e2532774-154a-4e7a-96ec-6b0770eb5325",
   "metadata": {},
   "source": [
    "Company X is expanding in to new industries to diversify its portfolio. They are particularly interested in purchasing and operating airplanes for commercial and private enterprises. However, they do not have enough knowledge on the potential risks of aircrafts.\n",
    "\n",
    "**Task** \n",
    "- Determine which aircraft are the lowest risk for the company X to start this new endeavor. \n",
    "- Translate findings into actionable insights that the stake holders can use to help decide which aircraft to purchase. "
   ]
  },
  {
   "cell_type": "markdown",
   "id": "727d1c40-e134-4ded-8a7a-5912185ef5b1",
   "metadata": {},
   "source": [
    "## The Data"
   ]
  },
  {
   "cell_type": "markdown",
   "id": "3a8e150c-e662-4510-8526-e8ca655465e4",
   "metadata": {},
   "source": [
    "The data is from the National Transportation Safety Board that includes aviation accident data from 1962 to 2023 about civil aviation accidents and selected incidents in the United States and international waters. \n",
    "The dataset was obtained from Kaggle. https://www.kaggle.com/datasets/khsamaha/aviation-accident-database-synopses "
   ]
  },
  {
   "cell_type": "markdown",
   "id": "ed253e00-3ecb-4267-982b-1c381f133bb3",
   "metadata": {},
   "source": [
    "### Loading the Data"
   ]
  },
  {
   "cell_type": "code",
   "execution_count": 2,
   "id": "e5ac8d30-983e-41ea-811d-3c189e214bb1",
   "metadata": {},
   "outputs": [],
   "source": [
    "# import necessary libraries\n",
    "import pandas as pd"
   ]
  },
  {
   "cell_type": "code",
   "execution_count": 9,
   "id": "91046b6a-d16e-4670-84b6-96e7999a9bf4",
   "metadata": {},
   "outputs": [
    {
     "name": "stdout",
     "output_type": "stream",
     "text": [
      "Collecting openpyxl\n",
      "  Downloading openpyxl-3.1.3-py2.py3-none-any.whl.metadata (2.5 kB)\n",
      "Collecting et-xmlfile (from openpyxl)\n",
      "  Downloading et_xmlfile-1.1.0-py3-none-any.whl.metadata (1.8 kB)\n",
      "Downloading openpyxl-3.1.3-py2.py3-none-any.whl (251 kB)\n",
      "   ---------------------------------------- 0.0/251.3 kB ? eta -:--:--\n",
      "   - -------------------------------------- 10.2/251.3 kB ? eta -:--:--\n",
      "   - -------------------------------------- 10.2/251.3 kB ? eta -:--:--\n",
      "   - -------------------------------------- 10.2/251.3 kB ? eta -:--:--\n",
      "   ---- ---------------------------------- 30.7/251.3 kB 262.6 kB/s eta 0:00:01\n",
      "   ------ -------------------------------- 41.0/251.3 kB 217.9 kB/s eta 0:00:01\n",
      "   --------- ----------------------------- 61.4/251.3 kB 297.7 kB/s eta 0:00:01\n",
      "   ----------- --------------------------- 71.7/251.3 kB 302.7 kB/s eta 0:00:01\n",
      "   -------------- ------------------------ 92.2/251.3 kB 374.1 kB/s eta 0:00:01\n",
      "   -------------- ------------------------ 92.2/251.3 kB 374.1 kB/s eta 0:00:01\n",
      "   --------------------- ---------------- 143.4/251.3 kB 425.3 kB/s eta 0:00:01\n",
      "   --------------------- ---------------- 143.4/251.3 kB 425.3 kB/s eta 0:00:01\n",
      "   ----------------------------- -------- 194.6/251.3 kB 471.4 kB/s eta 0:00:01\n",
      "   ---------------------------------- --- 225.3/251.3 kB 528.4 kB/s eta 0:00:01\n",
      "   -------------------------------------- 251.3/251.3 kB 532.2 kB/s eta 0:00:00\n",
      "Downloading et_xmlfile-1.1.0-py3-none-any.whl (4.7 kB)\n",
      "Installing collected packages: et-xmlfile, openpyxl\n",
      "Successfully installed et-xmlfile-1.1.0 openpyxl-3.1.3\n"
     ]
    }
   ],
   "source": [
    "! pip install openpyxl  # add package to open excel files using python"
   ]
  },
  {
   "cell_type": "code",
   "execution_count": 95,
   "id": "045992b7-9997-4ae2-9003-520518a988a6",
   "metadata": {},
   "outputs": [
    {
     "data": {
      "text/html": [
       "<div>\n",
       "<style scoped>\n",
       "    .dataframe tbody tr th:only-of-type {\n",
       "        vertical-align: middle;\n",
       "    }\n",
       "\n",
       "    .dataframe tbody tr th {\n",
       "        vertical-align: top;\n",
       "    }\n",
       "\n",
       "    .dataframe thead th {\n",
       "        text-align: right;\n",
       "    }\n",
       "</style>\n",
       "<table border=\"1\" class=\"dataframe\">\n",
       "  <thead>\n",
       "    <tr style=\"text-align: right;\">\n",
       "      <th></th>\n",
       "      <th>Event.Id</th>\n",
       "      <th>Investigation.Type</th>\n",
       "      <th>Accident.Number</th>\n",
       "      <th>Event.Date</th>\n",
       "      <th>Location</th>\n",
       "      <th>Country</th>\n",
       "      <th>Latitude</th>\n",
       "      <th>Longitude</th>\n",
       "      <th>Airport.Code</th>\n",
       "      <th>Airport.Name</th>\n",
       "      <th>...</th>\n",
       "      <th>Purpose.of.flight</th>\n",
       "      <th>Air.carrier</th>\n",
       "      <th>Total.Fatal.Injuries</th>\n",
       "      <th>Total.Serious.Injuries</th>\n",
       "      <th>Total.Minor.Injuries</th>\n",
       "      <th>Total.Uninjured</th>\n",
       "      <th>Weather.Condition</th>\n",
       "      <th>Broad.phase.of.flight</th>\n",
       "      <th>Report.Status</th>\n",
       "      <th>Publication.Date</th>\n",
       "    </tr>\n",
       "  </thead>\n",
       "  <tbody>\n",
       "    <tr>\n",
       "      <th>0</th>\n",
       "      <td>20001218X45444</td>\n",
       "      <td>Accident</td>\n",
       "      <td>SEA87LA080</td>\n",
       "      <td>1948-10-24</td>\n",
       "      <td>MOOSE CREEK, ID</td>\n",
       "      <td>United States</td>\n",
       "      <td>NaN</td>\n",
       "      <td>NaN</td>\n",
       "      <td>NaN</td>\n",
       "      <td>NaN</td>\n",
       "      <td>...</td>\n",
       "      <td>Personal</td>\n",
       "      <td>NaN</td>\n",
       "      <td>2.0</td>\n",
       "      <td>0.0</td>\n",
       "      <td>0.0</td>\n",
       "      <td>0.0</td>\n",
       "      <td>UNK</td>\n",
       "      <td>Cruise</td>\n",
       "      <td>Probable Cause</td>\n",
       "      <td>NaT</td>\n",
       "    </tr>\n",
       "    <tr>\n",
       "      <th>1</th>\n",
       "      <td>20001218X45447</td>\n",
       "      <td>Accident</td>\n",
       "      <td>LAX94LA336</td>\n",
       "      <td>1962-07-19</td>\n",
       "      <td>BRIDGEPORT, CA</td>\n",
       "      <td>United States</td>\n",
       "      <td>NaN</td>\n",
       "      <td>NaN</td>\n",
       "      <td>NaN</td>\n",
       "      <td>NaN</td>\n",
       "      <td>...</td>\n",
       "      <td>Personal</td>\n",
       "      <td>NaN</td>\n",
       "      <td>4.0</td>\n",
       "      <td>0.0</td>\n",
       "      <td>0.0</td>\n",
       "      <td>0.0</td>\n",
       "      <td>UNK</td>\n",
       "      <td>Unknown</td>\n",
       "      <td>Probable Cause</td>\n",
       "      <td>1996-09-19</td>\n",
       "    </tr>\n",
       "    <tr>\n",
       "      <th>2</th>\n",
       "      <td>20061025X01555</td>\n",
       "      <td>Accident</td>\n",
       "      <td>NYC07LA005</td>\n",
       "      <td>1974-08-30</td>\n",
       "      <td>Saltville, VA</td>\n",
       "      <td>United States</td>\n",
       "      <td>36.922223</td>\n",
       "      <td>-81.878056</td>\n",
       "      <td>NaN</td>\n",
       "      <td>NaN</td>\n",
       "      <td>...</td>\n",
       "      <td>Personal</td>\n",
       "      <td>NaN</td>\n",
       "      <td>3.0</td>\n",
       "      <td>NaN</td>\n",
       "      <td>NaN</td>\n",
       "      <td>NaN</td>\n",
       "      <td>IMC</td>\n",
       "      <td>Cruise</td>\n",
       "      <td>Probable Cause</td>\n",
       "      <td>2007-02-26</td>\n",
       "    </tr>\n",
       "    <tr>\n",
       "      <th>3</th>\n",
       "      <td>20001218X45448</td>\n",
       "      <td>Accident</td>\n",
       "      <td>LAX96LA321</td>\n",
       "      <td>1977-06-19</td>\n",
       "      <td>EUREKA, CA</td>\n",
       "      <td>United States</td>\n",
       "      <td>NaN</td>\n",
       "      <td>NaN</td>\n",
       "      <td>NaN</td>\n",
       "      <td>NaN</td>\n",
       "      <td>...</td>\n",
       "      <td>Personal</td>\n",
       "      <td>NaN</td>\n",
       "      <td>2.0</td>\n",
       "      <td>0.0</td>\n",
       "      <td>0.0</td>\n",
       "      <td>0.0</td>\n",
       "      <td>IMC</td>\n",
       "      <td>Cruise</td>\n",
       "      <td>Probable Cause</td>\n",
       "      <td>2000-09-12</td>\n",
       "    </tr>\n",
       "    <tr>\n",
       "      <th>4</th>\n",
       "      <td>20041105X01764</td>\n",
       "      <td>Accident</td>\n",
       "      <td>CHI79FA064</td>\n",
       "      <td>1979-08-02</td>\n",
       "      <td>Canton, OH</td>\n",
       "      <td>United States</td>\n",
       "      <td>NaN</td>\n",
       "      <td>NaN</td>\n",
       "      <td>NaN</td>\n",
       "      <td>NaN</td>\n",
       "      <td>...</td>\n",
       "      <td>Personal</td>\n",
       "      <td>NaN</td>\n",
       "      <td>1.0</td>\n",
       "      <td>2.0</td>\n",
       "      <td>NaN</td>\n",
       "      <td>0.0</td>\n",
       "      <td>VMC</td>\n",
       "      <td>Approach</td>\n",
       "      <td>Probable Cause</td>\n",
       "      <td>1980-04-16</td>\n",
       "    </tr>\n",
       "  </tbody>\n",
       "</table>\n",
       "<p>5 rows × 31 columns</p>\n",
       "</div>"
      ],
      "text/plain": [
       "         Event.Id Investigation.Type Accident.Number Event.Date  \\\n",
       "0  20001218X45444           Accident      SEA87LA080 1948-10-24   \n",
       "1  20001218X45447           Accident      LAX94LA336 1962-07-19   \n",
       "2  20061025X01555           Accident      NYC07LA005 1974-08-30   \n",
       "3  20001218X45448           Accident      LAX96LA321 1977-06-19   \n",
       "4  20041105X01764           Accident      CHI79FA064 1979-08-02   \n",
       "\n",
       "          Location        Country   Latitude  Longitude Airport.Code  \\\n",
       "0  MOOSE CREEK, ID  United States        NaN        NaN          NaN   \n",
       "1   BRIDGEPORT, CA  United States        NaN        NaN          NaN   \n",
       "2    Saltville, VA  United States  36.922223 -81.878056          NaN   \n",
       "3       EUREKA, CA  United States        NaN        NaN          NaN   \n",
       "4       Canton, OH  United States        NaN        NaN          NaN   \n",
       "\n",
       "  Airport.Name  ... Purpose.of.flight Air.carrier Total.Fatal.Injuries  \\\n",
       "0          NaN  ...          Personal         NaN                  2.0   \n",
       "1          NaN  ...          Personal         NaN                  4.0   \n",
       "2          NaN  ...          Personal         NaN                  3.0   \n",
       "3          NaN  ...          Personal         NaN                  2.0   \n",
       "4          NaN  ...          Personal         NaN                  1.0   \n",
       "\n",
       "  Total.Serious.Injuries Total.Minor.Injuries Total.Uninjured  \\\n",
       "0                    0.0                  0.0             0.0   \n",
       "1                    0.0                  0.0             0.0   \n",
       "2                    NaN                  NaN             NaN   \n",
       "3                    0.0                  0.0             0.0   \n",
       "4                    2.0                  NaN             0.0   \n",
       "\n",
       "  Weather.Condition  Broad.phase.of.flight   Report.Status Publication.Date  \n",
       "0               UNK                 Cruise  Probable Cause              NaT  \n",
       "1               UNK                Unknown  Probable Cause       1996-09-19  \n",
       "2               IMC                 Cruise  Probable Cause       2007-02-26  \n",
       "3               IMC                 Cruise  Probable Cause       2000-09-12  \n",
       "4               VMC               Approach  Probable Cause       1980-04-16  \n",
       "\n",
       "[5 rows x 31 columns]"
      ]
     },
     "execution_count": 95,
     "metadata": {},
     "output_type": "execute_result"
    }
   ],
   "source": [
    "df = pd.read_excel(\"AviationData.xlsx\")\n",
    "df.head()"
   ]
  },
  {
   "cell_type": "code",
   "execution_count": 96,
   "id": "94de09b0-5225-407a-a60b-31535f82e1a3",
   "metadata": {},
   "outputs": [
    {
     "name": "stdout",
     "output_type": "stream",
     "text": [
      "<class 'pandas.core.frame.DataFrame'>\n",
      "RangeIndex: 88889 entries, 0 to 88888\n",
      "Data columns (total 31 columns):\n",
      " #   Column                  Non-Null Count  Dtype         \n",
      "---  ------                  --------------  -----         \n",
      " 0   Event.Id                88889 non-null  object        \n",
      " 1   Investigation.Type      88889 non-null  object        \n",
      " 2   Accident.Number         88889 non-null  object        \n",
      " 3   Event.Date              88889 non-null  datetime64[ns]\n",
      " 4   Location                88837 non-null  object        \n",
      " 5   Country                 88663 non-null  object        \n",
      " 6   Latitude                34382 non-null  object        \n",
      " 7   Longitude               34373 non-null  object        \n",
      " 8   Airport.Code            50132 non-null  object        \n",
      " 9   Airport.Name            52704 non-null  object        \n",
      " 10  Injury.Severity         87889 non-null  object        \n",
      " 11  Aircraft.damage         85695 non-null  object        \n",
      " 12  Aircraft.Category       32287 non-null  object        \n",
      " 13  Registration.Number     87507 non-null  object        \n",
      " 14  Make                    88826 non-null  object        \n",
      " 15  Model                   88797 non-null  object        \n",
      " 16  Amateur.Built           88787 non-null  object        \n",
      " 17  Number.of.Engines       82805 non-null  float64       \n",
      " 18  Engine.Type             81793 non-null  object        \n",
      " 19  FAR.Description         32023 non-null  object        \n",
      " 20  Schedule                12582 non-null  object        \n",
      " 21  Purpose.of.flight       82697 non-null  object        \n",
      " 22  Air.carrier             16648 non-null  object        \n",
      " 23  Total.Fatal.Injuries    77488 non-null  float64       \n",
      " 24  Total.Serious.Injuries  76379 non-null  float64       \n",
      " 25  Total.Minor.Injuries    76956 non-null  float64       \n",
      " 26  Total.Uninjured         82977 non-null  float64       \n",
      " 27  Weather.Condition       84397 non-null  object        \n",
      " 28  Broad.phase.of.flight   61724 non-null  object        \n",
      " 29  Report.Status           82505 non-null  object        \n",
      " 30  Publication.Date        75118 non-null  datetime64[ns]\n",
      "dtypes: datetime64[ns](2), float64(5), object(24)\n",
      "memory usage: 21.0+ MB\n"
     ]
    }
   ],
   "source": [
    "df.info()"
   ]
  },
  {
   "cell_type": "code",
   "execution_count": 97,
   "id": "90ae2823-9714-401b-8a73-c2cc953a9984",
   "metadata": {},
   "outputs": [
    {
     "data": {
      "text/plain": [
       "Event.Id                      0\n",
       "Investigation.Type            0\n",
       "Accident.Number               0\n",
       "Event.Date                    0\n",
       "Location                     52\n",
       "Country                     226\n",
       "Latitude                  54507\n",
       "Longitude                 54516\n",
       "Airport.Code              38757\n",
       "Airport.Name              36185\n",
       "Injury.Severity            1000\n",
       "Aircraft.damage            3194\n",
       "Aircraft.Category         56602\n",
       "Registration.Number        1382\n",
       "Make                         63\n",
       "Model                        92\n",
       "Amateur.Built               102\n",
       "Number.of.Engines          6084\n",
       "Engine.Type                7096\n",
       "FAR.Description           56866\n",
       "Schedule                  76307\n",
       "Purpose.of.flight          6192\n",
       "Air.carrier               72241\n",
       "Total.Fatal.Injuries      11401\n",
       "Total.Serious.Injuries    12510\n",
       "Total.Minor.Injuries      11933\n",
       "Total.Uninjured            5912\n",
       "Weather.Condition          4492\n",
       "Broad.phase.of.flight     27165\n",
       "Report.Status              6384\n",
       "Publication.Date          13771\n",
       "dtype: int64"
      ]
     },
     "execution_count": 97,
     "metadata": {},
     "output_type": "execute_result"
    }
   ],
   "source": [
    "# get the number of missing values\n",
    "df.isna().sum()"
   ]
  },
  {
   "cell_type": "markdown",
   "id": "0035cbc3-bba0-41e3-b46f-dfbbca676cc5",
   "metadata": {},
   "source": [
    "### Get relevant columns for our analysis"
   ]
  },
  {
   "cell_type": "code",
   "execution_count": 101,
   "id": "5ad6f28b-bb40-4676-99b2-82f34b80432c",
   "metadata": {},
   "outputs": [],
   "source": [
    "relevant_columns = [\n",
    "    'Event.Date',\n",
    "    'Investigation.Type',\n",
    "    'Accident.Number',\n",
    "    'Event.Date',\n",
    "    'Country',\n",
    "    'Injury.Severity',\n",
    "    'Aircraft.damage',\n",
    "    'Make',\n",
    "    'Model',\n",
    "    'Amateur.Built',\n",
    "    'Number.of.Engines',\n",
    "    'Engine.Type',\n",
    "    'Purpose.of.flight',\n",
    "    'Total.Fatal.Injuries',\n",
    "    'Total.Serious.Injuries',\n",
    "    'Total.Minor.Injuries',\n",
    "    'Total.Uninjured',\n",
    "    'Weather.Condition',\n",
    "    'Publication.Date'\n",
    "    \n",
    "]"
   ]
  },
  {
   "cell_type": "code",
   "execution_count": 102,
   "id": "706909d6-9bf6-4651-b969-acfb43c685bf",
   "metadata": {},
   "outputs": [
    {
     "data": {
      "text/plain": [
       "Index(['Event.Id', 'Investigation.Type', 'Accident.Number', 'Event.Date',\n",
       "       'Location', 'Country', 'Latitude', 'Longitude', 'Airport.Code',\n",
       "       'Airport.Name', 'Injury.Severity', 'Aircraft.damage',\n",
       "       'Aircraft.Category', 'Registration.Number', 'Make', 'Model',\n",
       "       'Amateur.Built', 'Number.of.Engines', 'Engine.Type', 'FAR.Description',\n",
       "       'Schedule', 'Purpose.of.flight', 'Air.carrier', 'Total.Fatal.Injuries',\n",
       "       'Total.Serious.Injuries', 'Total.Minor.Injuries', 'Total.Uninjured',\n",
       "       'Weather.Condition', 'Broad.phase.of.flight', 'Report.Status',\n",
       "       'Publication.Date'],\n",
       "      dtype='object')"
      ]
     },
     "execution_count": 102,
     "metadata": {},
     "output_type": "execute_result"
    }
   ],
   "source": [
    "df.columns"
   ]
  },
  {
   "cell_type": "code",
   "execution_count": 294,
   "id": "d92e9da3-435b-44b3-b03d-3cdf1633b74f",
   "metadata": {},
   "outputs": [
    {
     "data": {
      "text/plain": [
       "(88889, 19)"
      ]
     },
     "execution_count": 294,
     "metadata": {},
     "output_type": "execute_result"
    }
   ],
   "source": [
    "df2 = df.loc[:,relevant_columns]\n",
    "df2.shape"
   ]
  },
  {
   "cell_type": "code",
   "execution_count": 295,
   "id": "fe874c5d-3cf3-422e-906d-0d40f704757e",
   "metadata": {},
   "outputs": [
    {
     "data": {
      "text/plain": [
       "Event.Date                    0\n",
       "Investigation.Type            0\n",
       "Accident.Number               0\n",
       "Event.Date                    0\n",
       "Country                     226\n",
       "Injury.Severity            1000\n",
       "Aircraft.damage            3194\n",
       "Make                         63\n",
       "Model                        92\n",
       "Amateur.Built               102\n",
       "Number.of.Engines          6084\n",
       "Engine.Type                7096\n",
       "Purpose.of.flight          6192\n",
       "Total.Fatal.Injuries      11401\n",
       "Total.Serious.Injuries    12510\n",
       "Total.Minor.Injuries      11933\n",
       "Total.Uninjured            5912\n",
       "Weather.Condition          4492\n",
       "Publication.Date          13771\n",
       "dtype: int64"
      ]
     },
     "execution_count": 295,
     "metadata": {},
     "output_type": "execute_result"
    }
   ],
   "source": [
    "df2.isna().sum()"
   ]
  },
  {
   "cell_type": "code",
   "execution_count": 296,
   "id": "12bb13aa-14a2-46d7-92ee-f7357229b87f",
   "metadata": {},
   "outputs": [
    {
     "data": {
      "text/plain": [
       "Country\n",
       "United States                       82248\n",
       "Brazil                                374\n",
       "Canada                                359\n",
       "Mexico                                358\n",
       "United Kingdom                        344\n",
       "                                    ...  \n",
       "Seychelles                              1\n",
       "Palau                                   1\n",
       "Libya                                   1\n",
       "Saint Vincent and the Grenadines        1\n",
       "Turks and Caicos Islands                1\n",
       "Name: count, Length: 219, dtype: int64"
      ]
     },
     "execution_count": 296,
     "metadata": {},
     "output_type": "execute_result"
    }
   ],
   "source": [
    "df2.Country.value_counts()"
   ]
  },
  {
   "cell_type": "code",
   "execution_count": 297,
   "id": "e7209747-e7ac-4ab3-abc9-6111428fc7ff",
   "metadata": {},
   "outputs": [],
   "source": [
    "# Drop null rows in COUNTRY\n",
    "\n",
    "df2 = df2[df2['Country'].notna()]"
   ]
  },
  {
   "cell_type": "code",
   "execution_count": 298,
   "id": "45b6a93a-7e91-46f5-952d-09471b56436e",
   "metadata": {},
   "outputs": [
    {
     "name": "stdout",
     "output_type": "stream",
     "text": [
      "<class 'pandas.core.frame.DataFrame'>\n",
      "Index: 88663 entries, 0 to 88888\n",
      "Data columns (total 19 columns):\n",
      " #   Column                  Non-Null Count  Dtype         \n",
      "---  ------                  --------------  -----         \n",
      " 0   Event.Date              88663 non-null  datetime64[ns]\n",
      " 1   Investigation.Type      88663 non-null  object        \n",
      " 2   Accident.Number         88663 non-null  object        \n",
      " 3   Event.Date              88663 non-null  datetime64[ns]\n",
      " 4   Country                 88663 non-null  object        \n",
      " 5   Injury.Severity         87663 non-null  object        \n",
      " 6   Aircraft.damage         85485 non-null  object        \n",
      " 7   Make                    88601 non-null  object        \n",
      " 8   Model                   88572 non-null  object        \n",
      " 9   Amateur.Built           88561 non-null  object        \n",
      " 10  Number.of.Engines       82587 non-null  float64       \n",
      " 11  Engine.Type             81573 non-null  object        \n",
      " 12  Purpose.of.flight       82478 non-null  object        \n",
      " 13  Total.Fatal.Injuries    77273 non-null  float64       \n",
      " 14  Total.Serious.Injuries  76163 non-null  float64       \n",
      " 15  Total.Minor.Injuries    76740 non-null  float64       \n",
      " 16  Total.Uninjured         82760 non-null  float64       \n",
      " 17  Weather.Condition       84176 non-null  object        \n",
      " 18  Publication.Date        74949 non-null  datetime64[ns]\n",
      "dtypes: datetime64[ns](3), float64(5), object(11)\n",
      "memory usage: 13.5+ MB\n"
     ]
    }
   ],
   "source": [
    "df2.info()"
   ]
  },
  {
   "cell_type": "code",
   "execution_count": 299,
   "id": "7870c751-ec81-4bb9-854d-73ebaee77350",
   "metadata": {},
   "outputs": [
    {
     "data": {
      "text/plain": [
       "Event.Date                    0\n",
       "Investigation.Type            0\n",
       "Accident.Number               0\n",
       "Event.Date                    0\n",
       "Country                       0\n",
       "Injury.Severity            1000\n",
       "Aircraft.damage            3178\n",
       "Make                         62\n",
       "Model                        91\n",
       "Amateur.Built               102\n",
       "Number.of.Engines          6076\n",
       "Engine.Type                7090\n",
       "Purpose.of.flight          6185\n",
       "Total.Fatal.Injuries      11390\n",
       "Total.Serious.Injuries    12500\n",
       "Total.Minor.Injuries      11923\n",
       "Total.Uninjured            5903\n",
       "Weather.Condition          4487\n",
       "Publication.Date          13714\n",
       "dtype: int64"
      ]
     },
     "execution_count": 299,
     "metadata": {},
     "output_type": "execute_result"
    }
   ],
   "source": [
    "df2.isna().sum()"
   ]
  },
  {
   "cell_type": "code",
   "execution_count": 300,
   "id": "367ac470-9506-48b6-b600-e5dcc295398b",
   "metadata": {},
   "outputs": [
    {
     "data": {
      "text/plain": [
       "0    Non-Fatal\n",
       "Name: Injury.Severity, dtype: object"
      ]
     },
     "execution_count": 300,
     "metadata": {},
     "output_type": "execute_result"
    }
   ],
   "source": [
    "# INJURY SEVERITY\n",
    "\n",
    "df2['Injury.Severity'].mode()"
   ]
  },
  {
   "cell_type": "code",
   "execution_count": 301,
   "id": "ea49e092-e65a-4d0d-b2a9-e1d275e66d76",
   "metadata": {},
   "outputs": [
    {
     "data": {
      "text/plain": [
       "Aircraft.damage\n",
       "Substantial    64032\n",
       "Destroyed      18542\n",
       "Minor           2792\n",
       "Unknown          119\n",
       "Name: count, dtype: int64"
      ]
     },
     "execution_count": 301,
     "metadata": {},
     "output_type": "execute_result"
    }
   ],
   "source": [
    "# AIRCRAFT DAMAGE\n",
    "\n",
    "df2['Aircraft.damage'].value_counts()"
   ]
  },
  {
   "cell_type": "code",
   "execution_count": 302,
   "id": "e29cb167-d5c8-44ef-b404-ab559624de2c",
   "metadata": {},
   "outputs": [],
   "source": [
    "# MAKE\n",
    "\n",
    "df2 = df2[df2['Make'].notna()]"
   ]
  },
  {
   "cell_type": "code",
   "execution_count": 303,
   "id": "5db05eb0-8e1a-406d-a28d-966c3892f859",
   "metadata": {},
   "outputs": [
    {
     "data": {
      "text/plain": [
       "Event.Date                    0\n",
       "Investigation.Type            0\n",
       "Accident.Number               0\n",
       "Event.Date                    0\n",
       "Country                       0\n",
       "Injury.Severity             983\n",
       "Aircraft.damage            3161\n",
       "Make                          0\n",
       "Model                        49\n",
       "Amateur.Built               100\n",
       "Number.of.Engines          6028\n",
       "Engine.Type                7040\n",
       "Purpose.of.flight          6144\n",
       "Total.Fatal.Injuries      11384\n",
       "Total.Serious.Injuries    12491\n",
       "Total.Minor.Injuries      11913\n",
       "Total.Uninjured            5893\n",
       "Weather.Condition          4450\n",
       "Publication.Date          13711\n",
       "dtype: int64"
      ]
     },
     "execution_count": 303,
     "metadata": {},
     "output_type": "execute_result"
    }
   ],
   "source": [
    "df2.isna().sum()"
   ]
  },
  {
   "cell_type": "code",
   "execution_count": 304,
   "id": "a0f6f885-6407-4a1b-a855-ca65d3c0c1f8",
   "metadata": {},
   "outputs": [],
   "source": [
    "# MODEL\n",
    "df2 = df2[df2['Model'].notna()]"
   ]
  },
  {
   "cell_type": "code",
   "execution_count": 305,
   "id": "40e2dbf0-79e5-4151-97e1-3154604efdc0",
   "metadata": {},
   "outputs": [
    {
     "data": {
      "text/plain": [
       "Model\n",
       "152                   2367\n",
       "172                   1754\n",
       "172N                  1161\n",
       "PA-28-140              931\n",
       "150                    828\n",
       "                      ... \n",
       "CHALLENGER SPEC II       1\n",
       "125-800A                 1\n",
       "N2S-4                    1\n",
       "PV2                      1\n",
       "M-8 EAGLE                1\n",
       "Name: count, Length: 12294, dtype: int64"
      ]
     },
     "execution_count": 305,
     "metadata": {},
     "output_type": "execute_result"
    }
   ],
   "source": [
    "df2.Model.value_counts()"
   ]
  },
  {
   "cell_type": "code",
   "execution_count": 306,
   "id": "71d02a08-9471-4bd9-b3fb-59a4fdb54db0",
   "metadata": {},
   "outputs": [
    {
     "data": {
      "text/plain": [
       "Event.Date                    0\n",
       "Investigation.Type            0\n",
       "Accident.Number               0\n",
       "Event.Date                    0\n",
       "Country                       0\n",
       "Injury.Severity             979\n",
       "Aircraft.damage            3157\n",
       "Make                          0\n",
       "Model                         0\n",
       "Amateur.Built                99\n",
       "Number.of.Engines          6016\n",
       "Engine.Type                7020\n",
       "Purpose.of.flight          6132\n",
       "Total.Fatal.Injuries      11376\n",
       "Total.Serious.Injuries    12481\n",
       "Total.Minor.Injuries      11905\n",
       "Total.Uninjured            5889\n",
       "Weather.Condition          4435\n",
       "Publication.Date          13708\n",
       "dtype: int64"
      ]
     },
     "execution_count": 306,
     "metadata": {},
     "output_type": "execute_result"
    }
   ],
   "source": [
    "df2.isna().sum()"
   ]
  },
  {
   "cell_type": "code",
   "execution_count": 307,
   "id": "1f82b50d-3550-4045-8b28-ca986f2720ac",
   "metadata": {},
   "outputs": [
    {
     "data": {
      "text/plain": [
       "Event.Date                    0\n",
       "Investigation.Type            0\n",
       "Accident.Number               0\n",
       "Event.Date                    0\n",
       "Country                       0\n",
       "Injury.Severity             979\n",
       "Aircraft.damage            3139\n",
       "Make                          0\n",
       "Model                         0\n",
       "Amateur.Built                 0\n",
       "Number.of.Engines          5937\n",
       "Engine.Type                6942\n",
       "Purpose.of.flight          6067\n",
       "Total.Fatal.Injuries      11310\n",
       "Total.Serious.Injuries    12392\n",
       "Total.Minor.Injuries      11812\n",
       "Total.Uninjured            5820\n",
       "Weather.Condition          4377\n",
       "Publication.Date          13697\n",
       "dtype: int64"
      ]
     },
     "execution_count": 307,
     "metadata": {},
     "output_type": "execute_result"
    }
   ],
   "source": [
    "# AMATEUR BUILT\n",
    "df2 = df2[df2['Amateur.Built'].notna()]\n",
    "df2.isna().sum()"
   ]
  },
  {
   "cell_type": "code",
   "execution_count": 308,
   "id": "ac93f85d-7f50-421a-8ef6-6a054da95160",
   "metadata": {},
   "outputs": [
    {
     "data": {
      "text/plain": [
       "Number.of.Engines\n",
       "1.0    69389\n",
       "2.0    10993\n",
       "0.0     1223\n",
       "3.0      477\n",
       "4.0      430\n",
       "8.0        3\n",
       "6.0        1\n",
       "Name: count, dtype: int64"
      ]
     },
     "execution_count": 308,
     "metadata": {},
     "output_type": "execute_result"
    }
   ],
   "source": [
    "# NUMBER OF ENGINES\n",
    "\n",
    "df2['Number.of.Engines'].value_counts()\n",
    "\n",
    "# 0.0 is an outlier. A plane can't have 0 engines"
   ]
  },
  {
   "cell_type": "code",
   "execution_count": 309,
   "id": "2dcee1f3-7309-4803-8384-c9bc525cdd62",
   "metadata": {},
   "outputs": [
    {
     "name": "stdout",
     "output_type": "stream",
     "text": [
      "<class 'pandas.core.frame.DataFrame'>\n",
      "Index: 88453 entries, 0 to 88888\n",
      "Data columns (total 19 columns):\n",
      " #   Column                  Non-Null Count  Dtype         \n",
      "---  ------                  --------------  -----         \n",
      " 0   Event.Date              88453 non-null  datetime64[ns]\n",
      " 1   Investigation.Type      88453 non-null  object        \n",
      " 2   Accident.Number         88453 non-null  object        \n",
      " 3   Event.Date              88453 non-null  datetime64[ns]\n",
      " 4   Country                 88453 non-null  object        \n",
      " 5   Injury.Severity         87474 non-null  object        \n",
      " 6   Aircraft.damage         85314 non-null  object        \n",
      " 7   Make                    88453 non-null  object        \n",
      " 8   Model                   88453 non-null  object        \n",
      " 9   Amateur.Built           88453 non-null  object        \n",
      " 10  Number.of.Engines       88453 non-null  float64       \n",
      " 11  Engine.Type             81511 non-null  object        \n",
      " 12  Purpose.of.flight       82386 non-null  object        \n",
      " 13  Total.Fatal.Injuries    77143 non-null  float64       \n",
      " 14  Total.Serious.Injuries  76061 non-null  float64       \n",
      " 15  Total.Minor.Injuries    76641 non-null  float64       \n",
      " 16  Total.Uninjured         82633 non-null  float64       \n",
      " 17  Weather.Condition       84076 non-null  object        \n",
      " 18  Publication.Date        74756 non-null  datetime64[ns]\n",
      "dtypes: datetime64[ns](3), float64(5), object(11)\n",
      "memory usage: 13.5+ MB\n"
     ]
    }
   ],
   "source": [
    "# use median to fill the missing values.\n",
    "# Median and Mean are almost same and lie at 1\n",
    "df2['Number.of.Engines'] = df['Number.of.Engines'].fillna(df2['Number.of.Engines'].median())\n",
    "df2.info()"
   ]
  },
  {
   "cell_type": "code",
   "execution_count": 310,
   "id": "c1a24f82-7456-4800-9fee-fd207ac4a3a8",
   "metadata": {},
   "outputs": [
    {
     "data": {
      "text/plain": [
       "Number.of.Engines\n",
       "1.0    76549\n",
       "2.0    10993\n",
       "3.0      477\n",
       "4.0      430\n",
       "8.0        3\n",
       "6.0        1\n",
       "Name: count, dtype: int64"
      ]
     },
     "execution_count": 310,
     "metadata": {},
     "output_type": "execute_result"
    }
   ],
   "source": [
    "# Replace 'Number.of.Engines' with 1.0 where 'Number.of.Engines' is 0.0\n",
    "\n",
    "df2['Number.of.Engines'] = df2['Number.of.Engines'].replace(0.0, 1.0)\n",
    "\n",
    "\n",
    "df2['Number.of.Engines'].value_counts()"
   ]
  },
  {
   "cell_type": "code",
   "execution_count": 313,
   "id": "a042065d-49ff-49e7-bceb-b45efefe0966",
   "metadata": {},
   "outputs": [
    {
     "data": {
      "text/plain": [
       "Engine.Type\n",
       "Reciprocating      69374\n",
       "Turbo Shaft         3522\n",
       "Turbo Prop          3379\n",
       "Turbo Fan           2465\n",
       "Unknown             2042\n",
       "Turbo Jet            701\n",
       "Geared Turbofan       12\n",
       "Electric              10\n",
       "LR                     2\n",
       "NONE                   2\n",
       "Hybrid Rocket          1\n",
       "UNK                    1\n",
       "Name: count, dtype: int64"
      ]
     },
     "execution_count": 313,
     "metadata": {},
     "output_type": "execute_result"
    }
   ],
   "source": [
    "# ENGINE TYPE\n",
    "\n",
    "df2['Engine.Type'].value_counts()\n",
    "\n",
    "# Unkown, None, UNK, are not valid engine types"
   ]
  },
  {
   "cell_type": "code",
   "execution_count": 316,
   "id": "8e2ab4ec-e3cc-4891-9e53-872da562c7ba",
   "metadata": {},
   "outputs": [],
   "source": [
    "# Unkown, None, UNK, are not valid engine types so we drop\n",
    "\n",
    "df2 = df2[~df2['Engine.Type'].isin(['Unknown', 'NONE', 'UNK'])]\n"
   ]
  },
  {
   "cell_type": "code",
   "execution_count": 319,
   "id": "4597d48d-e929-463f-a15e-5e7b3817228c",
   "metadata": {},
   "outputs": [],
   "source": [
    "# drop the missing values\n",
    "df2 = df2[df2['Engine.Type'].notna()]"
   ]
  },
  {
   "cell_type": "code",
   "execution_count": 321,
   "id": "9eb80fb1-da3d-41bc-ae5d-7d8fc2e1e335",
   "metadata": {},
   "outputs": [
    {
     "data": {
      "text/plain": [
       "Event.Date                    0\n",
       "Investigation.Type            0\n",
       "Accident.Number               0\n",
       "Event.Date                    0\n",
       "Country                       0\n",
       "Injury.Severity             192\n",
       "Aircraft.damage            1719\n",
       "Make                          0\n",
       "Model                         0\n",
       "Amateur.Built                 0\n",
       "Number.of.Engines             0\n",
       "Engine.Type                   0\n",
       "Purpose.of.flight          2808\n",
       "Total.Fatal.Injuries      10355\n",
       "Total.Serious.Injuries    11183\n",
       "Total.Minor.Injuries      10499\n",
       "Total.Uninjured            4924\n",
       "Weather.Condition           910\n",
       "Publication.Date          12097\n",
       "dtype: int64"
      ]
     },
     "execution_count": 321,
     "metadata": {},
     "output_type": "execute_result"
    }
   ],
   "source": [
    "df2.isna().sum()"
   ]
  },
  {
   "cell_type": "code",
   "execution_count": 324,
   "id": "a95acd47-1e1f-4f96-9d41-6d94cabe0673",
   "metadata": {},
   "outputs": [
    {
     "data": {
      "text/plain": [
       "Purpose.of.flight\n",
       "Personal                     46128\n",
       "Instructional                 9980\n",
       "Unknown                       5887\n",
       "Aerial Application            4559\n",
       "Business                      3749\n",
       "Positioning                   1545\n",
       "Other Work Use                1090\n",
       "Ferry                          763\n",
       "Aerial Observation             682\n",
       "Public Aircraft                602\n",
       "Executive/corporate            512\n",
       "Flight Test                    370\n",
       "Skydiving                      171\n",
       "External Load                  103\n",
       "Public Aircraft - Federal       95\n",
       "Banner Tow                      95\n",
       "Air Race show                   72\n",
       "Public Aircraft - Local         71\n",
       "Public Aircraft - State         62\n",
       "Air Race/show                   48\n",
       "Glider Tow                      37\n",
       "Firefighting                    24\n",
       "Air Drop                         8\n",
       "PUBS                             2\n",
       "ASHO                             2\n",
       "PUBL                             1\n",
       "Name: count, dtype: int64"
      ]
     },
     "execution_count": 324,
     "metadata": {},
     "output_type": "execute_result"
    }
   ],
   "source": [
    "df2['Purpose.of.flight'].value_counts()"
   ]
  },
  {
   "cell_type": "code",
   "execution_count": 323,
   "id": "0832cb5a-68f7-4316-92e7-78e3f9e6a610",
   "metadata": {},
   "outputs": [
    {
     "data": {
      "text/plain": [
       "2808"
      ]
     },
     "execution_count": 323,
     "metadata": {},
     "output_type": "execute_result"
    }
   ],
   "source": [
    "df2['Purpose.of.flight'].isna().sum()"
   ]
  },
  {
   "cell_type": "code",
   "execution_count": 327,
   "id": "26b18c40-eccd-4e3d-a51f-475f6d985d17",
   "metadata": {},
   "outputs": [
    {
     "name": "stdout",
     "output_type": "stream",
     "text": [
      "<class 'pandas.core.frame.DataFrame'>\n",
      "Index: 76658 entries, 0 to 88767\n",
      "Data columns (total 19 columns):\n",
      " #   Column                  Non-Null Count  Dtype         \n",
      "---  ------                  --------------  -----         \n",
      " 0   Event.Date              76658 non-null  datetime64[ns]\n",
      " 1   Investigation.Type      76658 non-null  object        \n",
      " 2   Accident.Number         76658 non-null  object        \n",
      " 3   Event.Date              76658 non-null  datetime64[ns]\n",
      " 4   Country                 76658 non-null  object        \n",
      " 5   Injury.Severity         76635 non-null  object        \n",
      " 6   Aircraft.damage         75548 non-null  object        \n",
      " 7   Make                    76658 non-null  object        \n",
      " 8   Model                   76658 non-null  object        \n",
      " 9   Amateur.Built           76658 non-null  object        \n",
      " 10  Number.of.Engines       76658 non-null  float64       \n",
      " 11  Engine.Type             76658 non-null  object        \n",
      " 12  Purpose.of.flight       76658 non-null  object        \n",
      " 13  Total.Fatal.Injuries    67183 non-null  float64       \n",
      " 14  Total.Serious.Injuries  66314 non-null  float64       \n",
      " 15  Total.Minor.Injuries    67008 non-null  float64       \n",
      " 16  Total.Uninjured         71947 non-null  float64       \n",
      " 17  Weather.Condition       76313 non-null  object        \n",
      " 18  Publication.Date        64597 non-null  datetime64[ns]\n",
      "dtypes: datetime64[ns](3), float64(5), object(11)\n",
      "memory usage: 11.7+ MB\n"
     ]
    }
   ],
   "source": [
    "# we can drop the missing values in Purpose.of.flight\n",
    "df2 = df2[df2['Purpose.of.flight'].notna()]\n",
    "df2.info()"
   ]
  },
  {
   "cell_type": "code",
   "execution_count": null,
   "id": "a298cb5a-2350-4d26-9439-71bb14cdff4f",
   "metadata": {},
   "outputs": [],
   "source": [
    "df2. "
   ]
  }
 ],
 "metadata": {
  "kernelspec": {
   "display_name": "Python (learn-env)",
   "language": "python",
   "name": "learn-env"
  },
  "language_info": {
   "codemirror_mode": {
    "name": "ipython",
    "version": 3
   },
   "file_extension": ".py",
   "mimetype": "text/x-python",
   "name": "python",
   "nbconvert_exporter": "python",
   "pygments_lexer": "ipython3",
   "version": "3.12.3"
  }
 },
 "nbformat": 4,
 "nbformat_minor": 5
}
