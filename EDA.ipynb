{
 "cells": [
  {
   "cell_type": "markdown",
   "id": "2a70f710-f5ca-4d6e-b90e-7a42f6b39388",
   "metadata": {},
   "source": [
    "# EXPLORATORY DATA ANALYSIS\n",
    "Company X is expanding in to new industries to diversify its portfolio. They are particularly interested in purchasing and operating airplanes for commercial and private enterprises. However, they do not have enough knowledge on the potential risks of aircrafts.\n",
    "\n"
   ]
  },
  {
   "cell_type": "markdown",
   "id": "d0e7fca6-c5d6-4b77-a58c-3424db4245eb",
   "metadata": {},
   "source": [
    "**Task**\n",
    "\n",
    "- Determine which aircraft are the lowest risk for the company X to start this new endeavor.\n",
    "- Translate findings into actionable insights that the stake holders can use to help decide which aircraft to purchase.\n"
   ]
  },
  {
   "cell_type": "markdown",
   "id": "11fbd029-f331-4030-afd4-bea096c378fe",
   "metadata": {},
   "source": [
    "## The Data\n",
    "The data is from the National Transportation Safety Board that includes aviation accident data from 1962 to 2023 about civil aviation accidents and selected incidents in the United States and international waters. The dataset was obtained from Kaggle. https://www.kaggle.com/datasets/khsamaha/aviation-accident-database-synopses\n"
   ]
  },
  {
   "cell_type": "markdown",
   "id": "6454fda7-e9d5-4360-bf59-f67b2f2906e6",
   "metadata": {
    "jp-MarkdownHeadingCollapsed": true
   },
   "source": [
    "## Loading the Data¶"
   ]
  },
  {
   "cell_type": "code",
   "execution_count": 1,
   "id": "9bf33d6d-56c2-48ba-acdf-6203ba89fd9b",
   "metadata": {},
   "outputs": [],
   "source": [
    "# import necessary libraries\n",
    "import matplotlib.pyplot as plt\n",
    "import pandas as pd\n",
    "import seaborn as sns"
   ]
  },
  {
   "cell_type": "code",
   "execution_count": 2,
   "id": "bc30ccd1-1c77-4e86-bdb8-05024bb893b6",
   "metadata": {},
   "outputs": [
    {
     "data": {
      "text/html": [
       "<div>\n",
       "<style scoped>\n",
       "    .dataframe tbody tr th:only-of-type {\n",
       "        vertical-align: middle;\n",
       "    }\n",
       "\n",
       "    .dataframe tbody tr th {\n",
       "        vertical-align: top;\n",
       "    }\n",
       "\n",
       "    .dataframe thead th {\n",
       "        text-align: right;\n",
       "    }\n",
       "</style>\n",
       "<table border=\"1\" class=\"dataframe\">\n",
       "  <thead>\n",
       "    <tr style=\"text-align: right;\">\n",
       "      <th></th>\n",
       "      <th>Event.Id</th>\n",
       "      <th>Investigation.Type</th>\n",
       "      <th>Accident.Number</th>\n",
       "      <th>Event.Date</th>\n",
       "      <th>Location</th>\n",
       "      <th>Country</th>\n",
       "      <th>Latitude</th>\n",
       "      <th>Longitude</th>\n",
       "      <th>Airport.Code</th>\n",
       "      <th>Airport.Name</th>\n",
       "      <th>...</th>\n",
       "      <th>Purpose.of.flight</th>\n",
       "      <th>Air.carrier</th>\n",
       "      <th>Total.Fatal.Injuries</th>\n",
       "      <th>Total.Serious.Injuries</th>\n",
       "      <th>Total.Minor.Injuries</th>\n",
       "      <th>Total.Uninjured</th>\n",
       "      <th>Weather.Condition</th>\n",
       "      <th>Broad.phase.of.flight</th>\n",
       "      <th>Report.Status</th>\n",
       "      <th>Publication.Date</th>\n",
       "    </tr>\n",
       "  </thead>\n",
       "  <tbody>\n",
       "    <tr>\n",
       "      <th>0</th>\n",
       "      <td>20001218X45444</td>\n",
       "      <td>Accident</td>\n",
       "      <td>SEA87LA080</td>\n",
       "      <td>1948-10-24</td>\n",
       "      <td>MOOSE CREEK, ID</td>\n",
       "      <td>United States</td>\n",
       "      <td>NaN</td>\n",
       "      <td>NaN</td>\n",
       "      <td>NaN</td>\n",
       "      <td>NaN</td>\n",
       "      <td>...</td>\n",
       "      <td>Personal</td>\n",
       "      <td>NaN</td>\n",
       "      <td>2.0</td>\n",
       "      <td>0.0</td>\n",
       "      <td>0.0</td>\n",
       "      <td>0.0</td>\n",
       "      <td>UNK</td>\n",
       "      <td>Cruise</td>\n",
       "      <td>Probable Cause</td>\n",
       "      <td>NaT</td>\n",
       "    </tr>\n",
       "    <tr>\n",
       "      <th>1</th>\n",
       "      <td>20001218X45447</td>\n",
       "      <td>Accident</td>\n",
       "      <td>LAX94LA336</td>\n",
       "      <td>1962-07-19</td>\n",
       "      <td>BRIDGEPORT, CA</td>\n",
       "      <td>United States</td>\n",
       "      <td>NaN</td>\n",
       "      <td>NaN</td>\n",
       "      <td>NaN</td>\n",
       "      <td>NaN</td>\n",
       "      <td>...</td>\n",
       "      <td>Personal</td>\n",
       "      <td>NaN</td>\n",
       "      <td>4.0</td>\n",
       "      <td>0.0</td>\n",
       "      <td>0.0</td>\n",
       "      <td>0.0</td>\n",
       "      <td>UNK</td>\n",
       "      <td>Unknown</td>\n",
       "      <td>Probable Cause</td>\n",
       "      <td>1996-09-19</td>\n",
       "    </tr>\n",
       "    <tr>\n",
       "      <th>2</th>\n",
       "      <td>20061025X01555</td>\n",
       "      <td>Accident</td>\n",
       "      <td>NYC07LA005</td>\n",
       "      <td>1974-08-30</td>\n",
       "      <td>Saltville, VA</td>\n",
       "      <td>United States</td>\n",
       "      <td>36.922223</td>\n",
       "      <td>-81.878056</td>\n",
       "      <td>NaN</td>\n",
       "      <td>NaN</td>\n",
       "      <td>...</td>\n",
       "      <td>Personal</td>\n",
       "      <td>NaN</td>\n",
       "      <td>3.0</td>\n",
       "      <td>NaN</td>\n",
       "      <td>NaN</td>\n",
       "      <td>NaN</td>\n",
       "      <td>IMC</td>\n",
       "      <td>Cruise</td>\n",
       "      <td>Probable Cause</td>\n",
       "      <td>2007-02-26</td>\n",
       "    </tr>\n",
       "    <tr>\n",
       "      <th>3</th>\n",
       "      <td>20001218X45448</td>\n",
       "      <td>Accident</td>\n",
       "      <td>LAX96LA321</td>\n",
       "      <td>1977-06-19</td>\n",
       "      <td>EUREKA, CA</td>\n",
       "      <td>United States</td>\n",
       "      <td>NaN</td>\n",
       "      <td>NaN</td>\n",
       "      <td>NaN</td>\n",
       "      <td>NaN</td>\n",
       "      <td>...</td>\n",
       "      <td>Personal</td>\n",
       "      <td>NaN</td>\n",
       "      <td>2.0</td>\n",
       "      <td>0.0</td>\n",
       "      <td>0.0</td>\n",
       "      <td>0.0</td>\n",
       "      <td>IMC</td>\n",
       "      <td>Cruise</td>\n",
       "      <td>Probable Cause</td>\n",
       "      <td>2000-09-12</td>\n",
       "    </tr>\n",
       "    <tr>\n",
       "      <th>4</th>\n",
       "      <td>20041105X01764</td>\n",
       "      <td>Accident</td>\n",
       "      <td>CHI79FA064</td>\n",
       "      <td>1979-08-02</td>\n",
       "      <td>Canton, OH</td>\n",
       "      <td>United States</td>\n",
       "      <td>NaN</td>\n",
       "      <td>NaN</td>\n",
       "      <td>NaN</td>\n",
       "      <td>NaN</td>\n",
       "      <td>...</td>\n",
       "      <td>Personal</td>\n",
       "      <td>NaN</td>\n",
       "      <td>1.0</td>\n",
       "      <td>2.0</td>\n",
       "      <td>NaN</td>\n",
       "      <td>0.0</td>\n",
       "      <td>VMC</td>\n",
       "      <td>Approach</td>\n",
       "      <td>Probable Cause</td>\n",
       "      <td>1980-04-16</td>\n",
       "    </tr>\n",
       "  </tbody>\n",
       "</table>\n",
       "<p>5 rows × 31 columns</p>\n",
       "</div>"
      ],
      "text/plain": [
       "         Event.Id Investigation.Type Accident.Number Event.Date  \\\n",
       "0  20001218X45444           Accident      SEA87LA080 1948-10-24   \n",
       "1  20001218X45447           Accident      LAX94LA336 1962-07-19   \n",
       "2  20061025X01555           Accident      NYC07LA005 1974-08-30   \n",
       "3  20001218X45448           Accident      LAX96LA321 1977-06-19   \n",
       "4  20041105X01764           Accident      CHI79FA064 1979-08-02   \n",
       "\n",
       "          Location        Country   Latitude  Longitude Airport.Code  \\\n",
       "0  MOOSE CREEK, ID  United States        NaN        NaN          NaN   \n",
       "1   BRIDGEPORT, CA  United States        NaN        NaN          NaN   \n",
       "2    Saltville, VA  United States  36.922223 -81.878056          NaN   \n",
       "3       EUREKA, CA  United States        NaN        NaN          NaN   \n",
       "4       Canton, OH  United States        NaN        NaN          NaN   \n",
       "\n",
       "  Airport.Name  ... Purpose.of.flight Air.carrier Total.Fatal.Injuries  \\\n",
       "0          NaN  ...          Personal         NaN                  2.0   \n",
       "1          NaN  ...          Personal         NaN                  4.0   \n",
       "2          NaN  ...          Personal         NaN                  3.0   \n",
       "3          NaN  ...          Personal         NaN                  2.0   \n",
       "4          NaN  ...          Personal         NaN                  1.0   \n",
       "\n",
       "  Total.Serious.Injuries Total.Minor.Injuries Total.Uninjured  \\\n",
       "0                    0.0                  0.0             0.0   \n",
       "1                    0.0                  0.0             0.0   \n",
       "2                    NaN                  NaN             NaN   \n",
       "3                    0.0                  0.0             0.0   \n",
       "4                    2.0                  NaN             0.0   \n",
       "\n",
       "  Weather.Condition  Broad.phase.of.flight   Report.Status Publication.Date  \n",
       "0               UNK                 Cruise  Probable Cause              NaT  \n",
       "1               UNK                Unknown  Probable Cause       1996-09-19  \n",
       "2               IMC                 Cruise  Probable Cause       2007-02-26  \n",
       "3               IMC                 Cruise  Probable Cause       2000-09-12  \n",
       "4               VMC               Approach  Probable Cause       1980-04-16  \n",
       "\n",
       "[5 rows x 31 columns]"
      ]
     },
     "execution_count": 2,
     "metadata": {},
     "output_type": "execute_result"
    }
   ],
   "source": [
    "df = pd.read_excel(\"AviationData.xlsx\")\n",
    "df.head()"
   ]
  },
  {
   "cell_type": "markdown",
   "id": "7cea1e4b-227c-4fb7-959e-573f06500735",
   "metadata": {
    "jp-MarkdownHeadingCollapsed": true
   },
   "source": [
    "## Exploring the Data"
   ]
  },
  {
   "cell_type": "code",
   "execution_count": 3,
   "id": "17bb722c-01e2-4c18-8812-738aafef7d4b",
   "metadata": {},
   "outputs": [
    {
     "name": "stdout",
     "output_type": "stream",
     "text": [
      "<class 'pandas.core.frame.DataFrame'>\n",
      "RangeIndex: 88889 entries, 0 to 88888\n",
      "Data columns (total 31 columns):\n",
      " #   Column                  Non-Null Count  Dtype         \n",
      "---  ------                  --------------  -----         \n",
      " 0   Event.Id                88889 non-null  object        \n",
      " 1   Investigation.Type      88889 non-null  object        \n",
      " 2   Accident.Number         88889 non-null  object        \n",
      " 3   Event.Date              88889 non-null  datetime64[ns]\n",
      " 4   Location                88837 non-null  object        \n",
      " 5   Country                 88663 non-null  object        \n",
      " 6   Latitude                34382 non-null  object        \n",
      " 7   Longitude               34373 non-null  object        \n",
      " 8   Airport.Code            50132 non-null  object        \n",
      " 9   Airport.Name            52704 non-null  object        \n",
      " 10  Injury.Severity         87889 non-null  object        \n",
      " 11  Aircraft.damage         85695 non-null  object        \n",
      " 12  Aircraft.Category       32287 non-null  object        \n",
      " 13  Registration.Number     87507 non-null  object        \n",
      " 14  Make                    88826 non-null  object        \n",
      " 15  Model                   88797 non-null  object        \n",
      " 16  Amateur.Built           88787 non-null  object        \n",
      " 17  Number.of.Engines       82805 non-null  float64       \n",
      " 18  Engine.Type             81793 non-null  object        \n",
      " 19  FAR.Description         32023 non-null  object        \n",
      " 20  Schedule                12582 non-null  object        \n",
      " 21  Purpose.of.flight       82697 non-null  object        \n",
      " 22  Air.carrier             16648 non-null  object        \n",
      " 23  Total.Fatal.Injuries    77488 non-null  float64       \n",
      " 24  Total.Serious.Injuries  76379 non-null  float64       \n",
      " 25  Total.Minor.Injuries    76956 non-null  float64       \n",
      " 26  Total.Uninjured         82977 non-null  float64       \n",
      " 27  Weather.Condition       84397 non-null  object        \n",
      " 28  Broad.phase.of.flight   61724 non-null  object        \n",
      " 29  Report.Status           82505 non-null  object        \n",
      " 30  Publication.Date        75118 non-null  datetime64[ns]\n",
      "dtypes: datetime64[ns](2), float64(5), object(24)\n",
      "memory usage: 21.0+ MB\n"
     ]
    }
   ],
   "source": [
    "df.info()"
   ]
  },
  {
   "cell_type": "code",
   "execution_count": 4,
   "id": "8fe78a79-d217-4b14-a8c9-42d7ea9cb6a8",
   "metadata": {},
   "outputs": [
    {
     "data": {
      "text/plain": [
       "Event.Id                      0\n",
       "Investigation.Type            0\n",
       "Accident.Number               0\n",
       "Event.Date                    0\n",
       "Location                     52\n",
       "Country                     226\n",
       "Latitude                  54507\n",
       "Longitude                 54516\n",
       "Airport.Code              38757\n",
       "Airport.Name              36185\n",
       "Injury.Severity            1000\n",
       "Aircraft.damage            3194\n",
       "Aircraft.Category         56602\n",
       "Registration.Number        1382\n",
       "Make                         63\n",
       "Model                        92\n",
       "Amateur.Built               102\n",
       "Number.of.Engines          6084\n",
       "Engine.Type                7096\n",
       "FAR.Description           56866\n",
       "Schedule                  76307\n",
       "Purpose.of.flight          6192\n",
       "Air.carrier               72241\n",
       "Total.Fatal.Injuries      11401\n",
       "Total.Serious.Injuries    12510\n",
       "Total.Minor.Injuries      11933\n",
       "Total.Uninjured            5912\n",
       "Weather.Condition          4492\n",
       "Broad.phase.of.flight     27165\n",
       "Report.Status              6384\n",
       "Publication.Date          13771\n",
       "dtype: int64"
      ]
     },
     "execution_count": 4,
     "metadata": {},
     "output_type": "execute_result"
    }
   ],
   "source": [
    "# get the number of missing values\n",
    "df.isna().sum()"
   ]
  },
  {
   "cell_type": "markdown",
   "id": "8b55a1b3-0006-4ab9-8e92-dfd9b3071790",
   "metadata": {
    "jp-MarkdownHeadingCollapsed": true
   },
   "source": [
    "## Data Cleaning"
   ]
  },
  {
   "cell_type": "code",
   "execution_count": 5,
   "id": "9b2b9498-ab95-4273-b7ca-6472a95a2785",
   "metadata": {},
   "outputs": [],
   "source": [
    "relevant_columns = [\n",
    "    'Investigation.Type',\n",
    "    'Event.Date',\n",
    "    'Country',\n",
    "    'Injury.Severity',\n",
    "    'Aircraft.damage',\n",
    "    'Make',\n",
    "    'Model',\n",
    "    'Amateur.Built',\n",
    "    'Number.of.Engines',\n",
    "    'Engine.Type',\n",
    "    'Purpose.of.flight',\n",
    "    'Total.Fatal.Injuries',\n",
    "    'Total.Serious.Injuries',\n",
    "    'Total.Minor.Injuries',\n",
    "    'Total.Uninjured',\n",
    "    'Weather.Condition',\n",
    "    \n",
    "]"
   ]
  },
  {
   "cell_type": "code",
   "execution_count": 6,
   "id": "b6318787-8345-4d13-a72a-6d70cd57b855",
   "metadata": {},
   "outputs": [
    {
     "data": {
      "text/plain": [
       "(88889, 16)"
      ]
     },
     "execution_count": 6,
     "metadata": {},
     "output_type": "execute_result"
    }
   ],
   "source": [
    "df_new = df.loc[:,relevant_columns]\n",
    "df_new.shape"
   ]
  },
  {
   "cell_type": "code",
   "execution_count": 153,
   "id": "df9a4cdb-91f9-454e-97b8-ad3d2b855a36",
   "metadata": {},
   "outputs": [],
   "source": [
    "# change some column titles to more managable ones\n",
    "new_column_names = { 'Investigation.Type': 'Investigation_Type', 'Event.Date':'Event_Date', 'Injury.Severity':'Injury_Severity', \n",
    "                    'Aircraft.damage':'Aircraft_damage', 'Number.of.Engines':'Number_of_Engines','Engine.Type':'Engine_Type', 'Purpose.of.flight':'Flight_Purpose',\n",
    "                    'Total.Fatal.Injuries':'Fatal_Injuries', 'Total.Serious.Injuries':'Serious_Injuries',\n",
    "                   'Total.Minor.Injuries':'Minor_Injuries', 'Total.Uninjured':'Uninjured', 'Weather.Condition':'Weather',}\n",
    "df_new.rename(columns=new_column_names, inplace=True)"
   ]
  },
  {
   "cell_type": "code",
   "execution_count": 154,
   "id": "c2e3fce0-a49f-4a2b-9ffa-b12985e76270",
   "metadata": {},
   "outputs": [
    {
     "data": {
      "text/html": [
       "<div>\n",
       "<style scoped>\n",
       "    .dataframe tbody tr th:only-of-type {\n",
       "        vertical-align: middle;\n",
       "    }\n",
       "\n",
       "    .dataframe tbody tr th {\n",
       "        vertical-align: top;\n",
       "    }\n",
       "\n",
       "    .dataframe thead th {\n",
       "        text-align: right;\n",
       "    }\n",
       "</style>\n",
       "<table border=\"1\" class=\"dataframe\">\n",
       "  <thead>\n",
       "    <tr style=\"text-align: right;\">\n",
       "      <th></th>\n",
       "      <th>Investigation_Type</th>\n",
       "      <th>Event_Date</th>\n",
       "      <th>Country</th>\n",
       "      <th>Injury_Severity</th>\n",
       "      <th>Aircraft_damage</th>\n",
       "      <th>Make</th>\n",
       "      <th>Model</th>\n",
       "      <th>Amateur.Built</th>\n",
       "      <th>Number_of_Engines</th>\n",
       "      <th>Engine_Type</th>\n",
       "      <th>Flight_Purpose</th>\n",
       "      <th>Fatal_Injuries</th>\n",
       "      <th>Serious_Injuries</th>\n",
       "      <th>Minor_Injuries</th>\n",
       "      <th>Uninjured</th>\n",
       "      <th>Weather</th>\n",
       "    </tr>\n",
       "  </thead>\n",
       "  <tbody>\n",
       "    <tr>\n",
       "      <th>0</th>\n",
       "      <td>Accident</td>\n",
       "      <td>1948-10-24</td>\n",
       "      <td>United States</td>\n",
       "      <td>Fatal(2)</td>\n",
       "      <td>Destroyed</td>\n",
       "      <td>stinson</td>\n",
       "      <td>108-3</td>\n",
       "      <td>No</td>\n",
       "      <td>1.0</td>\n",
       "      <td>Reciprocating</td>\n",
       "      <td>Personal</td>\n",
       "      <td>2.0</td>\n",
       "      <td>0.0</td>\n",
       "      <td>0.0</td>\n",
       "      <td>0.0</td>\n",
       "      <td>UNK</td>\n",
       "    </tr>\n",
       "    <tr>\n",
       "      <th>1</th>\n",
       "      <td>Accident</td>\n",
       "      <td>1962-07-19</td>\n",
       "      <td>United States</td>\n",
       "      <td>Fatal(4)</td>\n",
       "      <td>Destroyed</td>\n",
       "      <td>piper</td>\n",
       "      <td>PA24-180</td>\n",
       "      <td>No</td>\n",
       "      <td>1.0</td>\n",
       "      <td>Reciprocating</td>\n",
       "      <td>Personal</td>\n",
       "      <td>4.0</td>\n",
       "      <td>0.0</td>\n",
       "      <td>0.0</td>\n",
       "      <td>0.0</td>\n",
       "      <td>UNK</td>\n",
       "    </tr>\n",
       "    <tr>\n",
       "      <th>2</th>\n",
       "      <td>Accident</td>\n",
       "      <td>1974-08-30</td>\n",
       "      <td>United States</td>\n",
       "      <td>Fatal(3)</td>\n",
       "      <td>Destroyed</td>\n",
       "      <td>cessna</td>\n",
       "      <td>172M</td>\n",
       "      <td>No</td>\n",
       "      <td>1.0</td>\n",
       "      <td>Reciprocating</td>\n",
       "      <td>Personal</td>\n",
       "      <td>3.0</td>\n",
       "      <td>NaN</td>\n",
       "      <td>NaN</td>\n",
       "      <td>NaN</td>\n",
       "      <td>IMC</td>\n",
       "    </tr>\n",
       "    <tr>\n",
       "      <th>3</th>\n",
       "      <td>Accident</td>\n",
       "      <td>1977-06-19</td>\n",
       "      <td>United States</td>\n",
       "      <td>Fatal(2)</td>\n",
       "      <td>Destroyed</td>\n",
       "      <td>rockwell</td>\n",
       "      <td>112</td>\n",
       "      <td>No</td>\n",
       "      <td>1.0</td>\n",
       "      <td>Reciprocating</td>\n",
       "      <td>Personal</td>\n",
       "      <td>2.0</td>\n",
       "      <td>0.0</td>\n",
       "      <td>0.0</td>\n",
       "      <td>0.0</td>\n",
       "      <td>IMC</td>\n",
       "    </tr>\n",
       "    <tr>\n",
       "      <th>4</th>\n",
       "      <td>Accident</td>\n",
       "      <td>1979-08-02</td>\n",
       "      <td>United States</td>\n",
       "      <td>Fatal(1)</td>\n",
       "      <td>Destroyed</td>\n",
       "      <td>cessna</td>\n",
       "      <td>501</td>\n",
       "      <td>No</td>\n",
       "      <td>NaN</td>\n",
       "      <td>NaN</td>\n",
       "      <td>Personal</td>\n",
       "      <td>1.0</td>\n",
       "      <td>2.0</td>\n",
       "      <td>NaN</td>\n",
       "      <td>0.0</td>\n",
       "      <td>VMC</td>\n",
       "    </tr>\n",
       "  </tbody>\n",
       "</table>\n",
       "</div>"
      ],
      "text/plain": [
       "  Investigation_Type Event_Date        Country Injury_Severity  \\\n",
       "0           Accident 1948-10-24  United States        Fatal(2)   \n",
       "1           Accident 1962-07-19  United States        Fatal(4)   \n",
       "2           Accident 1974-08-30  United States        Fatal(3)   \n",
       "3           Accident 1977-06-19  United States        Fatal(2)   \n",
       "4           Accident 1979-08-02  United States        Fatal(1)   \n",
       "\n",
       "  Aircraft_damage      Make     Model Amateur.Built  Number_of_Engines  \\\n",
       "0       Destroyed   stinson     108-3            No                1.0   \n",
       "1       Destroyed     piper  PA24-180            No                1.0   \n",
       "2       Destroyed    cessna      172M            No                1.0   \n",
       "3       Destroyed  rockwell       112            No                1.0   \n",
       "4       Destroyed    cessna       501            No                NaN   \n",
       "\n",
       "     Engine_Type Flight_Purpose  Fatal_Injuries  Serious_Injuries  \\\n",
       "0  Reciprocating       Personal             2.0               0.0   \n",
       "1  Reciprocating       Personal             4.0               0.0   \n",
       "2  Reciprocating       Personal             3.0               NaN   \n",
       "3  Reciprocating       Personal             2.0               0.0   \n",
       "4            NaN       Personal             1.0               2.0   \n",
       "\n",
       "   Minor_Injuries  Uninjured Weather  \n",
       "0             0.0        0.0     UNK  \n",
       "1             0.0        0.0     UNK  \n",
       "2             NaN        NaN     IMC  \n",
       "3             0.0        0.0     IMC  \n",
       "4             NaN        0.0     VMC  "
      ]
     },
     "execution_count": 154,
     "metadata": {},
     "output_type": "execute_result"
    }
   ],
   "source": [
    "df_new.head()"
   ]
  },
  {
   "cell_type": "code",
   "execution_count": 9,
   "id": "bc5a527f-613e-499f-9d83-05ef2fa905ce",
   "metadata": {},
   "outputs": [
    {
     "name": "stdout",
     "output_type": "stream",
     "text": [
      "<class 'pandas.core.frame.DataFrame'>\n",
      "RangeIndex: 88889 entries, 0 to 88888\n",
      "Data columns (total 16 columns):\n",
      " #   Column              Non-Null Count  Dtype         \n",
      "---  ------              --------------  -----         \n",
      " 0   Investigation_Type  88889 non-null  object        \n",
      " 1   Event_Date          88889 non-null  datetime64[ns]\n",
      " 2   Country             88663 non-null  object        \n",
      " 3   Injury_Severity     87889 non-null  object        \n",
      " 4   Aircraft_damage     85695 non-null  object        \n",
      " 5   Make                88826 non-null  object        \n",
      " 6   Model               88797 non-null  object        \n",
      " 7   Amateur.Built       88787 non-null  object        \n",
      " 8   Number_of_Engines   82805 non-null  float64       \n",
      " 9   Engine.Type         81793 non-null  object        \n",
      " 10  Flight_Purpose      82697 non-null  object        \n",
      " 11  Fatal_Injuries      77488 non-null  float64       \n",
      " 12  Serious_Injuries    76379 non-null  float64       \n",
      " 13  Minor_Injuries      76956 non-null  float64       \n",
      " 14  Uninjured           82977 non-null  float64       \n",
      " 15  Weather             84397 non-null  object        \n",
      "dtypes: datetime64[ns](1), float64(5), object(10)\n",
      "memory usage: 10.9+ MB\n"
     ]
    }
   ],
   "source": [
    "df_new.info()"
   ]
  },
  {
   "cell_type": "code",
   "execution_count": 121,
   "id": "9995ed71-7204-4a95-b314-c7bbdde7b3b5",
   "metadata": {},
   "outputs": [
    {
     "data": {
      "text/plain": [
       "Investigation_Type\n",
       "Accident    74524\n",
       "Incident      549\n",
       "Name: count, dtype: int64"
      ]
     },
     "execution_count": 121,
     "metadata": {},
     "output_type": "execute_result"
    }
   ],
   "source": [
    "df_new['Investigation_Type'].value_counts()"
   ]
  },
  {
   "cell_type": "code",
   "execution_count": 122,
   "id": "4a8da66e-9ae9-455b-acbe-396142973e40",
   "metadata": {},
   "outputs": [
    {
     "data": {
      "text/plain": [
       "0"
      ]
     },
     "execution_count": 122,
     "metadata": {},
     "output_type": "execute_result"
    }
   ],
   "source": [
    "df_new['Investigation_Type'].isna().sum()"
   ]
  },
  {
   "cell_type": "code",
   "execution_count": 10,
   "id": "3acf4acf-8b35-4311-8307-7e35bc3efd33",
   "metadata": {},
   "outputs": [
    {
     "data": {
      "text/plain": [
       "Make\n",
       "Cessna             22227\n",
       "Piper              12029\n",
       "CESSNA              4922\n",
       "Beech               4330\n",
       "PIPER               2841\n",
       "                   ...  \n",
       "Leonard Walters        1\n",
       "Maule Air Inc.         1\n",
       "Motley Vans            1\n",
       "Perlick                1\n",
       "ROYSE RALPH L          1\n",
       "Name: count, Length: 8237, dtype: int64"
      ]
     },
     "execution_count": 10,
     "metadata": {},
     "output_type": "execute_result"
    }
   ],
   "source": [
    "# I subset the data to determine the Make and Model that has been involved in many Accidents\n",
    "# Handling the missing data in Make and Model\n",
    "\n",
    "df_new.Make.value_counts()"
   ]
  },
  {
   "cell_type": "markdown",
   "id": "10b100ed-0612-4d44-bc56-c64babe49c40",
   "metadata": {},
   "source": [
    "Here, we realize that Cessna and CESSNA are taken as different rows despite being the same thing. change the case to lower"
   ]
  },
  {
   "cell_type": "code",
   "execution_count": 11,
   "id": "013421e1-57aa-4e4e-a399-feaa0df36e20",
   "metadata": {},
   "outputs": [],
   "source": [
    "df_new['Make'] = df_new['Make'].str.lower()"
   ]
  },
  {
   "cell_type": "code",
   "execution_count": 12,
   "id": "598b97e6-5d98-4c81-a382-3fa4c5c25401",
   "metadata": {},
   "outputs": [
    {
     "data": {
      "text/plain": [
       "67"
      ]
     },
     "execution_count": 12,
     "metadata": {},
     "output_type": "execute_result"
    }
   ],
   "source": [
    "df_new['Make'].isna().sum()"
   ]
  },
  {
   "cell_type": "code",
   "execution_count": 13,
   "id": "25d339e4-30e3-49af-9d99-0a9b97b8ed3a",
   "metadata": {},
   "outputs": [],
   "source": [
    "df_new= df_new[df_new['Make'].notna()]"
   ]
  },
  {
   "cell_type": "code",
   "execution_count": 14,
   "id": "6d476bfa-1c25-4d2f-b9cb-526170f51e4a",
   "metadata": {},
   "outputs": [
    {
     "data": {
      "text/plain": [
       "Make\n",
       "cessna                   27149\n",
       "piper                    14870\n",
       "beech                     5372\n",
       "boeing                    2745\n",
       "bell                      2722\n",
       "                         ...  \n",
       "boykin b j                   1\n",
       "bensen aircraft corp.        1\n",
       "steen aero lab               1\n",
       "cap                          1\n",
       "royse ralph l                1\n",
       "Name: count, Length: 7584, dtype: int64"
      ]
     },
     "execution_count": 14,
     "metadata": {},
     "output_type": "execute_result"
    }
   ],
   "source": [
    "df_new.Make.value_counts()"
   ]
  },
  {
   "cell_type": "markdown",
   "id": "893389c2-967c-48e1-9c73-343578e83c1e",
   "metadata": {},
   "source": [
    "now the unique values are populated correctly. "
   ]
  },
  {
   "cell_type": "code",
   "execution_count": 15,
   "id": "ccbec373-b6a0-4496-ba10-7f9dc4be454c",
   "metadata": {},
   "outputs": [
    {
     "data": {
      "text/plain": [
       "Model\n",
       "152             2367\n",
       "172             1756\n",
       "172N            1164\n",
       "PA-28-140        932\n",
       "150              829\n",
       "                ... \n",
       "747-2R7F           1\n",
       "GC-1-A             1\n",
       "737-3S3            1\n",
       "MBB-BK117-B2       1\n",
       "M-8 EAGLE          1\n",
       "Name: count, Length: 12306, dtype: int64"
      ]
     },
     "execution_count": 15,
     "metadata": {},
     "output_type": "execute_result"
    }
   ],
   "source": [
    "# Model\n",
    "df_new.Model.value_counts()"
   ]
  },
  {
   "cell_type": "code",
   "execution_count": 16,
   "id": "7f203e77-4240-40d6-923c-9ba20106b6a5",
   "metadata": {},
   "outputs": [
    {
     "data": {
      "text/plain": [
       "49"
      ]
     },
     "execution_count": 16,
     "metadata": {},
     "output_type": "execute_result"
    }
   ],
   "source": [
    "df_new['Model'].isna().sum()"
   ]
  },
  {
   "cell_type": "code",
   "execution_count": 17,
   "id": "8b5dc2db-330d-4fe2-9294-dcc125ff7698",
   "metadata": {},
   "outputs": [
    {
     "name": "stdout",
     "output_type": "stream",
     "text": [
      "<class 'pandas.core.series.Series'>\n",
      "Index: 88822 entries, 0 to 88888\n",
      "Series name: Model\n",
      "Non-Null Count  Dtype \n",
      "--------------  ----- \n",
      "88822 non-null  object\n",
      "dtypes: object(1)\n",
      "memory usage: 1.4+ MB\n"
     ]
    }
   ],
   "source": [
    "# convert to str \n",
    "df_new['Model'] = df_new['Model'].astype(str)\n",
    "df_new['Model'].info()"
   ]
  },
  {
   "cell_type": "code",
   "execution_count": 18,
   "id": "cf7e090a-083e-4f82-b1f0-165f4b126f65",
   "metadata": {},
   "outputs": [],
   "source": [
    "# drop Missing rows\n",
    "df_new = df_new[~df_new['Model'].isin(['UNKNOWN'])]\n",
    "df_new = df_new[df_new['Model'].notna()]"
   ]
  },
  {
   "cell_type": "markdown",
   "id": "ca0c9684-e13c-4e9b-a705-b0941727dfd0",
   "metadata": {},
   "source": [
    "## Visualizations"
   ]
  },
  {
   "cell_type": "markdown",
   "id": "5cac225d-a8e4-4e2b-b6c5-59c709712f57",
   "metadata": {
    "jp-MarkdownHeadingCollapsed": true
   },
   "source": [
    "### Lets investigate the make and Model distribution "
   ]
  },
  {
   "cell_type": "code",
   "execution_count": 334,
   "id": "7d31995e-ce15-4a1a-b000-bcc24924381a",
   "metadata": {},
   "outputs": [
    {
     "data": {
      "text/html": [
       "<div>\n",
       "<style scoped>\n",
       "    .dataframe tbody tr th:only-of-type {\n",
       "        vertical-align: middle;\n",
       "    }\n",
       "\n",
       "    .dataframe tbody tr th {\n",
       "        vertical-align: top;\n",
       "    }\n",
       "\n",
       "    .dataframe thead th {\n",
       "        text-align: right;\n",
       "    }\n",
       "</style>\n",
       "<table border=\"1\" class=\"dataframe\">\n",
       "  <thead>\n",
       "    <tr style=\"text-align: right;\">\n",
       "      <th></th>\n",
       "      <th>Make</th>\n",
       "      <th>Model</th>\n",
       "      <th>Investigation_Type</th>\n",
       "      <th>AccidentCount</th>\n",
       "    </tr>\n",
       "  </thead>\n",
       "  <tbody>\n",
       "    <tr>\n",
       "      <th>0</th>\n",
       "      <td>stinson</td>\n",
       "      <td>108-3</td>\n",
       "      <td>Accident</td>\n",
       "      <td>94</td>\n",
       "    </tr>\n",
       "    <tr>\n",
       "      <th>1</th>\n",
       "      <td>piper</td>\n",
       "      <td>PA24-180</td>\n",
       "      <td>Accident</td>\n",
       "      <td>4</td>\n",
       "    </tr>\n",
       "    <tr>\n",
       "      <th>2</th>\n",
       "      <td>cessna</td>\n",
       "      <td>172M</td>\n",
       "      <td>Accident</td>\n",
       "      <td>745</td>\n",
       "    </tr>\n",
       "    <tr>\n",
       "      <th>3</th>\n",
       "      <td>rockwell</td>\n",
       "      <td>112</td>\n",
       "      <td>Accident</td>\n",
       "      <td>5</td>\n",
       "    </tr>\n",
       "    <tr>\n",
       "      <th>4</th>\n",
       "      <td>cessna</td>\n",
       "      <td>180</td>\n",
       "      <td>Accident</td>\n",
       "      <td>578</td>\n",
       "    </tr>\n",
       "    <tr>\n",
       "      <th>...</th>\n",
       "      <td>...</td>\n",
       "      <td>...</td>\n",
       "      <td>...</td>\n",
       "      <td>...</td>\n",
       "    </tr>\n",
       "    <tr>\n",
       "      <th>14561</th>\n",
       "      <td>cessna</td>\n",
       "      <td>305C (0-1E)</td>\n",
       "      <td>Accident</td>\n",
       "      <td>1</td>\n",
       "    </tr>\n",
       "    <tr>\n",
       "      <th>14562</th>\n",
       "      <td>mossman michael d</td>\n",
       "      <td>ZENAIR CH 601 HD</td>\n",
       "      <td>Accident</td>\n",
       "      <td>1</td>\n",
       "    </tr>\n",
       "    <tr>\n",
       "      <th>14563</th>\n",
       "      <td>hibbard norman e</td>\n",
       "      <td>THORP T-18</td>\n",
       "      <td>Accident</td>\n",
       "      <td>1</td>\n",
       "    </tr>\n",
       "    <tr>\n",
       "      <th>14564</th>\n",
       "      <td>waszak arthur b</td>\n",
       "      <td>WITTMAN TAILWIND W10</td>\n",
       "      <td>Accident</td>\n",
       "      <td>1</td>\n",
       "    </tr>\n",
       "    <tr>\n",
       "      <th>14565</th>\n",
       "      <td>stephen j hoffman</td>\n",
       "      <td>MS-500</td>\n",
       "      <td>Accident</td>\n",
       "      <td>1</td>\n",
       "    </tr>\n",
       "  </tbody>\n",
       "</table>\n",
       "<p>14192 rows × 4 columns</p>\n",
       "</div>"
      ],
      "text/plain": [
       "                    Make                 Model Investigation_Type  \\\n",
       "0                stinson                 108-3           Accident   \n",
       "1                  piper              PA24-180           Accident   \n",
       "2                 cessna                  172M           Accident   \n",
       "3               rockwell                   112           Accident   \n",
       "4                 cessna                   180           Accident   \n",
       "...                  ...                   ...                ...   \n",
       "14561             cessna           305C (0-1E)           Accident   \n",
       "14562  mossman michael d      ZENAIR CH 601 HD           Accident   \n",
       "14563   hibbard norman e            THORP T-18           Accident   \n",
       "14564    waszak arthur b  WITTMAN TAILWIND W10           Accident   \n",
       "14565  stephen j hoffman                MS-500           Accident   \n",
       "\n",
       "       AccidentCount  \n",
       "0                 94  \n",
       "1                  4  \n",
       "2                745  \n",
       "3                  5  \n",
       "4                578  \n",
       "...              ...  \n",
       "14561              1  \n",
       "14562              1  \n",
       "14563              1  \n",
       "14564              1  \n",
       "14565              1  \n",
       "\n",
       "[14192 rows x 4 columns]"
      ]
     },
     "execution_count": 334,
     "metadata": {},
     "output_type": "execute_result"
    }
   ],
   "source": [
    "# lets groups these two with accident and plot a barchart\n",
    "make_model = df_new.groupby(['Make', 'Model','Investigation_Type'], sort=False).size().reset_index(name='AccidentCount')\n",
    "make_model = make_model[make_model['Investigation_Type'] == 'Accident']\n",
    "make_model"
   ]
  },
  {
   "cell_type": "code",
   "execution_count": 335,
   "id": "aee3ce1e-41ad-44ea-94c6-a18a5757240f",
   "metadata": {},
   "outputs": [
    {
     "data": {
      "text/html": [
       "<div>\n",
       "<style scoped>\n",
       "    .dataframe tbody tr th:only-of-type {\n",
       "        vertical-align: middle;\n",
       "    }\n",
       "\n",
       "    .dataframe tbody tr th {\n",
       "        vertical-align: top;\n",
       "    }\n",
       "\n",
       "    .dataframe thead th {\n",
       "        text-align: right;\n",
       "    }\n",
       "</style>\n",
       "<table border=\"1\" class=\"dataframe\">\n",
       "  <thead>\n",
       "    <tr style=\"text-align: right;\">\n",
       "      <th></th>\n",
       "      <th>Make</th>\n",
       "      <th>Model</th>\n",
       "      <th>Investigation_Type</th>\n",
       "      <th>AccidentCount</th>\n",
       "    </tr>\n",
       "  </thead>\n",
       "  <tbody>\n",
       "    <tr>\n",
       "      <th>17</th>\n",
       "      <td>cessna</td>\n",
       "      <td>152</td>\n",
       "      <td>Accident</td>\n",
       "      <td>2277</td>\n",
       "    </tr>\n",
       "    <tr>\n",
       "      <th>15</th>\n",
       "      <td>cessna</td>\n",
       "      <td>172</td>\n",
       "      <td>Accident</td>\n",
       "      <td>1559</td>\n",
       "    </tr>\n",
       "    <tr>\n",
       "      <th>41</th>\n",
       "      <td>cessna</td>\n",
       "      <td>172N</td>\n",
       "      <td>Accident</td>\n",
       "      <td>1104</td>\n",
       "    </tr>\n",
       "    <tr>\n",
       "      <th>39</th>\n",
       "      <td>piper</td>\n",
       "      <td>PA-28-140</td>\n",
       "      <td>Accident</td>\n",
       "      <td>884</td>\n",
       "    </tr>\n",
       "    <tr>\n",
       "      <th>60</th>\n",
       "      <td>cessna</td>\n",
       "      <td>150</td>\n",
       "      <td>Accident</td>\n",
       "      <td>764</td>\n",
       "    </tr>\n",
       "    <tr>\n",
       "      <th>...</th>\n",
       "      <td>...</td>\n",
       "      <td>...</td>\n",
       "      <td>...</td>\n",
       "      <td>...</td>\n",
       "    </tr>\n",
       "    <tr>\n",
       "      <th>6166</th>\n",
       "      <td>zenair</td>\n",
       "      <td>601</td>\n",
       "      <td>Accident</td>\n",
       "      <td>1</td>\n",
       "    </tr>\n",
       "    <tr>\n",
       "      <th>6167</th>\n",
       "      <td>rochette</td>\n",
       "      <td>RANS S-12 XL</td>\n",
       "      <td>Accident</td>\n",
       "      <td>1</td>\n",
       "    </tr>\n",
       "    <tr>\n",
       "      <th>6169</th>\n",
       "      <td>rose</td>\n",
       "      <td>VP-1</td>\n",
       "      <td>Accident</td>\n",
       "      <td>1</td>\n",
       "    </tr>\n",
       "    <tr>\n",
       "      <th>6170</th>\n",
       "      <td>lowe</td>\n",
       "      <td>SUPER KOALA</td>\n",
       "      <td>Accident</td>\n",
       "      <td>1</td>\n",
       "    </tr>\n",
       "    <tr>\n",
       "      <th>14565</th>\n",
       "      <td>stephen j hoffman</td>\n",
       "      <td>MS-500</td>\n",
       "      <td>Accident</td>\n",
       "      <td>1</td>\n",
       "    </tr>\n",
       "  </tbody>\n",
       "</table>\n",
       "<p>14192 rows × 4 columns</p>\n",
       "</div>"
      ],
      "text/plain": [
       "                    Make         Model Investigation_Type  AccidentCount\n",
       "17                cessna           152           Accident           2277\n",
       "15                cessna           172           Accident           1559\n",
       "41                cessna          172N           Accident           1104\n",
       "39                 piper     PA-28-140           Accident            884\n",
       "60                cessna           150           Accident            764\n",
       "...                  ...           ...                ...            ...\n",
       "6166              zenair           601           Accident              1\n",
       "6167            rochette  RANS S-12 XL           Accident              1\n",
       "6169                rose          VP-1           Accident              1\n",
       "6170                lowe   SUPER KOALA           Accident              1\n",
       "14565  stephen j hoffman        MS-500           Accident              1\n",
       "\n",
       "[14192 rows x 4 columns]"
      ]
     },
     "execution_count": 335,
     "metadata": {},
     "output_type": "execute_result"
    }
   ],
   "source": [
    "make_model = make_model.sort_values(by='AccidentCount', ascending=False)\n",
    "make_model\n"
   ]
  },
  {
   "cell_type": "code",
   "execution_count": 336,
   "id": "bc2c683e-b798-4452-9193-7b5d7401b747",
   "metadata": {},
   "outputs": [
    {
     "data": {
      "image/png": "[encoded data removed]",
      "text/plain": [
       "<Figure size 800x600 with 1 Axes>"
      ]
     },
     "metadata": {},
     "output_type": "display_data"
    }
   ],
   "source": [
    "# plotting the top 10 make and model \n",
    "\n",
    "fig, ax = plt.subplots(figsize=(8,6))\n",
    "\n",
    "colors = sns.color_palette(\"dark\", len(make_model))\n",
    "\n",
    "ax.barh(make_model['Make'][:20] + ' ' +make_model['Model'][:20], make_model['AccidentCount'][:20], color=colors)\n",
    "ax.set_xlabel('Number of Accidents')\n",
    "ax.set_ylabel('Make and Model')\n",
    "ax.set_title('Top 10 Aircraft Makes and Models Involved in Accidents and used for Business')\n",
    "ax.invert_yaxis();"
   ]
  },
  {
   "cell_type": "markdown",
   "id": "f77bab87-a470-46d0-a4f7-09b9c4d6f0a9",
   "metadata": {},
   "source": [
    "Cessna had been involved in many accidents, followed by PIPER.\n",
    "\n",
    "Cessna Model 152 has most accidents."
   ]
  },
  {
   "cell_type": "markdown",
   "id": "3fd4064d-8ed9-4d9a-9962-211dd5c74a02",
   "metadata": {
    "jp-MarkdownHeadingCollapsed": true
   },
   "source": [
    "### Lets investigate the flight purpose and Make Model that have had many accidents"
   ]
  },
  {
   "cell_type": "code",
   "execution_count": 128,
   "id": "a13e7c9c-fc48-406d-9149-40cec98e3dd0",
   "metadata": {},
   "outputs": [
    {
     "data": {
      "text/plain": [
       "0"
      ]
     },
     "execution_count": 128,
     "metadata": {},
     "output_type": "execute_result"
    }
   ],
   "source": [
    "# Flight purpose cleaning\n",
    "df_new['Flight_Purpose'].isna().sum()"
   ]
  },
  {
   "cell_type": "code",
   "execution_count": 129,
   "id": "4a7fba86-2945-4ec5-909e-10672e7c4c24",
   "metadata": {},
   "outputs": [],
   "source": [
    "# Remove null values\n",
    "df_new = df_new[df_new['Flight_Purpose'].notna()]\n",
    "df_new = df_new[~df_new['Flight_Purpose'].isin(['Unknown'])]"
   ]
  },
  {
   "cell_type": "code",
   "execution_count": 130,
   "id": "a60c23b9-dd8f-41a5-8925-b403da785e39",
   "metadata": {},
   "outputs": [
    {
     "data": {
      "text/plain": [
       "Flight_Purpose\n",
       "Personal                     49038\n",
       "Instructional                10517\n",
       "Aerial Application            4697\n",
       "Business                      3923\n",
       "Positioning                   1603\n",
       "Other Work Use                1206\n",
       "Ferry                          805\n",
       "Aerial Observation             773\n",
       "Public Aircraft                707\n",
       "Executive/corporate            523\n",
       "Flight Test                    396\n",
       "Skydiving                      178\n",
       "External Load                  115\n",
       "Public Aircraft - Federal      102\n",
       "Banner Tow                     101\n",
       "Air Race show                   90\n",
       "Public Aircraft - Local         69\n",
       "Public Aircraft - State         61\n",
       "Air Race/show                   56\n",
       "Glider Tow                      53\n",
       "Firefighting                    38\n",
       "Air Drop                        11\n",
       "ASHO                             6\n",
       "PUBS                             4\n",
       "PUBL                             1\n",
       "Name: count, dtype: int64"
      ]
     },
     "execution_count": 130,
     "metadata": {},
     "output_type": "execute_result"
    }
   ],
   "source": [
    "df_new['Flight_Purpose'].value_counts()"
   ]
  },
  {
   "cell_type": "markdown",
   "id": "80a34766-e6fc-419d-bb53-a27860a4aa7c",
   "metadata": {},
   "source": [
    "Unknown will be taken as Missing values"
   ]
  },
  {
   "cell_type": "code",
   "execution_count": 132,
   "id": "00191377-65c2-470e-a4d0-b34c1787b8aa",
   "metadata": {},
   "outputs": [
    {
     "data": {
      "text/html": [
       "<div>\n",
       "<style scoped>\n",
       "    .dataframe tbody tr th:only-of-type {\n",
       "        vertical-align: middle;\n",
       "    }\n",
       "\n",
       "    .dataframe tbody tr th {\n",
       "        vertical-align: top;\n",
       "    }\n",
       "\n",
       "    .dataframe thead th {\n",
       "        text-align: right;\n",
       "    }\n",
       "</style>\n",
       "<table border=\"1\" class=\"dataframe\">\n",
       "  <thead>\n",
       "    <tr style=\"text-align: right;\">\n",
       "      <th></th>\n",
       "      <th>Make</th>\n",
       "      <th>Model</th>\n",
       "      <th>Flight_Purpose</th>\n",
       "      <th>Count</th>\n",
       "    </tr>\n",
       "  </thead>\n",
       "  <tbody>\n",
       "    <tr>\n",
       "      <th>0</th>\n",
       "      <td>107.5 flying corporation</td>\n",
       "      <td>One Design DR 107</td>\n",
       "      <td>Personal</td>\n",
       "      <td>1</td>\n",
       "    </tr>\n",
       "    <tr>\n",
       "      <th>1</th>\n",
       "      <td>177mf llc</td>\n",
       "      <td>PITTS MODEL 12</td>\n",
       "      <td>Personal</td>\n",
       "      <td>1</td>\n",
       "    </tr>\n",
       "    <tr>\n",
       "      <th>2</th>\n",
       "      <td>1977 colfer-chan</td>\n",
       "      <td>STEEN SKYBOLT</td>\n",
       "      <td>Personal</td>\n",
       "      <td>1</td>\n",
       "    </tr>\n",
       "    <tr>\n",
       "      <th>3</th>\n",
       "      <td>1st ftr gp</td>\n",
       "      <td>FOCKE-WULF 190</td>\n",
       "      <td>Personal</td>\n",
       "      <td>1</td>\n",
       "    </tr>\n",
       "    <tr>\n",
       "      <th>4</th>\n",
       "      <td>2000 mccoy</td>\n",
       "      <td>Genesis</td>\n",
       "      <td>Flight Test</td>\n",
       "      <td>1</td>\n",
       "    </tr>\n",
       "  </tbody>\n",
       "</table>\n",
       "</div>"
      ],
      "text/plain": [
       "                       Make              Model Flight_Purpose  Count\n",
       "0  107.5 flying corporation  One Design DR 107       Personal      1\n",
       "1                 177mf llc     PITTS MODEL 12       Personal      1\n",
       "2          1977 colfer-chan      STEEN SKYBOLT       Personal      1\n",
       "3                1st ftr gp     FOCKE-WULF 190       Personal      1\n",
       "4                2000 mccoy            Genesis    Flight Test      1"
      ]
     },
     "execution_count": 132,
     "metadata": {},
     "output_type": "execute_result"
    }
   ],
   "source": [
    "make_model_flight = df_new.groupby(['Make', 'Model','Flight_Purpose']).size().reset_index(name='Count')\n",
    "make_model_flight.head()\n"
   ]
  },
  {
   "cell_type": "code",
   "execution_count": 133,
   "id": "9129df3f-712e-42ad-95f0-fa6671707dd0",
   "metadata": {},
   "outputs": [],
   "source": [
    "# Create a column combining Make and Model\n",
    "make_model_flight['Make_Model'] = make_model_flight['Make'] + ' ' + make_model_flight['Model']"
   ]
  },
  {
   "cell_type": "code",
   "execution_count": 134,
   "id": "f82d1724-e5fc-48f9-abea-bd4f6fbeaf51",
   "metadata": {},
   "outputs": [],
   "source": [
    "# Pivot the data for plotting\n",
    "make_model_flight_pivot = make_model_flight.pivot(index='Make_Model', columns='Flight_Purpose', values='Count').fillna(0)"
   ]
  },
  {
   "cell_type": "code",
   "execution_count": 135,
   "id": "495a97c7-ffa3-4ae7-a7de-1136f8641d49",
   "metadata": {},
   "outputs": [
    {
     "data": {
      "text/plain": [
       "Flight_Purpose\n",
       "ASHO                             6.0\n",
       "Aerial Application            4697.0\n",
       "Aerial Observation             773.0\n",
       "Air Drop                        11.0\n",
       "Air Race show                   90.0\n",
       "Air Race/show                   56.0\n",
       "Banner Tow                     101.0\n",
       "Business                      3923.0\n",
       "Executive/corporate            523.0\n",
       "External Load                  115.0\n",
       "Ferry                          805.0\n",
       "Firefighting                    38.0\n",
       "Flight Test                    396.0\n",
       "Glider Tow                      53.0\n",
       "Instructional                10517.0\n",
       "Other Work Use                1206.0\n",
       "PUBL                             1.0\n",
       "PUBS                             4.0\n",
       "Personal                     49038.0\n",
       "Positioning                   1603.0\n",
       "Public Aircraft                707.0\n",
       "Public Aircraft - Federal      102.0\n",
       "Public Aircraft - Local         69.0\n",
       "Public Aircraft - State         61.0\n",
       "Skydiving                      178.0\n",
       "dtype: float64"
      ]
     },
     "execution_count": 135,
     "metadata": {},
     "output_type": "execute_result"
    }
   ],
   "source": [
    "# Calculate total count for each flight purpose\n",
    "count_flight_purpose = make_model_flight_pivot.sum(axis=0)\n",
    "count_flight_purpose"
   ]
  },
  {
   "cell_type": "code",
   "execution_count": 136,
   "id": "cd57bc5d-9672-4451-bd3e-af42dcff54a4",
   "metadata": {},
   "outputs": [
    {
     "data": {
      "text/plain": [
       "Index(['Personal', 'Instructional', 'Aerial Application', 'Business',\n",
       "       'Positioning'],\n",
       "      dtype='object', name='Flight_Purpose')"
      ]
     },
     "execution_count": 136,
     "metadata": {},
     "output_type": "execute_result"
    }
   ],
   "source": [
    "# Select top 10 flight purposes\n",
    "top_flight_purposes = count_flight_purpose.nlargest(5).index\n",
    "top_flight_purposes"
   ]
  },
  {
   "cell_type": "code",
   "execution_count": 137,
   "id": "4ca96e7a-5d63-4e54-b40b-62b2eec24c2f",
   "metadata": {},
   "outputs": [
    {
     "data": {
      "text/html": [
       "<div>\n",
       "<style scoped>\n",
       "    .dataframe tbody tr th:only-of-type {\n",
       "        vertical-align: middle;\n",
       "    }\n",
       "\n",
       "    .dataframe tbody tr th {\n",
       "        vertical-align: top;\n",
       "    }\n",
       "\n",
       "    .dataframe thead th {\n",
       "        text-align: right;\n",
       "    }\n",
       "</style>\n",
       "<table border=\"1\" class=\"dataframe\">\n",
       "  <thead>\n",
       "    <tr style=\"text-align: right;\">\n",
       "      <th>Flight_Purpose</th>\n",
       "      <th>Personal</th>\n",
       "      <th>Instructional</th>\n",
       "      <th>Aerial Application</th>\n",
       "      <th>Business</th>\n",
       "      <th>Positioning</th>\n",
       "    </tr>\n",
       "    <tr>\n",
       "      <th>Make_Model</th>\n",
       "      <th></th>\n",
       "      <th></th>\n",
       "      <th></th>\n",
       "      <th></th>\n",
       "      <th></th>\n",
       "    </tr>\n",
       "  </thead>\n",
       "  <tbody>\n",
       "    <tr>\n",
       "      <th>107.5 flying corporation One Design DR 107</th>\n",
       "      <td>1.0</td>\n",
       "      <td>0.0</td>\n",
       "      <td>0.0</td>\n",
       "      <td>0.0</td>\n",
       "      <td>0.0</td>\n",
       "    </tr>\n",
       "    <tr>\n",
       "      <th>177mf llc PITTS MODEL 12</th>\n",
       "      <td>1.0</td>\n",
       "      <td>0.0</td>\n",
       "      <td>0.0</td>\n",
       "      <td>0.0</td>\n",
       "      <td>0.0</td>\n",
       "    </tr>\n",
       "    <tr>\n",
       "      <th>1977 colfer-chan STEEN SKYBOLT</th>\n",
       "      <td>1.0</td>\n",
       "      <td>0.0</td>\n",
       "      <td>0.0</td>\n",
       "      <td>0.0</td>\n",
       "      <td>0.0</td>\n",
       "    </tr>\n",
       "    <tr>\n",
       "      <th>1st ftr gp FOCKE-WULF 190</th>\n",
       "      <td>1.0</td>\n",
       "      <td>0.0</td>\n",
       "      <td>0.0</td>\n",
       "      <td>0.0</td>\n",
       "      <td>0.0</td>\n",
       "    </tr>\n",
       "    <tr>\n",
       "      <th>2000 mccoy Genesis</th>\n",
       "      <td>0.0</td>\n",
       "      <td>0.0</td>\n",
       "      <td>0.0</td>\n",
       "      <td>0.0</td>\n",
       "      <td>0.0</td>\n",
       "    </tr>\n",
       "    <tr>\n",
       "      <th>...</th>\n",
       "      <td>...</td>\n",
       "      <td>...</td>\n",
       "      <td>...</td>\n",
       "      <td>...</td>\n",
       "      <td>...</td>\n",
       "    </tr>\n",
       "    <tr>\n",
       "      <th>zubair s khan RAVEN</th>\n",
       "      <td>1.0</td>\n",
       "      <td>0.0</td>\n",
       "      <td>0.0</td>\n",
       "      <td>0.0</td>\n",
       "      <td>0.0</td>\n",
       "    </tr>\n",
       "    <tr>\n",
       "      <th>zuber thomas p ZUBER SUPER DRIFTER</th>\n",
       "      <td>1.0</td>\n",
       "      <td>0.0</td>\n",
       "      <td>0.0</td>\n",
       "      <td>0.0</td>\n",
       "      <td>0.0</td>\n",
       "    </tr>\n",
       "    <tr>\n",
       "      <th>zukowski EAA BIPLANE</th>\n",
       "      <td>1.0</td>\n",
       "      <td>0.0</td>\n",
       "      <td>0.0</td>\n",
       "      <td>0.0</td>\n",
       "      <td>0.0</td>\n",
       "    </tr>\n",
       "    <tr>\n",
       "      <th>zwart KIT FOX VIXEN</th>\n",
       "      <td>1.0</td>\n",
       "      <td>0.0</td>\n",
       "      <td>0.0</td>\n",
       "      <td>0.0</td>\n",
       "      <td>0.0</td>\n",
       "    </tr>\n",
       "    <tr>\n",
       "      <th>zwicker murray r GLASTAR</th>\n",
       "      <td>1.0</td>\n",
       "      <td>0.0</td>\n",
       "      <td>0.0</td>\n",
       "      <td>0.0</td>\n",
       "      <td>0.0</td>\n",
       "    </tr>\n",
       "  </tbody>\n",
       "</table>\n",
       "<p>15755 rows × 5 columns</p>\n",
       "</div>"
      ],
      "text/plain": [
       "Flight_Purpose                              Personal  Instructional  \\\n",
       "Make_Model                                                            \n",
       "107.5 flying corporation One Design DR 107       1.0            0.0   \n",
       "177mf llc PITTS MODEL 12                         1.0            0.0   \n",
       "1977 colfer-chan STEEN SKYBOLT                   1.0            0.0   \n",
       "1st ftr gp FOCKE-WULF 190                        1.0            0.0   \n",
       "2000 mccoy Genesis                               0.0            0.0   \n",
       "...                                              ...            ...   \n",
       "zubair s khan RAVEN                              1.0            0.0   \n",
       "zuber thomas p ZUBER SUPER DRIFTER               1.0            0.0   \n",
       "zukowski EAA BIPLANE                             1.0            0.0   \n",
       "zwart KIT FOX VIXEN                              1.0            0.0   \n",
       "zwicker murray r GLASTAR                         1.0            0.0   \n",
       "\n",
       "Flight_Purpose                              Aerial Application  Business  \\\n",
       "Make_Model                                                                 \n",
       "107.5 flying corporation One Design DR 107                 0.0       0.0   \n",
       "177mf llc PITTS MODEL 12                                   0.0       0.0   \n",
       "1977 colfer-chan STEEN SKYBOLT                             0.0       0.0   \n",
       "1st ftr gp FOCKE-WULF 190                                  0.0       0.0   \n",
       "2000 mccoy Genesis                                         0.0       0.0   \n",
       "...                                                        ...       ...   \n",
       "zubair s khan RAVEN                                        0.0       0.0   \n",
       "zuber thomas p ZUBER SUPER DRIFTER                         0.0       0.0   \n",
       "zukowski EAA BIPLANE                                       0.0       0.0   \n",
       "zwart KIT FOX VIXEN                                        0.0       0.0   \n",
       "zwicker murray r GLASTAR                                   0.0       0.0   \n",
       "\n",
       "Flight_Purpose                              Positioning  \n",
       "Make_Model                                               \n",
       "107.5 flying corporation One Design DR 107          0.0  \n",
       "177mf llc PITTS MODEL 12                            0.0  \n",
       "1977 colfer-chan STEEN SKYBOLT                      0.0  \n",
       "1st ftr gp FOCKE-WULF 190                           0.0  \n",
       "2000 mccoy Genesis                                  0.0  \n",
       "...                                                 ...  \n",
       "zubair s khan RAVEN                                 0.0  \n",
       "zuber thomas p ZUBER SUPER DRIFTER                  0.0  \n",
       "zukowski EAA BIPLANE                                0.0  \n",
       "zwart KIT FOX VIXEN                                 0.0  \n",
       "zwicker murray r GLASTAR                            0.0  \n",
       "\n",
       "[15755 rows x 5 columns]"
      ]
     },
     "execution_count": 137,
     "metadata": {},
     "output_type": "execute_result"
    }
   ],
   "source": [
    "# Filter the pivoted data to only include the top 10 flight purposes\n",
    "make_model_flight_pivot_top = make_model_flight_pivot[top_flight_purposes]\n",
    "make_model_flight_pivot_top"
   ]
  },
  {
   "cell_type": "code",
   "execution_count": 138,
   "id": "630495d8-ce82-447a-81be-cf163d5be4ed",
   "metadata": {},
   "outputs": [
    {
     "name": "stderr",
     "output_type": "stream",
     "text": [
      "C:\\Users\\ericm\\AppData\\Local\\Temp\\ipykernel_4896\\1467054139.py:2: SettingWithCopyWarning: \n",
      "A value is trying to be set on a copy of a slice from a DataFrame.\n",
      "Try using .loc[row_indexer,col_indexer] = value instead\n",
      "\n",
      "See the caveats in the documentation: https://pandas.pydata.org/pandas-docs/stable/user_guide/indexing.html#returning-a-view-versus-a-copy\n",
      "  make_model_flight_pivot_top['Total'] = make_model_flight_pivot_top.sum(axis=1)\n"
     ]
    },
    {
     "data": {
      "text/html": [
       "<div>\n",
       "<style scoped>\n",
       "    .dataframe tbody tr th:only-of-type {\n",
       "        vertical-align: middle;\n",
       "    }\n",
       "\n",
       "    .dataframe tbody tr th {\n",
       "        vertical-align: top;\n",
       "    }\n",
       "\n",
       "    .dataframe thead th {\n",
       "        text-align: right;\n",
       "    }\n",
       "</style>\n",
       "<table border=\"1\" class=\"dataframe\">\n",
       "  <thead>\n",
       "    <tr style=\"text-align: right;\">\n",
       "      <th>Flight_Purpose</th>\n",
       "      <th>Personal</th>\n",
       "      <th>Instructional</th>\n",
       "      <th>Aerial Application</th>\n",
       "      <th>Business</th>\n",
       "      <th>Positioning</th>\n",
       "      <th>Total</th>\n",
       "    </tr>\n",
       "    <tr>\n",
       "      <th>Make_Model</th>\n",
       "      <th></th>\n",
       "      <th></th>\n",
       "      <th></th>\n",
       "      <th></th>\n",
       "      <th></th>\n",
       "      <th></th>\n",
       "    </tr>\n",
       "  </thead>\n",
       "  <tbody>\n",
       "    <tr>\n",
       "      <th>107.5 flying corporation One Design DR 107</th>\n",
       "      <td>1.0</td>\n",
       "      <td>0.0</td>\n",
       "      <td>0.0</td>\n",
       "      <td>0.0</td>\n",
       "      <td>0.0</td>\n",
       "      <td>1.0</td>\n",
       "    </tr>\n",
       "    <tr>\n",
       "      <th>177mf llc PITTS MODEL 12</th>\n",
       "      <td>1.0</td>\n",
       "      <td>0.0</td>\n",
       "      <td>0.0</td>\n",
       "      <td>0.0</td>\n",
       "      <td>0.0</td>\n",
       "      <td>1.0</td>\n",
       "    </tr>\n",
       "    <tr>\n",
       "      <th>1977 colfer-chan STEEN SKYBOLT</th>\n",
       "      <td>1.0</td>\n",
       "      <td>0.0</td>\n",
       "      <td>0.0</td>\n",
       "      <td>0.0</td>\n",
       "      <td>0.0</td>\n",
       "      <td>1.0</td>\n",
       "    </tr>\n",
       "    <tr>\n",
       "      <th>1st ftr gp FOCKE-WULF 190</th>\n",
       "      <td>1.0</td>\n",
       "      <td>0.0</td>\n",
       "      <td>0.0</td>\n",
       "      <td>0.0</td>\n",
       "      <td>0.0</td>\n",
       "      <td>1.0</td>\n",
       "    </tr>\n",
       "    <tr>\n",
       "      <th>2000 mccoy Genesis</th>\n",
       "      <td>0.0</td>\n",
       "      <td>0.0</td>\n",
       "      <td>0.0</td>\n",
       "      <td>0.0</td>\n",
       "      <td>0.0</td>\n",
       "      <td>0.0</td>\n",
       "    </tr>\n",
       "    <tr>\n",
       "      <th>...</th>\n",
       "      <td>...</td>\n",
       "      <td>...</td>\n",
       "      <td>...</td>\n",
       "      <td>...</td>\n",
       "      <td>...</td>\n",
       "      <td>...</td>\n",
       "    </tr>\n",
       "    <tr>\n",
       "      <th>zubair s khan RAVEN</th>\n",
       "      <td>1.0</td>\n",
       "      <td>0.0</td>\n",
       "      <td>0.0</td>\n",
       "      <td>0.0</td>\n",
       "      <td>0.0</td>\n",
       "      <td>1.0</td>\n",
       "    </tr>\n",
       "    <tr>\n",
       "      <th>zuber thomas p ZUBER SUPER DRIFTER</th>\n",
       "      <td>1.0</td>\n",
       "      <td>0.0</td>\n",
       "      <td>0.0</td>\n",
       "      <td>0.0</td>\n",
       "      <td>0.0</td>\n",
       "      <td>1.0</td>\n",
       "    </tr>\n",
       "    <tr>\n",
       "      <th>zukowski EAA BIPLANE</th>\n",
       "      <td>1.0</td>\n",
       "      <td>0.0</td>\n",
       "      <td>0.0</td>\n",
       "      <td>0.0</td>\n",
       "      <td>0.0</td>\n",
       "      <td>1.0</td>\n",
       "    </tr>\n",
       "    <tr>\n",
       "      <th>zwart KIT FOX VIXEN</th>\n",
       "      <td>1.0</td>\n",
       "      <td>0.0</td>\n",
       "      <td>0.0</td>\n",
       "      <td>0.0</td>\n",
       "      <td>0.0</td>\n",
       "      <td>1.0</td>\n",
       "    </tr>\n",
       "    <tr>\n",
       "      <th>zwicker murray r GLASTAR</th>\n",
       "      <td>1.0</td>\n",
       "      <td>0.0</td>\n",
       "      <td>0.0</td>\n",
       "      <td>0.0</td>\n",
       "      <td>0.0</td>\n",
       "      <td>1.0</td>\n",
       "    </tr>\n",
       "  </tbody>\n",
       "</table>\n",
       "<p>15755 rows × 6 columns</p>\n",
       "</div>"
      ],
      "text/plain": [
       "Flight_Purpose                              Personal  Instructional  \\\n",
       "Make_Model                                                            \n",
       "107.5 flying corporation One Design DR 107       1.0            0.0   \n",
       "177mf llc PITTS MODEL 12                         1.0            0.0   \n",
       "1977 colfer-chan STEEN SKYBOLT                   1.0            0.0   \n",
       "1st ftr gp FOCKE-WULF 190                        1.0            0.0   \n",
       "2000 mccoy Genesis                               0.0            0.0   \n",
       "...                                              ...            ...   \n",
       "zubair s khan RAVEN                              1.0            0.0   \n",
       "zuber thomas p ZUBER SUPER DRIFTER               1.0            0.0   \n",
       "zukowski EAA BIPLANE                             1.0            0.0   \n",
       "zwart KIT FOX VIXEN                              1.0            0.0   \n",
       "zwicker murray r GLASTAR                         1.0            0.0   \n",
       "\n",
       "Flight_Purpose                              Aerial Application  Business  \\\n",
       "Make_Model                                                                 \n",
       "107.5 flying corporation One Design DR 107                 0.0       0.0   \n",
       "177mf llc PITTS MODEL 12                                   0.0       0.0   \n",
       "1977 colfer-chan STEEN SKYBOLT                             0.0       0.0   \n",
       "1st ftr gp FOCKE-WULF 190                                  0.0       0.0   \n",
       "2000 mccoy Genesis                                         0.0       0.0   \n",
       "...                                                        ...       ...   \n",
       "zubair s khan RAVEN                                        0.0       0.0   \n",
       "zuber thomas p ZUBER SUPER DRIFTER                         0.0       0.0   \n",
       "zukowski EAA BIPLANE                                       0.0       0.0   \n",
       "zwart KIT FOX VIXEN                                        0.0       0.0   \n",
       "zwicker murray r GLASTAR                                   0.0       0.0   \n",
       "\n",
       "Flight_Purpose                              Positioning  Total  \n",
       "Make_Model                                                      \n",
       "107.5 flying corporation One Design DR 107          0.0    1.0  \n",
       "177mf llc PITTS MODEL 12                            0.0    1.0  \n",
       "1977 colfer-chan STEEN SKYBOLT                      0.0    1.0  \n",
       "1st ftr gp FOCKE-WULF 190                           0.0    1.0  \n",
       "2000 mccoy Genesis                                  0.0    0.0  \n",
       "...                                                 ...    ...  \n",
       "zubair s khan RAVEN                                 0.0    1.0  \n",
       "zuber thomas p ZUBER SUPER DRIFTER                  0.0    1.0  \n",
       "zukowski EAA BIPLANE                                0.0    1.0  \n",
       "zwart KIT FOX VIXEN                                 0.0    1.0  \n",
       "zwicker murray r GLASTAR                            0.0    1.0  \n",
       "\n",
       "[15755 rows x 6 columns]"
      ]
     },
     "execution_count": 138,
     "metadata": {},
     "output_type": "execute_result"
    }
   ],
   "source": [
    "# Sorting by the total count\n",
    "make_model_flight_pivot_top['Total'] = make_model_flight_pivot_top.sum(axis=1)\n",
    "make_model_flight_pivot_top\n"
   ]
  },
  {
   "cell_type": "code",
   "execution_count": 139,
   "id": "4386941c-d3ac-4ea2-977c-b5da24328719",
   "metadata": {},
   "outputs": [],
   "source": [
    "# sort values by total \n",
    "make_model_flight_pivot_top = make_model_flight_pivot_top.sort_values(by='Total', ascending=False).drop(columns='Total')"
   ]
  },
  {
   "cell_type": "code",
   "execution_count": 140,
   "id": "e0415893-d13f-41cb-8a39-b580566f5153",
   "metadata": {},
   "outputs": [
    {
     "data": {
      "image/png": "[encoded data removed]",
      "text/plain": [
       "<Figure size 1200x800 with 1 Axes>"
      ]
     },
     "metadata": {},
     "output_type": "display_data"
    }
   ],
   "source": [
    "\n",
    "# Plotting and stacking the flightpurpose categories in a bar chart\n",
    "fig, ax = plt.subplots(figsize=(12, 8))\n",
    "\n",
    "make_model_flight_pivot_top[:20].plot(kind='bar', stacked=True, ax=ax, )\n",
    "\n",
    "ax.set_xlabel('Make and Model')\n",
    "ax.set_ylabel('Number of Accidents')\n",
    "ax.set_title('Flight Purpose Distribution by Make and Model')\n",
    "plt.xticks(rotation=45, ha='right')\n",
    "\n",
    "plt.tight_layout()\n",
    "\n",
    "plt.show()"
   ]
  },
  {
   "cell_type": "markdown",
   "id": "f11bdc1e-b1dc-4f59-b05f-cae778c1f53b",
   "metadata": {},
   "source": [
    "From the distribution, the CESSNA and PIPER that have been involved in most accidents while  Personal and Instructional use lead the flight purpose. \n",
    "\n",
    "\n"
   ]
  },
  {
   "cell_type": "markdown",
   "id": "0997c6b2-41aa-492c-87af-387945382bbc",
   "metadata": {
    "jp-MarkdownHeadingCollapsed": true
   },
   "source": [
    "### Lets investigate the aircraft damage and the make and model of the planes"
   ]
  },
  {
   "cell_type": "code",
   "execution_count": 141,
   "id": "eed884aa-9246-4504-b22c-7b0abe4dc357",
   "metadata": {},
   "outputs": [
    {
     "name": "stdout",
     "output_type": "stream",
     "text": [
      "<class 'pandas.core.frame.DataFrame'>\n",
      "Index: 75073 entries, 0 to 88886\n",
      "Data columns (total 16 columns):\n",
      " #   Column              Non-Null Count  Dtype         \n",
      "---  ------              --------------  -----         \n",
      " 0   Investigation_Type  75073 non-null  object        \n",
      " 1   Event_Date          75073 non-null  datetime64[ns]\n",
      " 2   Country             74955 non-null  object        \n",
      " 3   Injury_Severity     75051 non-null  object        \n",
      " 4   Aircraft_damage     75073 non-null  object        \n",
      " 5   Make                75073 non-null  object        \n",
      " 6   Model               75073 non-null  object        \n",
      " 7   Amateur.Built       75044 non-null  object        \n",
      " 8   Number_of_Engines   72823 non-null  float64       \n",
      " 9   Engine.Type         71863 non-null  object        \n",
      " 10  Flight_Purpose      75073 non-null  object        \n",
      " 11  Fatal_Injuries      65356 non-null  float64       \n",
      " 12  Serious_Injuries    64327 non-null  float64       \n",
      " 13  Minor_Injuries      65005 non-null  float64       \n",
      " 14  Uninjured           69964 non-null  float64       \n",
      " 15  Weather             74279 non-null  object        \n",
      "dtypes: datetime64[ns](1), float64(5), object(10)\n",
      "memory usage: 9.7+ MB\n"
     ]
    }
   ],
   "source": [
    "df_new.info()"
   ]
  },
  {
   "cell_type": "code",
   "execution_count": 142,
   "id": "62533b06-6b98-4631-9e46-8a1d7c4d135f",
   "metadata": {},
   "outputs": [
    {
     "data": {
      "text/plain": [
       "0"
      ]
     },
     "execution_count": 142,
     "metadata": {},
     "output_type": "execute_result"
    }
   ],
   "source": [
    "# check mussing values\n",
    "df_new['Aircraft_damage'].isna().sum()"
   ]
  },
  {
   "cell_type": "code",
   "execution_count": 143,
   "id": "4640b439-16cc-42ea-94f0-520af28fb8f9",
   "metadata": {},
   "outputs": [],
   "source": [
    "# drop missing values\n",
    "df_new = df_new[df_new['Aircraft_damage'].notna()]"
   ]
  },
  {
   "cell_type": "code",
   "execution_count": 144,
   "id": "9c3a5605-463e-46f8-8b56-b4b29a82697d",
   "metadata": {},
   "outputs": [
    {
     "data": {
      "text/plain": [
       "Aircraft_damage\n",
       "Substantial    58298\n",
       "Destroyed      15750\n",
       "Minor           1025\n",
       "Name: count, dtype: int64"
      ]
     },
     "execution_count": 144,
     "metadata": {},
     "output_type": "execute_result"
    }
   ],
   "source": [
    "df_new['Aircraft_damage'].value_counts()"
   ]
  },
  {
   "cell_type": "markdown",
   "id": "4c6a8306-8858-4f15-9b64-2ec28c38d293",
   "metadata": {},
   "source": [
    "Unknown is taken as missing values so i drop the rows since its less than 1% of the data in the column "
   ]
  },
  {
   "cell_type": "code",
   "execution_count": 145,
   "id": "ba2c3f6c-4fcd-41ce-a6bc-859dd062276d",
   "metadata": {},
   "outputs": [
    {
     "data": {
      "text/plain": [
       "Aircraft_damage\n",
       "Substantial    58298\n",
       "Destroyed      15750\n",
       "Minor           1025\n",
       "Name: count, dtype: int64"
      ]
     },
     "execution_count": 145,
     "metadata": {},
     "output_type": "execute_result"
    }
   ],
   "source": [
    "df_new = df_new[~df_new['Aircraft_damage'].isin(['Unknown'])]\n",
    "df_new['Aircraft_damage'].value_counts()"
   ]
  },
  {
   "cell_type": "code",
   "execution_count": 146,
   "id": "ce667bb6-a3ae-462e-a75f-c100ce4869ff",
   "metadata": {},
   "outputs": [
    {
     "data": {
      "text/html": [
       "<div>\n",
       "<style scoped>\n",
       "    .dataframe tbody tr th:only-of-type {\n",
       "        vertical-align: middle;\n",
       "    }\n",
       "\n",
       "    .dataframe tbody tr th {\n",
       "        vertical-align: top;\n",
       "    }\n",
       "\n",
       "    .dataframe thead th {\n",
       "        text-align: right;\n",
       "    }\n",
       "</style>\n",
       "<table border=\"1\" class=\"dataframe\">\n",
       "  <thead>\n",
       "    <tr style=\"text-align: right;\">\n",
       "      <th></th>\n",
       "      <th>Make</th>\n",
       "      <th>Model</th>\n",
       "      <th>Aircraft_damage</th>\n",
       "      <th>Count</th>\n",
       "    </tr>\n",
       "  </thead>\n",
       "  <tbody>\n",
       "    <tr>\n",
       "      <th>0</th>\n",
       "      <td>107.5 flying corporation</td>\n",
       "      <td>One Design DR 107</td>\n",
       "      <td>Destroyed</td>\n",
       "      <td>1</td>\n",
       "    </tr>\n",
       "    <tr>\n",
       "      <th>1</th>\n",
       "      <td>177mf llc</td>\n",
       "      <td>PITTS MODEL 12</td>\n",
       "      <td>Substantial</td>\n",
       "      <td>1</td>\n",
       "    </tr>\n",
       "    <tr>\n",
       "      <th>2</th>\n",
       "      <td>1977 colfer-chan</td>\n",
       "      <td>STEEN SKYBOLT</td>\n",
       "      <td>Substantial</td>\n",
       "      <td>1</td>\n",
       "    </tr>\n",
       "    <tr>\n",
       "      <th>3</th>\n",
       "      <td>1st ftr gp</td>\n",
       "      <td>FOCKE-WULF 190</td>\n",
       "      <td>Destroyed</td>\n",
       "      <td>1</td>\n",
       "    </tr>\n",
       "    <tr>\n",
       "      <th>4</th>\n",
       "      <td>2000 mccoy</td>\n",
       "      <td>Genesis</td>\n",
       "      <td>Destroyed</td>\n",
       "      <td>1</td>\n",
       "    </tr>\n",
       "  </tbody>\n",
       "</table>\n",
       "</div>"
      ],
      "text/plain": [
       "                       Make              Model Aircraft_damage  Count\n",
       "0  107.5 flying corporation  One Design DR 107       Destroyed      1\n",
       "1                 177mf llc     PITTS MODEL 12     Substantial      1\n",
       "2          1977 colfer-chan      STEEN SKYBOLT     Substantial      1\n",
       "3                1st ftr gp     FOCKE-WULF 190       Destroyed      1\n",
       "4                2000 mccoy            Genesis       Destroyed      1"
      ]
     },
     "execution_count": 146,
     "metadata": {},
     "output_type": "execute_result"
    }
   ],
   "source": [
    "make_model_damage = df_new.groupby(['Make', 'Model', 'Aircraft_damage']).size().reset_index(name='Count')\n",
    "make_model_damage.head()"
   ]
  },
  {
   "cell_type": "code",
   "execution_count": 147,
   "id": "388f1d45-fc5f-47b3-b312-94adc0a2e1c4",
   "metadata": {},
   "outputs": [
    {
     "data": {
      "text/html": [
       "<div>\n",
       "<style scoped>\n",
       "    .dataframe tbody tr th:only-of-type {\n",
       "        vertical-align: middle;\n",
       "    }\n",
       "\n",
       "    .dataframe tbody tr th {\n",
       "        vertical-align: top;\n",
       "    }\n",
       "\n",
       "    .dataframe thead th {\n",
       "        text-align: right;\n",
       "    }\n",
       "</style>\n",
       "<table border=\"1\" class=\"dataframe\">\n",
       "  <thead>\n",
       "    <tr style=\"text-align: right;\">\n",
       "      <th></th>\n",
       "      <th>Make</th>\n",
       "      <th>Model</th>\n",
       "      <th>Aircraft_damage</th>\n",
       "      <th>Count</th>\n",
       "      <th>Make_model</th>\n",
       "    </tr>\n",
       "  </thead>\n",
       "  <tbody>\n",
       "    <tr>\n",
       "      <th>0</th>\n",
       "      <td>107.5 flying corporation</td>\n",
       "      <td>One Design DR 107</td>\n",
       "      <td>Destroyed</td>\n",
       "      <td>1</td>\n",
       "      <td>107.5 flying corporation One Design DR 107</td>\n",
       "    </tr>\n",
       "    <tr>\n",
       "      <th>1</th>\n",
       "      <td>177mf llc</td>\n",
       "      <td>PITTS MODEL 12</td>\n",
       "      <td>Substantial</td>\n",
       "      <td>1</td>\n",
       "      <td>177mf llc PITTS MODEL 12</td>\n",
       "    </tr>\n",
       "    <tr>\n",
       "      <th>2</th>\n",
       "      <td>1977 colfer-chan</td>\n",
       "      <td>STEEN SKYBOLT</td>\n",
       "      <td>Substantial</td>\n",
       "      <td>1</td>\n",
       "      <td>1977 colfer-chan STEEN SKYBOLT</td>\n",
       "    </tr>\n",
       "    <tr>\n",
       "      <th>3</th>\n",
       "      <td>1st ftr gp</td>\n",
       "      <td>FOCKE-WULF 190</td>\n",
       "      <td>Destroyed</td>\n",
       "      <td>1</td>\n",
       "      <td>1st ftr gp FOCKE-WULF 190</td>\n",
       "    </tr>\n",
       "    <tr>\n",
       "      <th>4</th>\n",
       "      <td>2000 mccoy</td>\n",
       "      <td>Genesis</td>\n",
       "      <td>Destroyed</td>\n",
       "      <td>1</td>\n",
       "      <td>2000 mccoy Genesis</td>\n",
       "    </tr>\n",
       "    <tr>\n",
       "      <th>...</th>\n",
       "      <td>...</td>\n",
       "      <td>...</td>\n",
       "      <td>...</td>\n",
       "      <td>...</td>\n",
       "      <td>...</td>\n",
       "    </tr>\n",
       "    <tr>\n",
       "      <th>18120</th>\n",
       "      <td>zubair s khan</td>\n",
       "      <td>RAVEN</td>\n",
       "      <td>Substantial</td>\n",
       "      <td>1</td>\n",
       "      <td>zubair s khan RAVEN</td>\n",
       "    </tr>\n",
       "    <tr>\n",
       "      <th>18121</th>\n",
       "      <td>zuber thomas p</td>\n",
       "      <td>ZUBER SUPER DRIFTER</td>\n",
       "      <td>Substantial</td>\n",
       "      <td>1</td>\n",
       "      <td>zuber thomas p ZUBER SUPER DRIFTER</td>\n",
       "    </tr>\n",
       "    <tr>\n",
       "      <th>18122</th>\n",
       "      <td>zukowski</td>\n",
       "      <td>EAA BIPLANE</td>\n",
       "      <td>Substantial</td>\n",
       "      <td>1</td>\n",
       "      <td>zukowski EAA BIPLANE</td>\n",
       "    </tr>\n",
       "    <tr>\n",
       "      <th>18123</th>\n",
       "      <td>zwart</td>\n",
       "      <td>KIT FOX VIXEN</td>\n",
       "      <td>Substantial</td>\n",
       "      <td>1</td>\n",
       "      <td>zwart KIT FOX VIXEN</td>\n",
       "    </tr>\n",
       "    <tr>\n",
       "      <th>18124</th>\n",
       "      <td>zwicker murray r</td>\n",
       "      <td>GLASTAR</td>\n",
       "      <td>Substantial</td>\n",
       "      <td>1</td>\n",
       "      <td>zwicker murray r GLASTAR</td>\n",
       "    </tr>\n",
       "  </tbody>\n",
       "</table>\n",
       "<p>18125 rows × 5 columns</p>\n",
       "</div>"
      ],
      "text/plain": [
       "                           Make                Model Aircraft_damage  Count  \\\n",
       "0      107.5 flying corporation    One Design DR 107       Destroyed      1   \n",
       "1                     177mf llc       PITTS MODEL 12     Substantial      1   \n",
       "2              1977 colfer-chan        STEEN SKYBOLT     Substantial      1   \n",
       "3                    1st ftr gp       FOCKE-WULF 190       Destroyed      1   \n",
       "4                    2000 mccoy              Genesis       Destroyed      1   \n",
       "...                         ...                  ...             ...    ...   \n",
       "18120             zubair s khan                RAVEN     Substantial      1   \n",
       "18121            zuber thomas p  ZUBER SUPER DRIFTER     Substantial      1   \n",
       "18122                  zukowski          EAA BIPLANE     Substantial      1   \n",
       "18123                     zwart        KIT FOX VIXEN     Substantial      1   \n",
       "18124          zwicker murray r              GLASTAR     Substantial      1   \n",
       "\n",
       "                                       Make_model  \n",
       "0      107.5 flying corporation One Design DR 107  \n",
       "1                        177mf llc PITTS MODEL 12  \n",
       "2                  1977 colfer-chan STEEN SKYBOLT  \n",
       "3                       1st ftr gp FOCKE-WULF 190  \n",
       "4                              2000 mccoy Genesis  \n",
       "...                                           ...  \n",
       "18120                         zubair s khan RAVEN  \n",
       "18121          zuber thomas p ZUBER SUPER DRIFTER  \n",
       "18122                        zukowski EAA BIPLANE  \n",
       "18123                         zwart KIT FOX VIXEN  \n",
       "18124                    zwicker murray r GLASTAR  \n",
       "\n",
       "[18125 rows x 5 columns]"
      ]
     },
     "execution_count": 147,
     "metadata": {},
     "output_type": "execute_result"
    }
   ],
   "source": [
    "make_model_damage['Make_model'] = make_model_damage['Make']+ ' '+ make_model_damage['Model']\n",
    "make_model_damage"
   ]
  },
  {
   "cell_type": "code",
   "execution_count": 148,
   "id": "16817a87-5023-4f60-aaa8-0c3bae9b79fd",
   "metadata": {},
   "outputs": [
    {
     "data": {
      "text/html": [
       "<div>\n",
       "<style scoped>\n",
       "    .dataframe tbody tr th:only-of-type {\n",
       "        vertical-align: middle;\n",
       "    }\n",
       "\n",
       "    .dataframe tbody tr th {\n",
       "        vertical-align: top;\n",
       "    }\n",
       "\n",
       "    .dataframe thead th {\n",
       "        text-align: right;\n",
       "    }\n",
       "</style>\n",
       "<table border=\"1\" class=\"dataframe\">\n",
       "  <thead>\n",
       "    <tr style=\"text-align: right;\">\n",
       "      <th>Aircraft_damage</th>\n",
       "      <th>Destroyed</th>\n",
       "      <th>Minor</th>\n",
       "      <th>Substantial</th>\n",
       "    </tr>\n",
       "    <tr>\n",
       "      <th>Make_model</th>\n",
       "      <th></th>\n",
       "      <th></th>\n",
       "      <th></th>\n",
       "    </tr>\n",
       "  </thead>\n",
       "  <tbody>\n",
       "    <tr>\n",
       "      <th>107.5 flying corporation One Design DR 107</th>\n",
       "      <td>1.0</td>\n",
       "      <td>0.0</td>\n",
       "      <td>0.0</td>\n",
       "    </tr>\n",
       "    <tr>\n",
       "      <th>177mf llc PITTS MODEL 12</th>\n",
       "      <td>0.0</td>\n",
       "      <td>0.0</td>\n",
       "      <td>1.0</td>\n",
       "    </tr>\n",
       "    <tr>\n",
       "      <th>1977 colfer-chan STEEN SKYBOLT</th>\n",
       "      <td>0.0</td>\n",
       "      <td>0.0</td>\n",
       "      <td>1.0</td>\n",
       "    </tr>\n",
       "    <tr>\n",
       "      <th>1st ftr gp FOCKE-WULF 190</th>\n",
       "      <td>1.0</td>\n",
       "      <td>0.0</td>\n",
       "      <td>0.0</td>\n",
       "    </tr>\n",
       "    <tr>\n",
       "      <th>2000 mccoy Genesis</th>\n",
       "      <td>1.0</td>\n",
       "      <td>0.0</td>\n",
       "      <td>0.0</td>\n",
       "    </tr>\n",
       "    <tr>\n",
       "      <th>...</th>\n",
       "      <td>...</td>\n",
       "      <td>...</td>\n",
       "      <td>...</td>\n",
       "    </tr>\n",
       "    <tr>\n",
       "      <th>zubair s khan RAVEN</th>\n",
       "      <td>0.0</td>\n",
       "      <td>0.0</td>\n",
       "      <td>1.0</td>\n",
       "    </tr>\n",
       "    <tr>\n",
       "      <th>zuber thomas p ZUBER SUPER DRIFTER</th>\n",
       "      <td>0.0</td>\n",
       "      <td>0.0</td>\n",
       "      <td>1.0</td>\n",
       "    </tr>\n",
       "    <tr>\n",
       "      <th>zukowski EAA BIPLANE</th>\n",
       "      <td>0.0</td>\n",
       "      <td>0.0</td>\n",
       "      <td>1.0</td>\n",
       "    </tr>\n",
       "    <tr>\n",
       "      <th>zwart KIT FOX VIXEN</th>\n",
       "      <td>0.0</td>\n",
       "      <td>0.0</td>\n",
       "      <td>1.0</td>\n",
       "    </tr>\n",
       "    <tr>\n",
       "      <th>zwicker murray r GLASTAR</th>\n",
       "      <td>0.0</td>\n",
       "      <td>0.0</td>\n",
       "      <td>1.0</td>\n",
       "    </tr>\n",
       "  </tbody>\n",
       "</table>\n",
       "<p>15755 rows × 3 columns</p>\n",
       "</div>"
      ],
      "text/plain": [
       "Aircraft_damage                             Destroyed  Minor  Substantial\n",
       "Make_model                                                               \n",
       "107.5 flying corporation One Design DR 107        1.0    0.0          0.0\n",
       "177mf llc PITTS MODEL 12                          0.0    0.0          1.0\n",
       "1977 colfer-chan STEEN SKYBOLT                    0.0    0.0          1.0\n",
       "1st ftr gp FOCKE-WULF 190                         1.0    0.0          0.0\n",
       "2000 mccoy Genesis                                1.0    0.0          0.0\n",
       "...                                               ...    ...          ...\n",
       "zubair s khan RAVEN                               0.0    0.0          1.0\n",
       "zuber thomas p ZUBER SUPER DRIFTER                0.0    0.0          1.0\n",
       "zukowski EAA BIPLANE                              0.0    0.0          1.0\n",
       "zwart KIT FOX VIXEN                               0.0    0.0          1.0\n",
       "zwicker murray r GLASTAR                          0.0    0.0          1.0\n",
       "\n",
       "[15755 rows x 3 columns]"
      ]
     },
     "execution_count": 148,
     "metadata": {},
     "output_type": "execute_result"
    }
   ],
   "source": [
    "make_model_damage_pivot = make_model_damage.pivot(index='Make_model', columns='Aircraft_damage', values='Count').fillna(0)\n",
    "make_model_damage_pivot"
   ]
  },
  {
   "cell_type": "code",
   "execution_count": 149,
   "id": "d1cb936f-a16c-4d9b-9e77-f765fe776109",
   "metadata": {},
   "outputs": [
    {
     "data": {
      "text/html": [
       "<div>\n",
       "<style scoped>\n",
       "    .dataframe tbody tr th:only-of-type {\n",
       "        vertical-align: middle;\n",
       "    }\n",
       "\n",
       "    .dataframe tbody tr th {\n",
       "        vertical-align: top;\n",
       "    }\n",
       "\n",
       "    .dataframe thead th {\n",
       "        text-align: right;\n",
       "    }\n",
       "</style>\n",
       "<table border=\"1\" class=\"dataframe\">\n",
       "  <thead>\n",
       "    <tr style=\"text-align: right;\">\n",
       "      <th>Aircraft_damage</th>\n",
       "      <th>Destroyed</th>\n",
       "      <th>Minor</th>\n",
       "      <th>Substantial</th>\n",
       "    </tr>\n",
       "    <tr>\n",
       "      <th>Make_model</th>\n",
       "      <th></th>\n",
       "      <th></th>\n",
       "      <th></th>\n",
       "    </tr>\n",
       "  </thead>\n",
       "  <tbody>\n",
       "    <tr>\n",
       "      <th>cessna 152</th>\n",
       "      <td>352.0</td>\n",
       "      <td>28.0</td>\n",
       "      <td>1935.0</td>\n",
       "    </tr>\n",
       "    <tr>\n",
       "      <th>cessna 172</th>\n",
       "      <td>178.0</td>\n",
       "      <td>8.0</td>\n",
       "      <td>1440.0</td>\n",
       "    </tr>\n",
       "    <tr>\n",
       "      <th>cessna 172N</th>\n",
       "      <td>225.0</td>\n",
       "      <td>7.0</td>\n",
       "      <td>893.0</td>\n",
       "    </tr>\n",
       "    <tr>\n",
       "      <th>piper PA-28-140</th>\n",
       "      <td>218.0</td>\n",
       "      <td>5.0</td>\n",
       "      <td>694.0</td>\n",
       "    </tr>\n",
       "    <tr>\n",
       "      <th>cessna 150</th>\n",
       "      <td>123.0</td>\n",
       "      <td>9.0</td>\n",
       "      <td>653.0</td>\n",
       "    </tr>\n",
       "    <tr>\n",
       "      <th>...</th>\n",
       "      <td>...</td>\n",
       "      <td>...</td>\n",
       "      <td>...</td>\n",
       "    </tr>\n",
       "    <tr>\n",
       "      <th>flurry AVENTURA II</th>\n",
       "      <td>0.0</td>\n",
       "      <td>0.0</td>\n",
       "      <td>1.0</td>\n",
       "    </tr>\n",
       "    <tr>\n",
       "      <th>fly baby 1-A</th>\n",
       "      <td>0.0</td>\n",
       "      <td>0.0</td>\n",
       "      <td>1.0</td>\n",
       "    </tr>\n",
       "    <tr>\n",
       "      <th>fly by sea co COMP AIR 1</th>\n",
       "      <td>0.0</td>\n",
       "      <td>0.0</td>\n",
       "      <td>1.0</td>\n",
       "    </tr>\n",
       "    <tr>\n",
       "      <th>fly hard trike inc SKYCYCLE STING RAY</th>\n",
       "      <td>0.0</td>\n",
       "      <td>0.0</td>\n",
       "      <td>1.0</td>\n",
       "    </tr>\n",
       "    <tr>\n",
       "      <th>zwicker murray r GLASTAR</th>\n",
       "      <td>0.0</td>\n",
       "      <td>0.0</td>\n",
       "      <td>1.0</td>\n",
       "    </tr>\n",
       "  </tbody>\n",
       "</table>\n",
       "<p>15755 rows × 3 columns</p>\n",
       "</div>"
      ],
      "text/plain": [
       "Aircraft_damage                        Destroyed  Minor  Substantial\n",
       "Make_model                                                          \n",
       "cessna 152                                 352.0   28.0       1935.0\n",
       "cessna 172                                 178.0    8.0       1440.0\n",
       "cessna 172N                                225.0    7.0        893.0\n",
       "piper PA-28-140                            218.0    5.0        694.0\n",
       "cessna 150                                 123.0    9.0        653.0\n",
       "...                                          ...    ...          ...\n",
       "flurry AVENTURA II                           0.0    0.0          1.0\n",
       "fly baby 1-A                                 0.0    0.0          1.0\n",
       "fly by sea co COMP AIR 1                     0.0    0.0          1.0\n",
       "fly hard trike inc SKYCYCLE STING RAY        0.0    0.0          1.0\n",
       "zwicker murray r GLASTAR                     0.0    0.0          1.0\n",
       "\n",
       "[15755 rows x 3 columns]"
      ]
     },
     "execution_count": 149,
     "metadata": {},
     "output_type": "execute_result"
    }
   ],
   "source": [
    "# create total column to be able to sort values\n",
    "make_model_damage_pivot['Total'] = make_model_damage_pivot.sum(axis=1)\n",
    "make_model_damage_pivot = make_model_damage_pivot.sort_values(by='Total', ascending=False).drop(columns='Total')\n",
    "make_model_damage_pivot"
   ]
  },
  {
   "cell_type": "code",
   "execution_count": 150,
   "id": "944c1f31-bb72-4fc3-9df2-1f22bb095fac",
   "metadata": {},
   "outputs": [
    {
     "data": {
      "image/png": "[encoded data removed]",
      "text/plain": [
       "<Figure size 1200x800 with 1 Axes>"
      ]
     },
     "metadata": {},
     "output_type": "display_data"
    }
   ],
   "source": [
    "# plotting the pivot table using plot function\n",
    "fig, ax = plt.subplots(figsize=(12,8))\n",
    "\n",
    "make_model_damage_pivot[:10].plot(kind='bar',stacked=True, ax=ax,)\n",
    "ax.set_title('Aircraft Damage Distribution by Make and Model')\n",
    "ax.set_xlabel('Make and Model')\n",
    "ax.set_ylabel('Number ')\n",
    "plt.xticks(rotation=45, ha='right');"
   ]
  },
  {
   "cell_type": "markdown",
   "id": "606c60f9-459d-46f5-a096-7562c2a17b7f",
   "metadata": {},
   "source": [
    "The Cessna suffered substantial damage more."
   ]
  },
  {
   "cell_type": "markdown",
   "id": "17219ce3-c1f5-485f-bcd5-c34b665381d6",
   "metadata": {
    "jp-MarkdownHeadingCollapsed": true
   },
   "source": [
    "### Lets determine the aircraft make with less accidents and was used for business. "
   ]
  },
  {
   "cell_type": "code",
   "execution_count": 97,
   "id": "123a9c0c-a645-40b5-93e5-1b9b64385a5b",
   "metadata": {},
   "outputs": [
    {
     "data": {
      "text/html": [
       "<div>\n",
       "<style scoped>\n",
       "    .dataframe tbody tr th:only-of-type {\n",
       "        vertical-align: middle;\n",
       "    }\n",
       "\n",
       "    .dataframe tbody tr th {\n",
       "        vertical-align: top;\n",
       "    }\n",
       "\n",
       "    .dataframe thead th {\n",
       "        text-align: right;\n",
       "    }\n",
       "</style>\n",
       "<table border=\"1\" class=\"dataframe\">\n",
       "  <thead>\n",
       "    <tr style=\"text-align: right;\">\n",
       "      <th></th>\n",
       "      <th>Make</th>\n",
       "      <th>Count</th>\n",
       "    </tr>\n",
       "  </thead>\n",
       "  <tbody>\n",
       "    <tr>\n",
       "      <th>1175</th>\n",
       "      <td>cessna</td>\n",
       "      <td>1337.0</td>\n",
       "    </tr>\n",
       "    <tr>\n",
       "      <th>5010</th>\n",
       "      <td>piper</td>\n",
       "      <td>805.0</td>\n",
       "    </tr>\n",
       "    <tr>\n",
       "      <th>591</th>\n",
       "      <td>beech</td>\n",
       "      <td>476.0</td>\n",
       "    </tr>\n",
       "    <tr>\n",
       "      <th>605</th>\n",
       "      <td>bell</td>\n",
       "      <td>169.0</td>\n",
       "    </tr>\n",
       "    <tr>\n",
       "      <th>4524</th>\n",
       "      <td>mooney</td>\n",
       "      <td>97.0</td>\n",
       "    </tr>\n",
       "    <tr>\n",
       "      <th>...</th>\n",
       "      <td>...</td>\n",
       "      <td>...</td>\n",
       "    </tr>\n",
       "    <tr>\n",
       "      <th>2467</th>\n",
       "      <td>geide</td>\n",
       "      <td>0.0</td>\n",
       "    </tr>\n",
       "    <tr>\n",
       "      <th>2466</th>\n",
       "      <td>gefa-flug gmbh</td>\n",
       "      <td>0.0</td>\n",
       "    </tr>\n",
       "    <tr>\n",
       "      <th>2465</th>\n",
       "      <td>geertz</td>\n",
       "      <td>0.0</td>\n",
       "    </tr>\n",
       "    <tr>\n",
       "      <th>2464</th>\n",
       "      <td>geddes</td>\n",
       "      <td>0.0</td>\n",
       "    </tr>\n",
       "    <tr>\n",
       "      <th>7206</th>\n",
       "      <td>zwicker murray r</td>\n",
       "      <td>0.0</td>\n",
       "    </tr>\n",
       "  </tbody>\n",
       "</table>\n",
       "<p>7207 rows × 2 columns</p>\n",
       "</div>"
      ],
      "text/plain": [
       "                  Make   Count\n",
       "1175            cessna  1337.0\n",
       "5010             piper   805.0\n",
       "591              beech   476.0\n",
       "605               bell   169.0\n",
       "4524            mooney    97.0\n",
       "...                ...     ...\n",
       "2467             geide     0.0\n",
       "2466    gefa-flug gmbh     0.0\n",
       "2465            geertz     0.0\n",
       "2464            geddes     0.0\n",
       "7206  zwicker murray r     0.0\n",
       "\n",
       "[7207 rows x 2 columns]"
      ]
     },
     "execution_count": 97,
     "metadata": {},
     "output_type": "execute_result"
    }
   ],
   "source": [
    "make_business = df_new.groupby(['Make', 'Flight_Purpose']).size().reset_index(name='Count')\n",
    "make_business_pivot = make_business.pivot(index='Make', columns='Flight_Purpose', values='Count').fillna(0)\n",
    "mbusiness = make_business_pivot['Business'].reset_index(name='Count')\n",
    "mbsort = mbusiness.sort_values(by='Count', ascending=False)\n",
    "mbsort"
   ]
  },
  {
   "cell_type": "code",
   "execution_count": 356,
   "id": "45a523f8-c375-44d5-b3cd-6b6c72b79f4a",
   "metadata": {},
   "outputs": [
    {
     "data": {
      "image/png": "[encoded data removed]",
      "text/plain": [
       "<Figure size 1000x800 with 1 Axes>"
      ]
     },
     "metadata": {},
     "output_type": "display_data"
    }
   ],
   "source": [
    "# plot the distribution of accidents for make and business flight purpose\n",
    "# Determine what plane is good for business\n",
    "\n",
    "fig, ax = plt.subplots(figsize=(10,8))\n",
    "\n",
    "\n",
    "colors = sns.color_palette(\"dark\", 20)\n",
    "ax.barh(mbsort['Make'][:20], mbsort['Count'][:20], color=colors )\n",
    "ax.set_xlabel('Number of Accidents')\n",
    "ax.set_ylabel('Make')\n",
    "ax.set_title('Distribution of Accidents for Make by business flight purpose ');\n",
    "ax.invert_yaxis()"
   ]
  },
  {
   "cell_type": "markdown",
   "id": "edee93f9-2136-4c13-b8ec-9ae0b45968db",
   "metadata": {},
   "source": [
    "Cessna , Piper and Beech  have the most number of accidents for business purpose.\n",
    "\n",
    "Largely attributed by the fact that it has been involved in many accidents. "
   ]
  },
  {
   "cell_type": "code",
   "execution_count": 108,
   "id": "91419235-deac-4ce2-8f58-ad734e3eeaf8",
   "metadata": {},
   "outputs": [],
   "source": [
    "# lets calculate the least in the business category"
   ]
  },
  {
   "cell_type": "code",
   "execution_count": 151,
   "id": "6b31d34b-d5cc-4ba8-b296-281d6ccbb539",
   "metadata": {},
   "outputs": [
    {
     "data": {
      "text/plain": [
       "6950"
      ]
     },
     "execution_count": 151,
     "metadata": {},
     "output_type": "execute_result"
    }
   ],
   "source": [
    "mbsort_least = mbusiness.sort_values(by='Count')\n",
    "len(mbsort_least[mbsort_least['Count'] == 0])\n"
   ]
  },
  {
   "cell_type": "code",
   "execution_count": null,
   "id": "2f42d683-db4c-42b7-9caf-5cd0fd6acbf8",
   "metadata": {},
   "outputs": [],
   "source": [
    "From the above Distinction we can see that alot of planes have less Accidents.  "
   ]
  },
  {
   "cell_type": "markdown",
   "id": "b36b5f49-f925-44cc-b04a-6719319b6758",
   "metadata": {},
   "source": [
    "### Lets look at the Engine type that has had lowest accidents"
   ]
  },
  {
   "cell_type": "code",
   "execution_count": 163,
   "id": "b2dcdc5c-ee77-428b-b74c-dc6966c9ab54",
   "metadata": {},
   "outputs": [
    {
     "data": {
      "text/plain": [
       "Engine_Type\n",
       "Reciprocating    65111\n",
       "Turbo Shaft       2536\n",
       "Turbo Prop        2142\n",
       "Turbo Fan          434\n",
       "Turbo Jet          260\n",
       "Electric             9\n",
       "LR                   1\n",
       "Name: count, dtype: int64"
      ]
     },
     "execution_count": 163,
     "metadata": {},
     "output_type": "execute_result"
    }
   ],
   "source": [
    "df_new['Engine_Type'].value_counts()"
   ]
  },
  {
   "cell_type": "markdown",
   "id": "356d6cfc-f8c5-4e1b-bae6-fbda7aa172a9",
   "metadata": {},
   "source": [
    "UNK, NONE and Unknown are place holders for missing values. so i will just drop them."
   ]
  },
  {
   "cell_type": "code",
   "execution_count": 161,
   "id": "ac25f583-3019-425c-a0c7-a1e31b0545dc",
   "metadata": {},
   "outputs": [
    {
     "data": {
      "text/plain": [
       "0"
      ]
     },
     "execution_count": 161,
     "metadata": {},
     "output_type": "execute_result"
    }
   ],
   "source": [
    "df_new['Engine_Type'].isna().sum()"
   ]
  },
  {
   "cell_type": "code",
   "execution_count": 160,
   "id": "97992475-8e94-477e-adf6-9598c5a94b6b",
   "metadata": {},
   "outputs": [],
   "source": [
    "df_new = df_new[df_new['Engine_Type'].notna()]"
   ]
  },
  {
   "cell_type": "code",
   "execution_count": 162,
   "id": "9e61543a-29a3-4e0a-a21a-628b88cee676",
   "metadata": {},
   "outputs": [],
   "source": [
    "df_new = df_new[~df_new['Engine_Type'].isin(['UNK', 'NONE', 'Unknown'])]"
   ]
  },
  {
   "cell_type": "code",
   "execution_count": 377,
   "id": "c98243c8-6081-4875-925d-9045fd4eb78a",
   "metadata": {},
   "outputs": [
    {
     "data": {
      "text/html": [
       "<div>\n",
       "<style scoped>\n",
       "    .dataframe tbody tr th:only-of-type {\n",
       "        vertical-align: middle;\n",
       "    }\n",
       "\n",
       "    .dataframe tbody tr th {\n",
       "        vertical-align: top;\n",
       "    }\n",
       "\n",
       "    .dataframe thead th {\n",
       "        text-align: right;\n",
       "    }\n",
       "</style>\n",
       "<table border=\"1\" class=\"dataframe\">\n",
       "  <thead>\n",
       "    <tr style=\"text-align: right;\">\n",
       "      <th></th>\n",
       "      <th>Engine_Type</th>\n",
       "      <th>Investigation_Type</th>\n",
       "      <th>Flight_Purpose</th>\n",
       "      <th>Count</th>\n",
       "    </tr>\n",
       "  </thead>\n",
       "  <tbody>\n",
       "    <tr>\n",
       "      <th>0</th>\n",
       "      <td>Electric</td>\n",
       "      <td>Accident</td>\n",
       "      <td>Business</td>\n",
       "      <td>1</td>\n",
       "    </tr>\n",
       "    <tr>\n",
       "      <th>3</th>\n",
       "      <td>LR</td>\n",
       "      <td>Accident</td>\n",
       "      <td>Business</td>\n",
       "      <td>1</td>\n",
       "    </tr>\n",
       "    <tr>\n",
       "      <th>11</th>\n",
       "      <td>Reciprocating</td>\n",
       "      <td>Accident</td>\n",
       "      <td>Business</td>\n",
       "      <td>3085</td>\n",
       "    </tr>\n",
       "    <tr>\n",
       "      <th>12</th>\n",
       "      <td>Reciprocating</td>\n",
       "      <td>Accident</td>\n",
       "      <td>Executive/corporate</td>\n",
       "      <td>190</td>\n",
       "    </tr>\n",
       "    <tr>\n",
       "      <th>45</th>\n",
       "      <td>Turbo Fan</td>\n",
       "      <td>Accident</td>\n",
       "      <td>Business</td>\n",
       "      <td>69</td>\n",
       "    </tr>\n",
       "    <tr>\n",
       "      <th>46</th>\n",
       "      <td>Turbo Fan</td>\n",
       "      <td>Accident</td>\n",
       "      <td>Executive/corporate</td>\n",
       "      <td>90</td>\n",
       "    </tr>\n",
       "    <tr>\n",
       "      <th>68</th>\n",
       "      <td>Turbo Jet</td>\n",
       "      <td>Accident</td>\n",
       "      <td>Business</td>\n",
       "      <td>37</td>\n",
       "    </tr>\n",
       "    <tr>\n",
       "      <th>69</th>\n",
       "      <td>Turbo Jet</td>\n",
       "      <td>Accident</td>\n",
       "      <td>Executive/corporate</td>\n",
       "      <td>27</td>\n",
       "    </tr>\n",
       "    <tr>\n",
       "      <th>89</th>\n",
       "      <td>Turbo Prop</td>\n",
       "      <td>Accident</td>\n",
       "      <td>Business</td>\n",
       "      <td>227</td>\n",
       "    </tr>\n",
       "    <tr>\n",
       "      <th>90</th>\n",
       "      <td>Turbo Prop</td>\n",
       "      <td>Accident</td>\n",
       "      <td>Executive/corporate</td>\n",
       "      <td>93</td>\n",
       "    </tr>\n",
       "    <tr>\n",
       "      <th>117</th>\n",
       "      <td>Turbo Shaft</td>\n",
       "      <td>Accident</td>\n",
       "      <td>Business</td>\n",
       "      <td>227</td>\n",
       "    </tr>\n",
       "    <tr>\n",
       "      <th>118</th>\n",
       "      <td>Turbo Shaft</td>\n",
       "      <td>Accident</td>\n",
       "      <td>Executive/corporate</td>\n",
       "      <td>65</td>\n",
       "    </tr>\n",
       "  </tbody>\n",
       "</table>\n",
       "</div>"
      ],
      "text/plain": [
       "       Engine_Type Investigation_Type       Flight_Purpose  Count\n",
       "0         Electric           Accident             Business      1\n",
       "3               LR           Accident             Business      1\n",
       "11   Reciprocating           Accident             Business   3085\n",
       "12   Reciprocating           Accident  Executive/corporate    190\n",
       "45       Turbo Fan           Accident             Business     69\n",
       "46       Turbo Fan           Accident  Executive/corporate     90\n",
       "68       Turbo Jet           Accident             Business     37\n",
       "69       Turbo Jet           Accident  Executive/corporate     27\n",
       "89      Turbo Prop           Accident             Business    227\n",
       "90      Turbo Prop           Accident  Executive/corporate     93\n",
       "117    Turbo Shaft           Accident             Business    227\n",
       "118    Turbo Shaft           Accident  Executive/corporate     65"
      ]
     },
     "execution_count": 377,
     "metadata": {},
     "output_type": "execute_result"
    }
   ],
   "source": [
    "eng_accidents = df_new.groupby(['Engine_Type', 'Investigation_Type', 'Flight_Purpose']).size().reset_index(name='Count')\n",
    "# sort by accident\n",
    "eng_accidents = eng_accidents[eng_accidents['Investigation_Type'] == 'Accident']\n",
    "# sort by business flight purpose\n",
    "eng_accidents = eng_accidents[eng_accidents['Flight_Purpose'].isin(['Business', 'Executive/corporate'])]\n",
    "\n",
    "eng_accidents"
   ]
  },
  {
   "cell_type": "code",
   "execution_count": 378,
   "id": "d234d9a3-0d11-440b-ae96-85c0fba197ad",
   "metadata": {},
   "outputs": [
    {
     "data": {
      "image/png": "[encoded data removed]",
      "text/plain": [
       "<Figure size 800x600 with 1 Axes>"
      ]
     },
     "metadata": {},
     "output_type": "display_data"
    }
   ],
   "source": [
    "# plotting engine type and the number of accidents involved in \n",
    "fig, ax = plt.subplots(figsize=(8,6))\n",
    "\n",
    "ax.bar(eng_accidents['Engine_Type'], eng_accidents['Count'])\n",
    "ax.set_xlabel('Engine type')\n",
    "ax.set_ylabel('Number of Accidents')\n",
    "ax.set_title('Distribution of Engine Type by Number of Accidents');"
   ]
  },
  {
   "cell_type": "markdown",
   "id": "00cf07af-b4a6-49a5-a139-b27cb0091d3e",
   "metadata": {},
   "source": [
    "Reciprocating engines are generally used for small aircrafts. Hence mostly used in CESSNA and Piper. This explains the high number of accidents\n",
    "\n",
    "Turbo fan engines are used for commercial planes e.g Boeing 747, Boing 767. It is a good engine type to purchase. \n",
    "Turbo Jet engines offer high thrust and performance at high speeds, making them ideal for military and supersonic applications. \n",
    "\n",
    "For electric and LR engine, they are less common and have less data. \n",
    "\n",
    "Turbo jet and Turbo fan engines seem to be the best engine categories. \n",
    "\n",
    "**Turbo jet** being the best for business purpose"
   ]
  },
  {
   "cell_type": "markdown",
   "id": "20885955-91b1-4b3c-bafa-c248913a967e",
   "metadata": {},
   "source": []
  },
  {
   "cell_type": "markdown",
   "id": "2804c61c-2c05-49a8-9726-1b5a27896d58",
   "metadata": {
    "jp-MarkdownHeadingCollapsed": true
   },
   "source": [
    "### Lets investigate distribution of accidents yearly"
   ]
  },
  {
   "cell_type": "code",
   "execution_count": 245,
   "id": "30f2f553-4632-4e06-ad92-48a71afe96e6",
   "metadata": {},
   "outputs": [
    {
     "name": "stdout",
     "output_type": "stream",
     "text": [
      "<class 'pandas.core.frame.DataFrame'>\n",
      "Index: 70493 entries, 0 to 88767\n",
      "Data columns (total 16 columns):\n",
      " #   Column              Non-Null Count  Dtype         \n",
      "---  ------              --------------  -----         \n",
      " 0   Investigation_Type  70493 non-null  object        \n",
      " 1   Event_Date          70493 non-null  datetime64[ns]\n",
      " 2   Country             70379 non-null  object        \n",
      " 3   Injury_Severity     70481 non-null  object        \n",
      " 4   Aircraft_damage     70493 non-null  object        \n",
      " 5   Make                70493 non-null  object        \n",
      " 6   Model               70493 non-null  object        \n",
      " 7   Amateur.Built       70477 non-null  object        \n",
      " 8   Number_of_Engines   69963 non-null  float64       \n",
      " 9   Engine_Type         70493 non-null  object        \n",
      " 10  Flight_Purpose      70493 non-null  object        \n",
      " 11  Fatal_Injuries      61194 non-null  float64       \n",
      " 12  Serious_Injuries    60326 non-null  float64       \n",
      " 13  Minor_Injuries      61051 non-null  float64       \n",
      " 14  Uninjured           65846 non-null  float64       \n",
      " 15  Weather             70242 non-null  object        \n",
      "dtypes: datetime64[ns](1), float64(5), object(10)\n",
      "memory usage: 11.2+ MB\n"
     ]
    }
   ],
   "source": [
    "df_new.info()"
   ]
  },
  {
   "cell_type": "code",
   "execution_count": 262,
   "id": "258cd3db-47f1-45ea-a5fb-961f53e10971",
   "metadata": {},
   "outputs": [
    {
     "data": {
      "text/plain": [
       "0        1948\n",
       "1        1962\n",
       "2        1974\n",
       "3        1977\n",
       "6        1981\n",
       "         ... \n",
       "88639    2022\n",
       "88647    2022\n",
       "88661    2022\n",
       "88735    2022\n",
       "88767    2022\n",
       "Name: Event_Date, Length: 70493, dtype: int64"
      ]
     },
     "execution_count": 262,
     "metadata": {},
     "output_type": "execute_result"
    }
   ],
   "source": [
    "df_new['Event_Date']"
   ]
  },
  {
   "cell_type": "code",
   "execution_count": null,
   "id": "6013e9f4-0685-4925-b511-49789b1c9372",
   "metadata": {},
   "outputs": [],
   "source": [
    "# convert event date to year\n",
    "\n",
    "df_new['Event_Date'] = df_new['Event_Date'].map(lambda x: x.year)\n",
    "df_new"
   ]
  },
  {
   "cell_type": "code",
   "execution_count": 275,
   "id": "dd4ea2b5-64a3-4525-9d11-3305e91065b7",
   "metadata": {},
   "outputs": [
    {
     "data": {
      "text/plain": [
       "array([1948, 1962, 1974, 1977, 1981, 1982, 1983, 1984, 1985, 1986, 1987,\n",
       "       1988, 1989, 1990, 1991, 1992, 1993, 1994, 1995, 1996, 1997, 1998,\n",
       "       1999, 2000, 2001, 2002, 2003, 2004, 2005, 2006, 2007, 2008, 2009,\n",
       "       2010, 2011, 2012, 2013, 2014, 2015, 2016, 2017, 2018, 2019, 2020,\n",
       "       2021, 2022], dtype=int64)"
      ]
     },
     "execution_count": 275,
     "metadata": {},
     "output_type": "execute_result"
    }
   ],
   "source": [
    "df_new['Event_Date'].isna().sum()\n",
    "df_new['Event_Date'].unique()"
   ]
  },
  {
   "cell_type": "code",
   "execution_count": 350,
   "id": "8d2bf2c4-fdb2-4f5b-9fec-eb09d32838b9",
   "metadata": {},
   "outputs": [
    {
     "data": {
      "image/png": "[encoded data removed]",
      "text/plain": [
       "<Figure size 800x400 with 1 Axes>"
      ]
     },
     "metadata": {},
     "output_type": "display_data"
    }
   ],
   "source": [
    "\n",
    "df_new = df_new[df_new['Event_Date'] >= 1982]\n",
    "\n",
    "accidents_by_year = df_new['Event_Date'].value_counts().sort_index()\n",
    "\n",
    "plt.figure(figsize=(8, 4))\n",
    "plt.plot(accidents_by_year.index, accidents_by_year.values, linestyle='-')\n",
    "plt.title('Number of Aviation Accidents (1982 Onwards)')\n",
    "plt.xlabel('Year')\n",
    "plt.ylabel('Number of Accidents')\n",
    "plt.grid(True)\n",
    "plt.xticks(rotation=45)\n",
    "plt.show()"
   ]
  },
  {
   "cell_type": "markdown",
   "id": "77e40df9-be86-48ef-8052-9d24b779ae6b",
   "metadata": {},
   "source": [
    "There's a dramatic decrease of accidents across the years."
   ]
  },
  {
   "cell_type": "markdown",
   "id": "93af586c-1f8f-46ad-9cfe-2dda272f5b50",
   "metadata": {},
   "source": [
    "## The Aircraft at Lowest Risk \n",
    "-----\n",
    "#### The following attributes contribute highly in determining the aircraft with lowest risk.\n",
    "- engine type should be turbo Jet\n",
    "- flight purpose -(Business, Executive/corporate )\n",
    "- investigation type -(Accident)\n",
    "- Aircraft_damage - (Minor)\n",
    "  "
   ]
  },
  {
   "cell_type": "code",
   "execution_count": 375,
   "id": "cd6ae3e2-70b0-448d-b8f0-15792274a19b",
   "metadata": {},
   "outputs": [
    {
     "data": {
      "text/html": [
       "<div>\n",
       "<style scoped>\n",
       "    .dataframe tbody tr th:only-of-type {\n",
       "        vertical-align: middle;\n",
       "    }\n",
       "\n",
       "    .dataframe tbody tr th {\n",
       "        vertical-align: top;\n",
       "    }\n",
       "\n",
       "    .dataframe thead th {\n",
       "        text-align: right;\n",
       "    }\n",
       "</style>\n",
       "<table border=\"1\" class=\"dataframe\">\n",
       "  <thead>\n",
       "    <tr style=\"text-align: right;\">\n",
       "      <th></th>\n",
       "      <th>Make</th>\n",
       "      <th>Model</th>\n",
       "      <th>Investigation_Type</th>\n",
       "      <th>Event_Date</th>\n",
       "      <th>Flight_Purpose</th>\n",
       "      <th>Engine_Type</th>\n",
       "      <th>Aircraft_damage</th>\n",
       "      <th>count</th>\n",
       "    </tr>\n",
       "  </thead>\n",
       "  <tbody>\n",
       "    <tr>\n",
       "      <th>17925</th>\n",
       "      <td>cessna</td>\n",
       "      <td>550</td>\n",
       "      <td>Accident</td>\n",
       "      <td>2018</td>\n",
       "      <td>Business</td>\n",
       "      <td>Turbo Jet</td>\n",
       "      <td>Substantial</td>\n",
       "      <td>1</td>\n",
       "    </tr>\n",
       "    <tr>\n",
       "      <th>17950</th>\n",
       "      <td>cessna</td>\n",
       "      <td>560</td>\n",
       "      <td>Accident</td>\n",
       "      <td>2019</td>\n",
       "      <td>Business</td>\n",
       "      <td>Turbo Jet</td>\n",
       "      <td>Minor</td>\n",
       "      <td>1</td>\n",
       "    </tr>\n",
       "    <tr>\n",
       "      <th>26366</th>\n",
       "      <td>honda aircraft</td>\n",
       "      <td>HA-420</td>\n",
       "      <td>Accident</td>\n",
       "      <td>2019</td>\n",
       "      <td>Executive/corporate</td>\n",
       "      <td>Turbo Jet</td>\n",
       "      <td>Substantial</td>\n",
       "      <td>1</td>\n",
       "    </tr>\n",
       "    <tr>\n",
       "      <th>28204</th>\n",
       "      <td>learjet inc</td>\n",
       "      <td>31</td>\n",
       "      <td>Accident</td>\n",
       "      <td>2018</td>\n",
       "      <td>Business</td>\n",
       "      <td>Turbo Jet</td>\n",
       "      <td>Substantial</td>\n",
       "      <td>1</td>\n",
       "    </tr>\n",
       "    <tr>\n",
       "      <th>31436</th>\n",
       "      <td>northrop</td>\n",
       "      <td>F5</td>\n",
       "      <td>Accident</td>\n",
       "      <td>2020</td>\n",
       "      <td>Business</td>\n",
       "      <td>Turbo Jet</td>\n",
       "      <td>Substantial</td>\n",
       "      <td>1</td>\n",
       "    </tr>\n",
       "  </tbody>\n",
       "</table>\n",
       "</div>"
      ],
      "text/plain": [
       "                 Make   Model Investigation_Type  Event_Date  \\\n",
       "17925          cessna     550           Accident        2018   \n",
       "17950          cessna     560           Accident        2019   \n",
       "26366  honda aircraft  HA-420           Accident        2019   \n",
       "28204     learjet inc      31           Accident        2018   \n",
       "31436        northrop      F5           Accident        2020   \n",
       "\n",
       "            Flight_Purpose Engine_Type Aircraft_damage  count  \n",
       "17925             Business   Turbo Jet     Substantial      1  \n",
       "17950             Business   Turbo Jet           Minor      1  \n",
       "26366  Executive/corporate   Turbo Jet     Substantial      1  \n",
       "28204             Business   Turbo Jet     Substantial      1  \n",
       "31436             Business   Turbo Jet     Substantial      1  "
      ]
     },
     "execution_count": 375,
     "metadata": {},
     "output_type": "execute_result"
    }
   ],
   "source": [
    "# group by the attributes above \n",
    "low_risk = df_new.groupby(['Make','Model', 'Investigation_Type', 'Event_Date', 'Flight_Purpose', 'Engine_Type' ,'Aircraft_damage']).size().reset_index(name='count')\n",
    "\n",
    "# filter rows to get accident only\n",
    "low_risk  = low_risk [low_risk ['Investigation_Type'] == 'Accident']\n",
    "\n",
    "# filter rows to get past 10 years\n",
    "low_risk  = low_risk [low_risk ['Event_Date'].map(lambda x: x in range(2017,2022))]\n",
    "\n",
    "# filter by Business flight purpose \n",
    "low_risk  = low_risk [low_risk ['Flight_Purpose'].isin(['Business', 'Executive/corporate'])]\n",
    "\n",
    "# filter by engine type turbo jet and turbo fan\n",
    "low_risk  = low_risk [low_risk ['Engine_Type'].isin(['Turbo Jet'])]\n",
    "\n",
    "# sort by count\n",
    "low_risk  = low_risk .sort_values(by='count', ascending=False)\n",
    "low_risk "
   ]
  },
  {
   "cell_type": "markdown",
   "id": "ab9e75c9-3f42-46d4-9370-78fc84f5067d",
   "metadata": {},
   "source": [
    "We are remaining with 5 planes to decide from. \n"
   ]
  },
  {
   "cell_type": "code",
   "execution_count": 370,
   "id": "4a3ac9fe-38d3-43be-baaf-d20d6ab57e0e",
   "metadata": {},
   "outputs": [
    {
     "data": {
      "text/plain": [
       "17950    cessna 560\n",
       "dtype: object"
      ]
     },
     "execution_count": 370,
     "metadata": {},
     "output_type": "execute_result"
    }
   ],
   "source": [
    "# I added aircraft damage to see whether i would get an edge. \n",
    "\n",
    "#filter by aircraft damange\n",
    "low_risk  = low_risk [low_risk ['Aircraft_damage'] == 'Minor']\n",
    "Best_aircraft =  low_risk['Make'] +' '+ low_risk['Model']\n",
    "Best_aircraft"
   ]
  },
  {
   "cell_type": "markdown",
   "id": "b4c3de84-c55f-4f56-b6d8-b5da0327cdb7",
   "metadata": {},
   "source": [
    "### **Cessna 560** is the lowest risk Aircraft"
   ]
  }
 ],
 "metadata": {
  "kernelspec": {
   "display_name": "Python (learn-env)",
   "language": "python",
   "name": "learn-env"
  },
  "language_info": {
   "codemirror_mode": {
    "name": "ipython",
    "version": 3
   },
   "file_extension": ".py",
   "mimetype": "text/x-python",
   "name": "python",
   "nbconvert_exporter": "python",
   "pygments_lexer": "ipython3",
   "version": "3.12.3"
  }
 },
 "nbformat": 4,
 "nbformat_minor": 5
}
