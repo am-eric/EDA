{
 "cells": [
  {
   "cell_type": "markdown",
   "id": "2a70f710-f5ca-4d6e-b90e-7a42f6b39388",
   "metadata": {},
   "source": [
    "# EXPLORATORY DATA ANALYSIS\n",
    "Company X is expanding in to new industries to diversify its portfolio. They are particularly interested in purchasing and operating airplanes for commercial and private enterprises. However, they do not have enough knowledge on the potential risks of aircrafts.\n",
    "\n"
   ]
  },
  {
   "cell_type": "markdown",
   "id": "d0e7fca6-c5d6-4b77-a58c-3424db4245eb",
   "metadata": {},
   "source": [
    "**Task**\n",
    "\n",
    "- Determine which aircraft are the lowest risk for the company X to start this new endeavor.\n",
    "- Translate findings into actionable insights that the stake holders can use to help decide which aircraft to purchase.\n"
   ]
  },
  {
   "cell_type": "markdown",
   "id": "11fbd029-f331-4030-afd4-bea096c378fe",
   "metadata": {},
   "source": [
    "## The Data\n",
    "The data is from the National Transportation Safety Board that includes aviation accident data from 1962 to 2023 about civil aviation accidents and selected incidents in the United States and international waters. The dataset was obtained from Kaggle. https://www.kaggle.com/datasets/khsamaha/aviation-accident-database-synopses\n"
   ]
  },
  {
   "cell_type": "markdown",
   "id": "6454fda7-e9d5-4360-bf59-f67b2f2906e6",
   "metadata": {},
   "source": [
    "## Loading the Data¶"
   ]
  },
  {
   "cell_type": "code",
   "execution_count": 1,
   "id": "9bf33d6d-56c2-48ba-acdf-6203ba89fd9b",
   "metadata": {},
   "outputs": [],
   "source": [
    "# import necessary libraries\n",
    "import matplotlib.pyplot as plt\n",
    "import pandas as pd\n",
    "import seaborn as sns"
   ]
  },
  {
   "cell_type": "code",
   "execution_count": null,
   "id": "bc30ccd1-1c77-4e86-bdb8-05024bb893b6",
   "metadata": {},
   "outputs": [],
   "source": [
    "df = pd.read_excel(\"AviationData.xlsx\")\n",
    "df.head()"
   ]
  },
  {
   "cell_type": "markdown",
   "id": "7cea1e4b-227c-4fb7-959e-573f06500735",
   "metadata": {},
   "source": [
    "## Exploring the Data"
   ]
  },
  {
   "cell_type": "code",
   "execution_count": null,
   "id": "17bb722c-01e2-4c18-8812-738aafef7d4b",
   "metadata": {},
   "outputs": [],
   "source": [
    "df.info()"
   ]
  },
  {
   "cell_type": "code",
   "execution_count": null,
   "id": "8fe78a79-d217-4b14-a8c9-42d7ea9cb6a8",
   "metadata": {},
   "outputs": [],
   "source": [
    "# get the number of missing values\n",
    "df.isna().sum()"
   ]
  },
  {
   "cell_type": "markdown",
   "id": "8b55a1b3-0006-4ab9-8e92-dfd9b3071790",
   "metadata": {},
   "source": [
    "## Data Cleaning"
   ]
  },
  {
   "cell_type": "code",
   "execution_count": null,
   "id": "9b2b9498-ab95-4273-b7ca-6472a95a2785",
   "metadata": {},
   "outputs": [],
   "source": [
    "relevant_columns = [\n",
    "    'Investigation.Type',\n",
    "    'Event.Date',\n",
    "    'Country',\n",
    "    'Injury.Severity',\n",
    "    'Aircraft.damage',\n",
    "    'Make',\n",
    "    'Model',\n",
    "    'Amateur.Built',\n",
    "    'Number.of.Engines',\n",
    "    'Engine.Type',\n",
    "    'Purpose.of.flight',\n",
    "    'Total.Fatal.Injuries',\n",
    "    'Total.Serious.Injuries',\n",
    "    'Total.Minor.Injuries',\n",
    "    'Total.Uninjured',\n",
    "    'Weather.Condition',\n",
    "    \n",
    "]"
   ]
  },
  {
   "cell_type": "code",
   "execution_count": null,
   "id": "b6318787-8345-4d13-a72a-6d70cd57b855",
   "metadata": {},
   "outputs": [],
   "source": [
    "df_new = df.loc[:,relevant_columns]\n",
    "df_new.shape"
   ]
  },
  {
   "cell_type": "code",
   "execution_count": null,
   "id": "df9a4cdb-91f9-454e-97b8-ad3d2b855a36",
   "metadata": {},
   "outputs": [],
   "source": [
    "# change some column titles to more managable ones\n",
    "new_column_names = { 'Investigation.Type': 'Investigation_Type', 'Event.Date':'Event_Date', 'Injury.Severity':'Injury_Severity', \n",
    "                    'Aircraft.damage':'Aircraft_damage', 'Number.of.Engines':'Number_of_Engines', 'Purpose.of.flight':'Flight_Purpose',\n",
    "                    'Total.Fatal.Injuries':'Fatal_Injuries', 'Total.Serious.Injuries':'Serious_Injuries',\n",
    "                   'Total.Minor.Injuries':'Minor_Injuries', 'Total.Uninjured':'Uninjured', 'Weather.Condition':'Weather',}\n",
    "df_new.rename(columns=new_column_names, inplace=True)"
   ]
  },
  {
   "cell_type": "code",
   "execution_count": null,
   "id": "c2e3fce0-a49f-4a2b-9ffa-b12985e76270",
   "metadata": {},
   "outputs": [],
   "source": [
    "df_new.head()"
   ]
  },
  {
   "cell_type": "code",
   "execution_count": null,
   "id": "bc5a527f-613e-499f-9d83-05ef2fa905ce",
   "metadata": {},
   "outputs": [],
   "source": [
    "df_new.info()"
   ]
  },
  {
   "cell_type": "code",
   "execution_count": null,
   "id": "3acf4acf-8b35-4311-8307-7e35bc3efd33",
   "metadata": {},
   "outputs": [],
   "source": [
    "# I subset the data to determine the Make and Model that has been involved in many Accidents\n",
    "# Handling the missing data in Make and Model\n",
    "\n",
    "df_new.Make.value_counts()"
   ]
  },
  {
   "cell_type": "markdown",
   "id": "10b100ed-0612-4d44-bc56-c64babe49c40",
   "metadata": {},
   "source": [
    "Here, we realize that Cessna and CESSNA are taken as different rows despite being the same thing. change the case to lower"
   ]
  },
  {
   "cell_type": "code",
   "execution_count": null,
   "id": "013421e1-57aa-4e4e-a399-feaa0df36e20",
   "metadata": {},
   "outputs": [],
   "source": [
    "df_new['Make'] = df_new['Make'].str.lower()"
   ]
  },
  {
   "cell_type": "code",
   "execution_count": null,
   "id": "598b97e6-5d98-4c81-a382-3fa4c5c25401",
   "metadata": {},
   "outputs": [],
   "source": [
    "df_new['Make'].isna().sum()"
   ]
  },
  {
   "cell_type": "code",
   "execution_count": null,
   "id": "25d339e4-30e3-49af-9d99-0a9b97b8ed3a",
   "metadata": {},
   "outputs": [],
   "source": [
    "df_new= df_new[df_new['Make'].notna()]"
   ]
  },
  {
   "cell_type": "code",
   "execution_count": null,
   "id": "6d476bfa-1c25-4d2f-b9cb-526170f51e4a",
   "metadata": {},
   "outputs": [],
   "source": [
    "df_new.Make.value_counts()"
   ]
  },
  {
   "cell_type": "markdown",
   "id": "893389c2-967c-48e1-9c73-343578e83c1e",
   "metadata": {},
   "source": [
    "now the unique values are populated correctly. "
   ]
  },
  {
   "cell_type": "code",
   "execution_count": null,
   "id": "ccbec373-b6a0-4496-ba10-7f9dc4be454c",
   "metadata": {},
   "outputs": [],
   "source": [
    "# Model\n",
    "df_new.Model.value_counts()"
   ]
  },
  {
   "cell_type": "code",
   "execution_count": null,
   "id": "7f203e77-4240-40d6-923c-9ba20106b6a5",
   "metadata": {},
   "outputs": [],
   "source": [
    "df_new['Model'].isna().sum()"
   ]
  },
  {
   "cell_type": "code",
   "execution_count": null,
   "id": "8b5dc2db-330d-4fe2-9294-dcc125ff7698",
   "metadata": {},
   "outputs": [],
   "source": [
    "df_new['Model'] = df_new['Model'].astype(str)\n",
    "df_new['Model'].info()"
   ]
  },
  {
   "cell_type": "markdown",
   "id": "ca0c9684-e13c-4e9b-a705-b0941727dfd0",
   "metadata": {},
   "source": [
    "## Visualizations"
   ]
  },
  {
   "cell_type": "code",
   "execution_count": null,
   "id": "7d31995e-ce15-4a1a-b000-bcc24924381a",
   "metadata": {},
   "outputs": [],
   "source": [
    "# lets groups these two and plot a barchart\n",
    "make_model = df_new.groupby(['Make', 'Model'], sort=False).size().reset_index(name='AccidentCount')\n",
    "make_model"
   ]
  },
  {
   "cell_type": "code",
   "execution_count": 178,
   "id": "aee3ce1e-41ad-44ea-94c6-a18a5757240f",
   "metadata": {},
   "outputs": [
    {
     "data": {
      "text/html": [
       "<div>\n",
       "<style scoped>\n",
       "    .dataframe tbody tr th:only-of-type {\n",
       "        vertical-align: middle;\n",
       "    }\n",
       "\n",
       "    .dataframe tbody tr th {\n",
       "        vertical-align: top;\n",
       "    }\n",
       "\n",
       "    .dataframe thead th {\n",
       "        text-align: right;\n",
       "    }\n",
       "</style>\n",
       "<table border=\"1\" class=\"dataframe\">\n",
       "  <thead>\n",
       "    <tr style=\"text-align: right;\">\n",
       "      <th></th>\n",
       "      <th>Make</th>\n",
       "      <th>Model</th>\n",
       "      <th>AccidentCount</th>\n",
       "    </tr>\n",
       "  </thead>\n",
       "  <tbody>\n",
       "    <tr>\n",
       "      <th>19</th>\n",
       "      <td>cessna</td>\n",
       "      <td>152</td>\n",
       "      <td>2366</td>\n",
       "    </tr>\n",
       "    <tr>\n",
       "      <th>17</th>\n",
       "      <td>cessna</td>\n",
       "      <td>172</td>\n",
       "      <td>1753</td>\n",
       "    </tr>\n",
       "    <tr>\n",
       "      <th>51</th>\n",
       "      <td>cessna</td>\n",
       "      <td>172N</td>\n",
       "      <td>1163</td>\n",
       "    </tr>\n",
       "    <tr>\n",
       "      <th>49</th>\n",
       "      <td>piper</td>\n",
       "      <td>PA-28-140</td>\n",
       "      <td>932</td>\n",
       "    </tr>\n",
       "    <tr>\n",
       "      <th>87</th>\n",
       "      <td>cessna</td>\n",
       "      <td>150</td>\n",
       "      <td>829</td>\n",
       "    </tr>\n",
       "    <tr>\n",
       "      <th>...</th>\n",
       "      <td>...</td>\n",
       "      <td>...</td>\n",
       "      <td>...</td>\n",
       "    </tr>\n",
       "    <tr>\n",
       "      <th>8870</th>\n",
       "      <td>aero comp inc</td>\n",
       "      <td>COMP-AIR-6</td>\n",
       "      <td>1</td>\n",
       "    </tr>\n",
       "    <tr>\n",
       "      <th>8871</th>\n",
       "      <td>bellanca</td>\n",
       "      <td>260 B</td>\n",
       "      <td>1</td>\n",
       "    </tr>\n",
       "    <tr>\n",
       "      <th>8873</th>\n",
       "      <td>stearman</td>\n",
       "      <td>A-75</td>\n",
       "      <td>1</td>\n",
       "    </tr>\n",
       "    <tr>\n",
       "      <th>8874</th>\n",
       "      <td>trike</td>\n",
       "      <td>UNKNOWN</td>\n",
       "      <td>1</td>\n",
       "    </tr>\n",
       "    <tr>\n",
       "      <th>18490</th>\n",
       "      <td>royse ralph l</td>\n",
       "      <td>GLASAIR</td>\n",
       "      <td>1</td>\n",
       "    </tr>\n",
       "  </tbody>\n",
       "</table>\n",
       "<p>18491 rows × 3 columns</p>\n",
       "</div>"
      ],
      "text/plain": [
       "                Make       Model  AccidentCount\n",
       "19            cessna         152           2366\n",
       "17            cessna         172           1753\n",
       "51            cessna        172N           1163\n",
       "49             piper   PA-28-140            932\n",
       "87            cessna         150            829\n",
       "...              ...         ...            ...\n",
       "8870   aero comp inc  COMP-AIR-6              1\n",
       "8871        bellanca       260 B              1\n",
       "8873        stearman        A-75              1\n",
       "8874           trike     UNKNOWN              1\n",
       "18490  royse ralph l     GLASAIR              1\n",
       "\n",
       "[18491 rows x 3 columns]"
      ]
     },
     "execution_count": 178,
     "metadata": {},
     "output_type": "execute_result"
    }
   ],
   "source": [
    "make_model = make_model.sort_values(by='AccidentCount', ascending=False)\n",
    "make_model\n"
   ]
  },
  {
   "cell_type": "code",
   "execution_count": null,
   "id": "bc2c683e-b798-4452-9193-7b5d7401b747",
   "metadata": {},
   "outputs": [],
   "source": [
    "# plotting the top 10 make and model \n",
    "\n",
    "fig, ax = plt.subplots(figsize=(8,6))\n",
    "\n",
    "colors = sns.color_palette(\"dark\", len(make_model))\n",
    "\n",
    "ax.barh(make_model['Make'][:20] + ' ' +make_model['Model'][:20], make_model['AccidentCount'][:20], color=colors)\n",
    "ax.set_xlabel('Number of Accidents')\n",
    "ax.set_ylabel('Make and Model')\n",
    "ax.set_title('Top 10 Aircraft Makes and Models Involved in Accidents')\n",
    "ax.invert_yaxis();"
   ]
  },
  {
   "cell_type": "markdown",
   "id": "f77bab87-a470-46d0-a4f7-09b9c4d6f0a9",
   "metadata": {},
   "source": [
    "Cessna had been involved in many accidents, followed by PIPER.\n",
    "\n",
    "Cessna Model 152 has most accidents. Lets investigate the flight purpose for the cessna "
   ]
  },
  {
   "cell_type": "code",
   "execution_count": 306,
   "id": "a13e7c9c-fc48-406d-9149-40cec98e3dd0",
   "metadata": {},
   "outputs": [
    {
     "data": {
      "text/plain": [
       "0"
      ]
     },
     "execution_count": 306,
     "metadata": {},
     "output_type": "execute_result"
    }
   ],
   "source": [
    "# Flight purpose cleaning\n",
    "df_new['Flight_Purpose'].isna().sum()"
   ]
  },
  {
   "cell_type": "code",
   "execution_count": 307,
   "id": "4a7fba86-2945-4ec5-909e-10672e7c4c24",
   "metadata": {},
   "outputs": [],
   "source": [
    "# Remove null values\n",
    "df_new = df_new[df_new['Flight_Purpose'].notna()]\n",
    "df_new = df_new[~df_new['Flight_Purpose'].isin(['Unknown'])]"
   ]
  },
  {
   "cell_type": "code",
   "execution_count": 308,
   "id": "a60c23b9-dd8f-41a5-8925-b403da785e39",
   "metadata": {},
   "outputs": [
    {
     "data": {
      "text/plain": [
       "Flight_Purpose\n",
       "Personal                     49435\n",
       "Instructional                10601\n",
       "Aerial Application            4712\n",
       "Business                      4018\n",
       "Positioning                   1646\n",
       "Other Work Use                1264\n",
       "Ferry                          812\n",
       "Aerial Observation             794\n",
       "Public Aircraft                720\n",
       "Executive/corporate            553\n",
       "Flight Test                    404\n",
       "Skydiving                      182\n",
       "External Load                  123\n",
       "Public Aircraft - Federal      105\n",
       "Banner Tow                     101\n",
       "Air Race show                   99\n",
       "Public Aircraft - Local         74\n",
       "Public Aircraft - State         64\n",
       "Air Race/show                   59\n",
       "Glider Tow                      53\n",
       "Firefighting                    40\n",
       "Air Drop                        11\n",
       "ASHO                             6\n",
       "PUBS                             4\n",
       "PUBL                             1\n",
       "Name: count, dtype: int64"
      ]
     },
     "execution_count": 308,
     "metadata": {},
     "output_type": "execute_result"
    }
   ],
   "source": [
    "df_new['Flight_Purpose'].value_counts()"
   ]
  },
  {
   "cell_type": "markdown",
   "id": "80a34766-e6fc-419d-bb53-a27860a4aa7c",
   "metadata": {},
   "source": [
    "Unknown will be taken as Missing values"
   ]
  },
  {
   "cell_type": "code",
   "execution_count": 351,
   "id": "00191377-65c2-470e-a4d0-b34c1787b8aa",
   "metadata": {},
   "outputs": [
    {
     "data": {
      "text/html": [
       "<div>\n",
       "<style scoped>\n",
       "    .dataframe tbody tr th:only-of-type {\n",
       "        vertical-align: middle;\n",
       "    }\n",
       "\n",
       "    .dataframe tbody tr th {\n",
       "        vertical-align: top;\n",
       "    }\n",
       "\n",
       "    .dataframe thead th {\n",
       "        text-align: right;\n",
       "    }\n",
       "</style>\n",
       "<table border=\"1\" class=\"dataframe\">\n",
       "  <thead>\n",
       "    <tr style=\"text-align: right;\">\n",
       "      <th></th>\n",
       "      <th>Make</th>\n",
       "      <th>Model</th>\n",
       "      <th>Flight_Purpose</th>\n",
       "      <th>Count</th>\n",
       "    </tr>\n",
       "  </thead>\n",
       "  <tbody>\n",
       "    <tr>\n",
       "      <th>0</th>\n",
       "      <td>107.5 flying corporation</td>\n",
       "      <td>One Design DR 107</td>\n",
       "      <td>Personal</td>\n",
       "      <td>1</td>\n",
       "    </tr>\n",
       "    <tr>\n",
       "      <th>1</th>\n",
       "      <td>177mf llc</td>\n",
       "      <td>PITTS MODEL 12</td>\n",
       "      <td>Personal</td>\n",
       "      <td>1</td>\n",
       "    </tr>\n",
       "    <tr>\n",
       "      <th>2</th>\n",
       "      <td>1977 colfer-chan</td>\n",
       "      <td>STEEN SKYBOLT</td>\n",
       "      <td>Personal</td>\n",
       "      <td>1</td>\n",
       "    </tr>\n",
       "    <tr>\n",
       "      <th>3</th>\n",
       "      <td>1st ftr gp</td>\n",
       "      <td>FOCKE-WULF 190</td>\n",
       "      <td>Personal</td>\n",
       "      <td>1</td>\n",
       "    </tr>\n",
       "    <tr>\n",
       "      <th>4</th>\n",
       "      <td>2000 mccoy</td>\n",
       "      <td>Genesis</td>\n",
       "      <td>Flight Test</td>\n",
       "      <td>1</td>\n",
       "    </tr>\n",
       "  </tbody>\n",
       "</table>\n",
       "</div>"
      ],
      "text/plain": [
       "                       Make              Model Flight_Purpose  Count\n",
       "0  107.5 flying corporation  One Design DR 107       Personal      1\n",
       "1                 177mf llc     PITTS MODEL 12       Personal      1\n",
       "2          1977 colfer-chan      STEEN SKYBOLT       Personal      1\n",
       "3                1st ftr gp     FOCKE-WULF 190       Personal      1\n",
       "4                2000 mccoy            Genesis    Flight Test      1"
      ]
     },
     "execution_count": 351,
     "metadata": {},
     "output_type": "execute_result"
    }
   ],
   "source": [
    "make_model_flight = df_new.groupby(['Make', 'Model','Flight_Purpose']).size().reset_index(name='Count')\n",
    "make_model_flight.head()\n"
   ]
  },
  {
   "cell_type": "code",
   "execution_count": 352,
   "id": "9129df3f-712e-42ad-95f0-fa6671707dd0",
   "metadata": {},
   "outputs": [],
   "source": [
    "# Create a column combining Make and Model\n",
    "make_model_flight['Make_Model'] = make_model_flight['Make'] + ' ' + make_model_flight['Model']"
   ]
  },
  {
   "cell_type": "code",
   "execution_count": 353,
   "id": "f82d1724-e5fc-48f9-abea-bd4f6fbeaf51",
   "metadata": {},
   "outputs": [],
   "source": [
    "# Pivot the data for plotting\n",
    "make_model_flight_pivot = make_model_flight.pivot(index='Make_Model', columns='Flight_Purpose', values='Count').fillna(0)"
   ]
  },
  {
   "cell_type": "code",
   "execution_count": 361,
   "id": "495a97c7-ffa3-4ae7-a7de-1136f8641d49",
   "metadata": {},
   "outputs": [
    {
     "data": {
      "text/plain": [
       "Flight_Purpose\n",
       "ASHO                             6.0\n",
       "Aerial Application            4712.0\n",
       "Aerial Observation             794.0\n",
       "Air Drop                        11.0\n",
       "Air Race show                   99.0\n",
       "Air Race/show                   59.0\n",
       "Banner Tow                     101.0\n",
       "Business                      4018.0\n",
       "Executive/corporate            553.0\n",
       "External Load                  123.0\n",
       "Ferry                          812.0\n",
       "Firefighting                    40.0\n",
       "Flight Test                    404.0\n",
       "Glider Tow                      53.0\n",
       "Instructional                10601.0\n",
       "Other Work Use                1264.0\n",
       "PUBL                             1.0\n",
       "PUBS                             4.0\n",
       "Personal                     49435.0\n",
       "Positioning                   1646.0\n",
       "Public Aircraft                720.0\n",
       "Public Aircraft - Federal      105.0\n",
       "Public Aircraft - Local         74.0\n",
       "Public Aircraft - State         64.0\n",
       "Skydiving                      182.0\n",
       "dtype: float64"
      ]
     },
     "execution_count": 361,
     "metadata": {},
     "output_type": "execute_result"
    }
   ],
   "source": [
    "# Calculate total count for each flight purpose\n",
    "count_flight_purpose = make_model_flight_pivot.sum(axis=0)\n",
    "count_flight_purpose"
   ]
  },
  {
   "cell_type": "code",
   "execution_count": 372,
   "id": "cd57bc5d-9672-4451-bd3e-af42dcff54a4",
   "metadata": {},
   "outputs": [
    {
     "data": {
      "text/plain": [
       "Index(['Personal', 'Instructional', 'Aerial Application', 'Business',\n",
       "       'Positioning'],\n",
       "      dtype='object', name='Flight_Purpose')"
      ]
     },
     "execution_count": 372,
     "metadata": {},
     "output_type": "execute_result"
    }
   ],
   "source": [
    "# Select top 10 flight purposes\n",
    "top_flight_purposes = total_flight_purpose.nlargest(5).index\n",
    "top_flight_purposes"
   ]
  },
  {
   "cell_type": "code",
   "execution_count": 373,
   "id": "4ca96e7a-5d63-4e54-b40b-62b2eec24c2f",
   "metadata": {},
   "outputs": [
    {
     "data": {
      "text/html": [
       "<div>\n",
       "<style scoped>\n",
       "    .dataframe tbody tr th:only-of-type {\n",
       "        vertical-align: middle;\n",
       "    }\n",
       "\n",
       "    .dataframe tbody tr th {\n",
       "        vertical-align: top;\n",
       "    }\n",
       "\n",
       "    .dataframe thead th {\n",
       "        text-align: right;\n",
       "    }\n",
       "</style>\n",
       "<table border=\"1\" class=\"dataframe\">\n",
       "  <thead>\n",
       "    <tr style=\"text-align: right;\">\n",
       "      <th>Flight_Purpose</th>\n",
       "      <th>Personal</th>\n",
       "      <th>Instructional</th>\n",
       "      <th>Aerial Application</th>\n",
       "      <th>Business</th>\n",
       "      <th>Positioning</th>\n",
       "    </tr>\n",
       "    <tr>\n",
       "      <th>Make_Model</th>\n",
       "      <th></th>\n",
       "      <th></th>\n",
       "      <th></th>\n",
       "      <th></th>\n",
       "      <th></th>\n",
       "    </tr>\n",
       "  </thead>\n",
       "  <tbody>\n",
       "    <tr>\n",
       "      <th>cessna 152</th>\n",
       "      <td>819.0</td>\n",
       "      <td>1444.0</td>\n",
       "      <td>0.0</td>\n",
       "      <td>21.0</td>\n",
       "      <td>8.0</td>\n",
       "    </tr>\n",
       "    <tr>\n",
       "      <th>cessna 172</th>\n",
       "      <td>1088.0</td>\n",
       "      <td>460.0</td>\n",
       "      <td>0.0</td>\n",
       "      <td>33.0</td>\n",
       "      <td>11.0</td>\n",
       "    </tr>\n",
       "    <tr>\n",
       "      <th>cessna 172N</th>\n",
       "      <td>706.0</td>\n",
       "      <td>360.0</td>\n",
       "      <td>0.0</td>\n",
       "      <td>28.0</td>\n",
       "      <td>5.0</td>\n",
       "    </tr>\n",
       "    <tr>\n",
       "      <th>piper PA-28-140</th>\n",
       "      <td>691.0</td>\n",
       "      <td>198.0</td>\n",
       "      <td>0.0</td>\n",
       "      <td>17.0</td>\n",
       "      <td>2.0</td>\n",
       "    </tr>\n",
       "    <tr>\n",
       "      <th>cessna 150</th>\n",
       "      <td>492.0</td>\n",
       "      <td>264.0</td>\n",
       "      <td>0.0</td>\n",
       "      <td>11.0</td>\n",
       "      <td>2.0</td>\n",
       "    </tr>\n",
       "    <tr>\n",
       "      <th>...</th>\n",
       "      <td>...</td>\n",
       "      <td>...</td>\n",
       "      <td>...</td>\n",
       "      <td>...</td>\n",
       "      <td>...</td>\n",
       "    </tr>\n",
       "    <tr>\n",
       "      <th>flightstar FC-II</th>\n",
       "      <td>1.0</td>\n",
       "      <td>0.0</td>\n",
       "      <td>0.0</td>\n",
       "      <td>0.0</td>\n",
       "      <td>0.0</td>\n",
       "    </tr>\n",
       "    <tr>\n",
       "      <th>flightstar FLIGHTSTAR II-SL</th>\n",
       "      <td>1.0</td>\n",
       "      <td>0.0</td>\n",
       "      <td>0.0</td>\n",
       "      <td>0.0</td>\n",
       "      <td>0.0</td>\n",
       "    </tr>\n",
       "    <tr>\n",
       "      <th>flightstar SC II</th>\n",
       "      <td>1.0</td>\n",
       "      <td>0.0</td>\n",
       "      <td>0.0</td>\n",
       "      <td>0.0</td>\n",
       "      <td>0.0</td>\n",
       "    </tr>\n",
       "    <tr>\n",
       "      <th>flightstar inc FLIGHTSTAR II SC</th>\n",
       "      <td>1.0</td>\n",
       "      <td>0.0</td>\n",
       "      <td>0.0</td>\n",
       "      <td>0.0</td>\n",
       "      <td>0.0</td>\n",
       "    </tr>\n",
       "    <tr>\n",
       "      <th>zwicker murray r GLASTAR</th>\n",
       "      <td>1.0</td>\n",
       "      <td>0.0</td>\n",
       "      <td>0.0</td>\n",
       "      <td>0.0</td>\n",
       "      <td>0.0</td>\n",
       "    </tr>\n",
       "  </tbody>\n",
       "</table>\n",
       "<p>15992 rows × 5 columns</p>\n",
       "</div>"
      ],
      "text/plain": [
       "Flight_Purpose                   Personal  Instructional  Aerial Application  \\\n",
       "Make_Model                                                                     \n",
       "cessna 152                          819.0         1444.0                 0.0   \n",
       "cessna 172                         1088.0          460.0                 0.0   \n",
       "cessna 172N                         706.0          360.0                 0.0   \n",
       "piper PA-28-140                     691.0          198.0                 0.0   \n",
       "cessna 150                          492.0          264.0                 0.0   \n",
       "...                                   ...            ...                 ...   \n",
       "flightstar FC-II                      1.0            0.0                 0.0   \n",
       "flightstar FLIGHTSTAR II-SL           1.0            0.0                 0.0   \n",
       "flightstar SC II                      1.0            0.0                 0.0   \n",
       "flightstar inc FLIGHTSTAR II SC       1.0            0.0                 0.0   \n",
       "zwicker murray r GLASTAR              1.0            0.0                 0.0   \n",
       "\n",
       "Flight_Purpose                   Business  Positioning  \n",
       "Make_Model                                              \n",
       "cessna 152                           21.0          8.0  \n",
       "cessna 172                           33.0         11.0  \n",
       "cessna 172N                          28.0          5.0  \n",
       "piper PA-28-140                      17.0          2.0  \n",
       "cessna 150                           11.0          2.0  \n",
       "...                                   ...          ...  \n",
       "flightstar FC-II                      0.0          0.0  \n",
       "flightstar FLIGHTSTAR II-SL           0.0          0.0  \n",
       "flightstar SC II                      0.0          0.0  \n",
       "flightstar inc FLIGHTSTAR II SC       0.0          0.0  \n",
       "zwicker murray r GLASTAR              0.0          0.0  \n",
       "\n",
       "[15992 rows x 5 columns]"
      ]
     },
     "execution_count": 373,
     "metadata": {},
     "output_type": "execute_result"
    }
   ],
   "source": [
    "# Filter the pivoted data to only include the top 10 flight purposes\n",
    "make_model_flight_pivot_top = make_model_flight_pivot[top_flight_purposes]\n",
    "make_model_flight_pivot_top"
   ]
  },
  {
   "cell_type": "code",
   "execution_count": 374,
   "id": "630495d8-ce82-447a-81be-cf163d5be4ed",
   "metadata": {},
   "outputs": [
    {
     "name": "stderr",
     "output_type": "stream",
     "text": [
      "C:\\Users\\ericm\\AppData\\Local\\Temp\\ipykernel_13696\\1467054139.py:2: SettingWithCopyWarning: \n",
      "A value is trying to be set on a copy of a slice from a DataFrame.\n",
      "Try using .loc[row_indexer,col_indexer] = value instead\n",
      "\n",
      "See the caveats in the documentation: https://pandas.pydata.org/pandas-docs/stable/user_guide/indexing.html#returning-a-view-versus-a-copy\n",
      "  make_model_flight_pivot_top['Total'] = make_model_flight_pivot_top.sum(axis=1)\n"
     ]
    },
    {
     "data": {
      "text/html": [
       "<div>\n",
       "<style scoped>\n",
       "    .dataframe tbody tr th:only-of-type {\n",
       "        vertical-align: middle;\n",
       "    }\n",
       "\n",
       "    .dataframe tbody tr th {\n",
       "        vertical-align: top;\n",
       "    }\n",
       "\n",
       "    .dataframe thead th {\n",
       "        text-align: right;\n",
       "    }\n",
       "</style>\n",
       "<table border=\"1\" class=\"dataframe\">\n",
       "  <thead>\n",
       "    <tr style=\"text-align: right;\">\n",
       "      <th>Flight_Purpose</th>\n",
       "      <th>Personal</th>\n",
       "      <th>Instructional</th>\n",
       "      <th>Aerial Application</th>\n",
       "      <th>Business</th>\n",
       "      <th>Positioning</th>\n",
       "      <th>Total</th>\n",
       "    </tr>\n",
       "    <tr>\n",
       "      <th>Make_Model</th>\n",
       "      <th></th>\n",
       "      <th></th>\n",
       "      <th></th>\n",
       "      <th></th>\n",
       "      <th></th>\n",
       "      <th></th>\n",
       "    </tr>\n",
       "  </thead>\n",
       "  <tbody>\n",
       "    <tr>\n",
       "      <th>cessna 152</th>\n",
       "      <td>819.0</td>\n",
       "      <td>1444.0</td>\n",
       "      <td>0.0</td>\n",
       "      <td>21.0</td>\n",
       "      <td>8.0</td>\n",
       "      <td>2292.0</td>\n",
       "    </tr>\n",
       "    <tr>\n",
       "      <th>cessna 172</th>\n",
       "      <td>1088.0</td>\n",
       "      <td>460.0</td>\n",
       "      <td>0.0</td>\n",
       "      <td>33.0</td>\n",
       "      <td>11.0</td>\n",
       "      <td>1592.0</td>\n",
       "    </tr>\n",
       "    <tr>\n",
       "      <th>cessna 172N</th>\n",
       "      <td>706.0</td>\n",
       "      <td>360.0</td>\n",
       "      <td>0.0</td>\n",
       "      <td>28.0</td>\n",
       "      <td>5.0</td>\n",
       "      <td>1099.0</td>\n",
       "    </tr>\n",
       "    <tr>\n",
       "      <th>piper PA-28-140</th>\n",
       "      <td>691.0</td>\n",
       "      <td>198.0</td>\n",
       "      <td>0.0</td>\n",
       "      <td>17.0</td>\n",
       "      <td>2.0</td>\n",
       "      <td>908.0</td>\n",
       "    </tr>\n",
       "    <tr>\n",
       "      <th>cessna 150</th>\n",
       "      <td>492.0</td>\n",
       "      <td>264.0</td>\n",
       "      <td>0.0</td>\n",
       "      <td>11.0</td>\n",
       "      <td>2.0</td>\n",
       "      <td>769.0</td>\n",
       "    </tr>\n",
       "    <tr>\n",
       "      <th>...</th>\n",
       "      <td>...</td>\n",
       "      <td>...</td>\n",
       "      <td>...</td>\n",
       "      <td>...</td>\n",
       "      <td>...</td>\n",
       "      <td>...</td>\n",
       "    </tr>\n",
       "    <tr>\n",
       "      <th>flightstar FC-II</th>\n",
       "      <td>1.0</td>\n",
       "      <td>0.0</td>\n",
       "      <td>0.0</td>\n",
       "      <td>0.0</td>\n",
       "      <td>0.0</td>\n",
       "      <td>1.0</td>\n",
       "    </tr>\n",
       "    <tr>\n",
       "      <th>flightstar FLIGHTSTAR II-SL</th>\n",
       "      <td>1.0</td>\n",
       "      <td>0.0</td>\n",
       "      <td>0.0</td>\n",
       "      <td>0.0</td>\n",
       "      <td>0.0</td>\n",
       "      <td>1.0</td>\n",
       "    </tr>\n",
       "    <tr>\n",
       "      <th>flightstar SC II</th>\n",
       "      <td>1.0</td>\n",
       "      <td>0.0</td>\n",
       "      <td>0.0</td>\n",
       "      <td>0.0</td>\n",
       "      <td>0.0</td>\n",
       "      <td>1.0</td>\n",
       "    </tr>\n",
       "    <tr>\n",
       "      <th>flightstar inc FLIGHTSTAR II SC</th>\n",
       "      <td>1.0</td>\n",
       "      <td>0.0</td>\n",
       "      <td>0.0</td>\n",
       "      <td>0.0</td>\n",
       "      <td>0.0</td>\n",
       "      <td>1.0</td>\n",
       "    </tr>\n",
       "    <tr>\n",
       "      <th>zwicker murray r GLASTAR</th>\n",
       "      <td>1.0</td>\n",
       "      <td>0.0</td>\n",
       "      <td>0.0</td>\n",
       "      <td>0.0</td>\n",
       "      <td>0.0</td>\n",
       "      <td>1.0</td>\n",
       "    </tr>\n",
       "  </tbody>\n",
       "</table>\n",
       "<p>15992 rows × 6 columns</p>\n",
       "</div>"
      ],
      "text/plain": [
       "Flight_Purpose                   Personal  Instructional  Aerial Application  \\\n",
       "Make_Model                                                                     \n",
       "cessna 152                          819.0         1444.0                 0.0   \n",
       "cessna 172                         1088.0          460.0                 0.0   \n",
       "cessna 172N                         706.0          360.0                 0.0   \n",
       "piper PA-28-140                     691.0          198.0                 0.0   \n",
       "cessna 150                          492.0          264.0                 0.0   \n",
       "...                                   ...            ...                 ...   \n",
       "flightstar FC-II                      1.0            0.0                 0.0   \n",
       "flightstar FLIGHTSTAR II-SL           1.0            0.0                 0.0   \n",
       "flightstar SC II                      1.0            0.0                 0.0   \n",
       "flightstar inc FLIGHTSTAR II SC       1.0            0.0                 0.0   \n",
       "zwicker murray r GLASTAR              1.0            0.0                 0.0   \n",
       "\n",
       "Flight_Purpose                   Business  Positioning   Total  \n",
       "Make_Model                                                      \n",
       "cessna 152                           21.0          8.0  2292.0  \n",
       "cessna 172                           33.0         11.0  1592.0  \n",
       "cessna 172N                          28.0          5.0  1099.0  \n",
       "piper PA-28-140                      17.0          2.0   908.0  \n",
       "cessna 150                           11.0          2.0   769.0  \n",
       "...                                   ...          ...     ...  \n",
       "flightstar FC-II                      0.0          0.0     1.0  \n",
       "flightstar FLIGHTSTAR II-SL           0.0          0.0     1.0  \n",
       "flightstar SC II                      0.0          0.0     1.0  \n",
       "flightstar inc FLIGHTSTAR II SC       0.0          0.0     1.0  \n",
       "zwicker murray r GLASTAR              0.0          0.0     1.0  \n",
       "\n",
       "[15992 rows x 6 columns]"
      ]
     },
     "execution_count": 374,
     "metadata": {},
     "output_type": "execute_result"
    }
   ],
   "source": [
    "# Sorting by the total count\n",
    "make_model_flight_pivot_top['Total'] = make_model_flight_pivot_top.sum(axis=1)\n",
    "make_model_flight_pivot_top\n"
   ]
  },
  {
   "cell_type": "code",
   "execution_count": 375,
   "id": "4386941c-d3ac-4ea2-977c-b5da24328719",
   "metadata": {},
   "outputs": [],
   "source": [
    "make_model_flight_pivot_top = make_model_flight_pivot_top.sort_values(by='Total', ascending=False).drop(columns='Total')"
   ]
  },
  {
   "cell_type": "code",
   "execution_count": 440,
   "id": "e0415893-d13f-41cb-8a39-b580566f5153",
   "metadata": {},
   "outputs": [
    {
     "data": {
      "image/png": "[encoded data removed]",
      "text/plain": [
       "<Figure size 1200x800 with 1 Axes>"
      ]
     },
     "metadata": {},
     "output_type": "display_data"
    }
   ],
   "source": [
    "\n",
    "# Plotting ans stacking the flightpurpose categories in a bar chart\n",
    "fig, ax = plt.subplots(figsize=(12, 8))\n",
    "\n",
    "make_model_flight_pivot_top[:10].plot(kind='bar', stacked=True, ax=ax, )\n",
    "\n",
    "ax.set_xlabel('Make and Model')\n",
    "ax.set_ylabel('Number of Accidents')\n",
    "ax.set_title('Flight Purpose Distribution by Make and Model')\n",
    "plt.xticks(rotation=45, ha='right')\n",
    "\n",
    "plt.tight_layout()\n",
    "\n",
    "plt.show()"
   ]
  },
  {
   "cell_type": "markdown",
   "id": "f11bdc1e-b1dc-4f59-b05f-cae778c1f53b",
   "metadata": {},
   "source": [
    "From the distribution, the CESSNA and PIPER that have been involved in most accidents while at for Personal and Instructional use.\n",
    "\n"
   ]
  },
  {
   "cell_type": "markdown",
   "id": "0997c6b2-41aa-492c-87af-387945382bbc",
   "metadata": {},
   "source": [
    "Lets investigate the aircraft damage and the make and model of the planes"
   ]
  },
  {
   "cell_type": "code",
   "execution_count": 416,
   "id": "eed884aa-9246-4504-b22c-7b0abe4dc357",
   "metadata": {},
   "outputs": [
    {
     "name": "stdout",
     "output_type": "stream",
     "text": [
      "<class 'pandas.core.frame.DataFrame'>\n",
      "Index: 75084 entries, 0 to 88886\n",
      "Data columns (total 16 columns):\n",
      " #   Column              Non-Null Count  Dtype         \n",
      "---  ------              --------------  -----         \n",
      " 0   Investigation_Type  75084 non-null  object        \n",
      " 1   Event_Date          75084 non-null  datetime64[ns]\n",
      " 2   Country             74966 non-null  object        \n",
      " 3   Injury_Severity     75062 non-null  object        \n",
      " 4   Aircraft_damage     75084 non-null  object        \n",
      " 5   Make                75084 non-null  object        \n",
      " 6   Model               75084 non-null  object        \n",
      " 7   Amateur.Built       75055 non-null  object        \n",
      " 8   Number_of_Engines   72833 non-null  float64       \n",
      " 9   Engine.Type         71874 non-null  object        \n",
      " 10  Flight_Purpose      75084 non-null  object        \n",
      " 11  Fatal_Injuries      65367 non-null  float64       \n",
      " 12  Serious_Injuries    64338 non-null  float64       \n",
      " 13  Minor_Injuries      65016 non-null  float64       \n",
      " 14  Uninjured           69975 non-null  float64       \n",
      " 15  Weather             74290 non-null  object        \n",
      "dtypes: datetime64[ns](1), float64(5), object(10)\n",
      "memory usage: 9.7+ MB\n"
     ]
    }
   ],
   "source": [
    "df_new.info()"
   ]
  },
  {
   "cell_type": "code",
   "execution_count": 417,
   "id": "62533b06-6b98-4631-9e46-8a1d7c4d135f",
   "metadata": {},
   "outputs": [
    {
     "data": {
      "text/plain": [
       "0"
      ]
     },
     "execution_count": 417,
     "metadata": {},
     "output_type": "execute_result"
    }
   ],
   "source": [
    "# check mussing values\n",
    "df_new['Aircraft_damage'].isna().sum()"
   ]
  },
  {
   "cell_type": "code",
   "execution_count": 382,
   "id": "4640b439-16cc-42ea-94f0-520af28fb8f9",
   "metadata": {},
   "outputs": [],
   "source": [
    "# drop missing values\n",
    "df_new = df_new[df_new['Aircraft_damage'].notna()]"
   ]
  },
  {
   "cell_type": "code",
   "execution_count": 418,
   "id": "9c3a5605-463e-46f8-8b56-b4b29a82697d",
   "metadata": {},
   "outputs": [
    {
     "data": {
      "text/plain": [
       "Aircraft_damage\n",
       "Substantial    58303\n",
       "Destroyed      15756\n",
       "Minor           1025\n",
       "Name: count, dtype: int64"
      ]
     },
     "execution_count": 418,
     "metadata": {},
     "output_type": "execute_result"
    }
   ],
   "source": [
    "df_new['Aircraft_damage'].value_counts()"
   ]
  },
  {
   "cell_type": "markdown",
   "id": "4c6a8306-8858-4f15-9b64-2ec28c38d293",
   "metadata": {},
   "source": [
    "Unknown is taken as missing values so i drop the rows since its less than 1% of the data in the column "
   ]
  },
  {
   "cell_type": "code",
   "execution_count": 419,
   "id": "ba2c3f6c-4fcd-41ce-a6bc-859dd062276d",
   "metadata": {},
   "outputs": [
    {
     "data": {
      "text/plain": [
       "Aircraft_damage\n",
       "Substantial    58303\n",
       "Destroyed      15756\n",
       "Minor           1025\n",
       "Name: count, dtype: int64"
      ]
     },
     "execution_count": 419,
     "metadata": {},
     "output_type": "execute_result"
    }
   ],
   "source": [
    "df_new = df_new[~df_new['Aircraft_damage'].isin(['Unknown'])]\n",
    "df_new['Aircraft_damage'].value_counts()"
   ]
  },
  {
   "cell_type": "code",
   "execution_count": 420,
   "id": "ce667bb6-a3ae-462e-a75f-c100ce4869ff",
   "metadata": {},
   "outputs": [
    {
     "data": {
      "text/html": [
       "<div>\n",
       "<style scoped>\n",
       "    .dataframe tbody tr th:only-of-type {\n",
       "        vertical-align: middle;\n",
       "    }\n",
       "\n",
       "    .dataframe tbody tr th {\n",
       "        vertical-align: top;\n",
       "    }\n",
       "\n",
       "    .dataframe thead th {\n",
       "        text-align: right;\n",
       "    }\n",
       "</style>\n",
       "<table border=\"1\" class=\"dataframe\">\n",
       "  <thead>\n",
       "    <tr style=\"text-align: right;\">\n",
       "      <th></th>\n",
       "      <th>Make</th>\n",
       "      <th>Model</th>\n",
       "      <th>Aircraft_damage</th>\n",
       "      <th>Count</th>\n",
       "    </tr>\n",
       "  </thead>\n",
       "  <tbody>\n",
       "    <tr>\n",
       "      <th>0</th>\n",
       "      <td>107.5 flying corporation</td>\n",
       "      <td>One Design DR 107</td>\n",
       "      <td>Destroyed</td>\n",
       "      <td>1</td>\n",
       "    </tr>\n",
       "    <tr>\n",
       "      <th>1</th>\n",
       "      <td>177mf llc</td>\n",
       "      <td>PITTS MODEL 12</td>\n",
       "      <td>Substantial</td>\n",
       "      <td>1</td>\n",
       "    </tr>\n",
       "    <tr>\n",
       "      <th>2</th>\n",
       "      <td>1977 colfer-chan</td>\n",
       "      <td>STEEN SKYBOLT</td>\n",
       "      <td>Substantial</td>\n",
       "      <td>1</td>\n",
       "    </tr>\n",
       "    <tr>\n",
       "      <th>3</th>\n",
       "      <td>1st ftr gp</td>\n",
       "      <td>FOCKE-WULF 190</td>\n",
       "      <td>Destroyed</td>\n",
       "      <td>1</td>\n",
       "    </tr>\n",
       "    <tr>\n",
       "      <th>4</th>\n",
       "      <td>2000 mccoy</td>\n",
       "      <td>Genesis</td>\n",
       "      <td>Destroyed</td>\n",
       "      <td>1</td>\n",
       "    </tr>\n",
       "  </tbody>\n",
       "</table>\n",
       "</div>"
      ],
      "text/plain": [
       "                       Make              Model Aircraft_damage  Count\n",
       "0  107.5 flying corporation  One Design DR 107       Destroyed      1\n",
       "1                 177mf llc     PITTS MODEL 12     Substantial      1\n",
       "2          1977 colfer-chan      STEEN SKYBOLT     Substantial      1\n",
       "3                1st ftr gp     FOCKE-WULF 190       Destroyed      1\n",
       "4                2000 mccoy            Genesis       Destroyed      1"
      ]
     },
     "execution_count": 420,
     "metadata": {},
     "output_type": "execute_result"
    }
   ],
   "source": [
    "make_model_damage = df_new.groupby(['Make', 'Model', 'Aircraft_damage']).size().reset_index(name='Count')\n",
    "make_model_damage.head()"
   ]
  },
  {
   "cell_type": "code",
   "execution_count": 421,
   "id": "388f1d45-fc5f-47b3-b312-94adc0a2e1c4",
   "metadata": {},
   "outputs": [
    {
     "data": {
      "text/html": [
       "<div>\n",
       "<style scoped>\n",
       "    .dataframe tbody tr th:only-of-type {\n",
       "        vertical-align: middle;\n",
       "    }\n",
       "\n",
       "    .dataframe tbody tr th {\n",
       "        vertical-align: top;\n",
       "    }\n",
       "\n",
       "    .dataframe thead th {\n",
       "        text-align: right;\n",
       "    }\n",
       "</style>\n",
       "<table border=\"1\" class=\"dataframe\">\n",
       "  <thead>\n",
       "    <tr style=\"text-align: right;\">\n",
       "      <th></th>\n",
       "      <th>Make</th>\n",
       "      <th>Model</th>\n",
       "      <th>Aircraft_damage</th>\n",
       "      <th>Count</th>\n",
       "      <th>Make_model</th>\n",
       "    </tr>\n",
       "  </thead>\n",
       "  <tbody>\n",
       "    <tr>\n",
       "      <th>0</th>\n",
       "      <td>107.5 flying corporation</td>\n",
       "      <td>One Design DR 107</td>\n",
       "      <td>Destroyed</td>\n",
       "      <td>1</td>\n",
       "      <td>107.5 flying corporation One Design DR 107</td>\n",
       "    </tr>\n",
       "    <tr>\n",
       "      <th>1</th>\n",
       "      <td>177mf llc</td>\n",
       "      <td>PITTS MODEL 12</td>\n",
       "      <td>Substantial</td>\n",
       "      <td>1</td>\n",
       "      <td>177mf llc PITTS MODEL 12</td>\n",
       "    </tr>\n",
       "    <tr>\n",
       "      <th>2</th>\n",
       "      <td>1977 colfer-chan</td>\n",
       "      <td>STEEN SKYBOLT</td>\n",
       "      <td>Substantial</td>\n",
       "      <td>1</td>\n",
       "      <td>1977 colfer-chan STEEN SKYBOLT</td>\n",
       "    </tr>\n",
       "    <tr>\n",
       "      <th>3</th>\n",
       "      <td>1st ftr gp</td>\n",
       "      <td>FOCKE-WULF 190</td>\n",
       "      <td>Destroyed</td>\n",
       "      <td>1</td>\n",
       "      <td>1st ftr gp FOCKE-WULF 190</td>\n",
       "    </tr>\n",
       "    <tr>\n",
       "      <th>4</th>\n",
       "      <td>2000 mccoy</td>\n",
       "      <td>Genesis</td>\n",
       "      <td>Destroyed</td>\n",
       "      <td>1</td>\n",
       "      <td>2000 mccoy Genesis</td>\n",
       "    </tr>\n",
       "    <tr>\n",
       "      <th>...</th>\n",
       "      <td>...</td>\n",
       "      <td>...</td>\n",
       "      <td>...</td>\n",
       "      <td>...</td>\n",
       "      <td>...</td>\n",
       "    </tr>\n",
       "    <tr>\n",
       "      <th>18130</th>\n",
       "      <td>zubair s khan</td>\n",
       "      <td>RAVEN</td>\n",
       "      <td>Substantial</td>\n",
       "      <td>1</td>\n",
       "      <td>zubair s khan RAVEN</td>\n",
       "    </tr>\n",
       "    <tr>\n",
       "      <th>18131</th>\n",
       "      <td>zuber thomas p</td>\n",
       "      <td>ZUBER SUPER DRIFTER</td>\n",
       "      <td>Substantial</td>\n",
       "      <td>1</td>\n",
       "      <td>zuber thomas p ZUBER SUPER DRIFTER</td>\n",
       "    </tr>\n",
       "    <tr>\n",
       "      <th>18132</th>\n",
       "      <td>zukowski</td>\n",
       "      <td>EAA BIPLANE</td>\n",
       "      <td>Substantial</td>\n",
       "      <td>1</td>\n",
       "      <td>zukowski EAA BIPLANE</td>\n",
       "    </tr>\n",
       "    <tr>\n",
       "      <th>18133</th>\n",
       "      <td>zwart</td>\n",
       "      <td>KIT FOX VIXEN</td>\n",
       "      <td>Substantial</td>\n",
       "      <td>1</td>\n",
       "      <td>zwart KIT FOX VIXEN</td>\n",
       "    </tr>\n",
       "    <tr>\n",
       "      <th>18134</th>\n",
       "      <td>zwicker murray r</td>\n",
       "      <td>GLASTAR</td>\n",
       "      <td>Substantial</td>\n",
       "      <td>1</td>\n",
       "      <td>zwicker murray r GLASTAR</td>\n",
       "    </tr>\n",
       "  </tbody>\n",
       "</table>\n",
       "<p>18135 rows × 5 columns</p>\n",
       "</div>"
      ],
      "text/plain": [
       "                           Make                Model Aircraft_damage  Count  \\\n",
       "0      107.5 flying corporation    One Design DR 107       Destroyed      1   \n",
       "1                     177mf llc       PITTS MODEL 12     Substantial      1   \n",
       "2              1977 colfer-chan        STEEN SKYBOLT     Substantial      1   \n",
       "3                    1st ftr gp       FOCKE-WULF 190       Destroyed      1   \n",
       "4                    2000 mccoy              Genesis       Destroyed      1   \n",
       "...                         ...                  ...             ...    ...   \n",
       "18130             zubair s khan                RAVEN     Substantial      1   \n",
       "18131            zuber thomas p  ZUBER SUPER DRIFTER     Substantial      1   \n",
       "18132                  zukowski          EAA BIPLANE     Substantial      1   \n",
       "18133                     zwart        KIT FOX VIXEN     Substantial      1   \n",
       "18134          zwicker murray r              GLASTAR     Substantial      1   \n",
       "\n",
       "                                       Make_model  \n",
       "0      107.5 flying corporation One Design DR 107  \n",
       "1                        177mf llc PITTS MODEL 12  \n",
       "2                  1977 colfer-chan STEEN SKYBOLT  \n",
       "3                       1st ftr gp FOCKE-WULF 190  \n",
       "4                              2000 mccoy Genesis  \n",
       "...                                           ...  \n",
       "18130                         zubair s khan RAVEN  \n",
       "18131          zuber thomas p ZUBER SUPER DRIFTER  \n",
       "18132                        zukowski EAA BIPLANE  \n",
       "18133                         zwart KIT FOX VIXEN  \n",
       "18134                    zwicker murray r GLASTAR  \n",
       "\n",
       "[18135 rows x 5 columns]"
      ]
     },
     "execution_count": 421,
     "metadata": {},
     "output_type": "execute_result"
    }
   ],
   "source": [
    "make_model_damage['Make_model'] = make_model_damage['Make']+ ' '+ make_model_damage['Model']\n",
    "make_model_damage"
   ]
  },
  {
   "cell_type": "code",
   "execution_count": 424,
   "id": "16817a87-5023-4f60-aaa8-0c3bae9b79fd",
   "metadata": {},
   "outputs": [
    {
     "data": {
      "text/html": [
       "<div>\n",
       "<style scoped>\n",
       "    .dataframe tbody tr th:only-of-type {\n",
       "        vertical-align: middle;\n",
       "    }\n",
       "\n",
       "    .dataframe tbody tr th {\n",
       "        vertical-align: top;\n",
       "    }\n",
       "\n",
       "    .dataframe thead th {\n",
       "        text-align: right;\n",
       "    }\n",
       "</style>\n",
       "<table border=\"1\" class=\"dataframe\">\n",
       "  <thead>\n",
       "    <tr style=\"text-align: right;\">\n",
       "      <th>Aircraft_damage</th>\n",
       "      <th>Destroyed</th>\n",
       "      <th>Minor</th>\n",
       "      <th>Substantial</th>\n",
       "    </tr>\n",
       "    <tr>\n",
       "      <th>Make_model</th>\n",
       "      <th></th>\n",
       "      <th></th>\n",
       "      <th></th>\n",
       "    </tr>\n",
       "  </thead>\n",
       "  <tbody>\n",
       "    <tr>\n",
       "      <th>107.5 flying corporation One Design DR 107</th>\n",
       "      <td>1.0</td>\n",
       "      <td>0.0</td>\n",
       "      <td>0.0</td>\n",
       "    </tr>\n",
       "    <tr>\n",
       "      <th>177mf llc PITTS MODEL 12</th>\n",
       "      <td>0.0</td>\n",
       "      <td>0.0</td>\n",
       "      <td>1.0</td>\n",
       "    </tr>\n",
       "    <tr>\n",
       "      <th>1977 colfer-chan STEEN SKYBOLT</th>\n",
       "      <td>0.0</td>\n",
       "      <td>0.0</td>\n",
       "      <td>1.0</td>\n",
       "    </tr>\n",
       "    <tr>\n",
       "      <th>1st ftr gp FOCKE-WULF 190</th>\n",
       "      <td>1.0</td>\n",
       "      <td>0.0</td>\n",
       "      <td>0.0</td>\n",
       "    </tr>\n",
       "    <tr>\n",
       "      <th>2000 mccoy Genesis</th>\n",
       "      <td>1.0</td>\n",
       "      <td>0.0</td>\n",
       "      <td>0.0</td>\n",
       "    </tr>\n",
       "    <tr>\n",
       "      <th>...</th>\n",
       "      <td>...</td>\n",
       "      <td>...</td>\n",
       "      <td>...</td>\n",
       "    </tr>\n",
       "    <tr>\n",
       "      <th>zubair s khan RAVEN</th>\n",
       "      <td>0.0</td>\n",
       "      <td>0.0</td>\n",
       "      <td>1.0</td>\n",
       "    </tr>\n",
       "    <tr>\n",
       "      <th>zuber thomas p ZUBER SUPER DRIFTER</th>\n",
       "      <td>0.0</td>\n",
       "      <td>0.0</td>\n",
       "      <td>1.0</td>\n",
       "    </tr>\n",
       "    <tr>\n",
       "      <th>zukowski EAA BIPLANE</th>\n",
       "      <td>0.0</td>\n",
       "      <td>0.0</td>\n",
       "      <td>1.0</td>\n",
       "    </tr>\n",
       "    <tr>\n",
       "      <th>zwart KIT FOX VIXEN</th>\n",
       "      <td>0.0</td>\n",
       "      <td>0.0</td>\n",
       "      <td>1.0</td>\n",
       "    </tr>\n",
       "    <tr>\n",
       "      <th>zwicker murray r GLASTAR</th>\n",
       "      <td>0.0</td>\n",
       "      <td>0.0</td>\n",
       "      <td>1.0</td>\n",
       "    </tr>\n",
       "  </tbody>\n",
       "</table>\n",
       "<p>15764 rows × 3 columns</p>\n",
       "</div>"
      ],
      "text/plain": [
       "Aircraft_damage                             Destroyed  Minor  Substantial\n",
       "Make_model                                                               \n",
       "107.5 flying corporation One Design DR 107        1.0    0.0          0.0\n",
       "177mf llc PITTS MODEL 12                          0.0    0.0          1.0\n",
       "1977 colfer-chan STEEN SKYBOLT                    0.0    0.0          1.0\n",
       "1st ftr gp FOCKE-WULF 190                         1.0    0.0          0.0\n",
       "2000 mccoy Genesis                                1.0    0.0          0.0\n",
       "...                                               ...    ...          ...\n",
       "zubair s khan RAVEN                               0.0    0.0          1.0\n",
       "zuber thomas p ZUBER SUPER DRIFTER                0.0    0.0          1.0\n",
       "zukowski EAA BIPLANE                              0.0    0.0          1.0\n",
       "zwart KIT FOX VIXEN                               0.0    0.0          1.0\n",
       "zwicker murray r GLASTAR                          0.0    0.0          1.0\n",
       "\n",
       "[15764 rows x 3 columns]"
      ]
     },
     "execution_count": 424,
     "metadata": {},
     "output_type": "execute_result"
    }
   ],
   "source": [
    "make_model_damage_pivot = make_model_damage.pivot(index='Make_model', columns='Aircraft_damage', values='Count').fillna(0)\n",
    "make_model_damage_pivot"
   ]
  },
  {
   "cell_type": "code",
   "execution_count": 427,
   "id": "d1cb936f-a16c-4d9b-9e77-f765fe776109",
   "metadata": {},
   "outputs": [
    {
     "data": {
      "text/html": [
       "<div>\n",
       "<style scoped>\n",
       "    .dataframe tbody tr th:only-of-type {\n",
       "        vertical-align: middle;\n",
       "    }\n",
       "\n",
       "    .dataframe tbody tr th {\n",
       "        vertical-align: top;\n",
       "    }\n",
       "\n",
       "    .dataframe thead th {\n",
       "        text-align: right;\n",
       "    }\n",
       "</style>\n",
       "<table border=\"1\" class=\"dataframe\">\n",
       "  <thead>\n",
       "    <tr style=\"text-align: right;\">\n",
       "      <th>Aircraft_damage</th>\n",
       "      <th>Destroyed</th>\n",
       "      <th>Minor</th>\n",
       "      <th>Substantial</th>\n",
       "    </tr>\n",
       "    <tr>\n",
       "      <th>Make_model</th>\n",
       "      <th></th>\n",
       "      <th></th>\n",
       "      <th></th>\n",
       "    </tr>\n",
       "  </thead>\n",
       "  <tbody>\n",
       "    <tr>\n",
       "      <th>cessna 152</th>\n",
       "      <td>352.0</td>\n",
       "      <td>28.0</td>\n",
       "      <td>1935.0</td>\n",
       "    </tr>\n",
       "    <tr>\n",
       "      <th>cessna 172</th>\n",
       "      <td>178.0</td>\n",
       "      <td>8.0</td>\n",
       "      <td>1440.0</td>\n",
       "    </tr>\n",
       "    <tr>\n",
       "      <th>cessna 172N</th>\n",
       "      <td>225.0</td>\n",
       "      <td>7.0</td>\n",
       "      <td>893.0</td>\n",
       "    </tr>\n",
       "    <tr>\n",
       "      <th>piper PA-28-140</th>\n",
       "      <td>218.0</td>\n",
       "      <td>5.0</td>\n",
       "      <td>694.0</td>\n",
       "    </tr>\n",
       "    <tr>\n",
       "      <th>cessna 150</th>\n",
       "      <td>123.0</td>\n",
       "      <td>9.0</td>\n",
       "      <td>653.0</td>\n",
       "    </tr>\n",
       "    <tr>\n",
       "      <th>...</th>\n",
       "      <td>...</td>\n",
       "      <td>...</td>\n",
       "      <td>...</td>\n",
       "    </tr>\n",
       "    <tr>\n",
       "      <th>fly by sea co COMP AIR 1</th>\n",
       "      <td>0.0</td>\n",
       "      <td>0.0</td>\n",
       "      <td>1.0</td>\n",
       "    </tr>\n",
       "    <tr>\n",
       "      <th>fly hard trike inc SKYCYCLE STING RAY</th>\n",
       "      <td>0.0</td>\n",
       "      <td>0.0</td>\n",
       "      <td>1.0</td>\n",
       "    </tr>\n",
       "    <tr>\n",
       "      <th>flying k enterprises Sky Raider</th>\n",
       "      <td>0.0</td>\n",
       "      <td>0.0</td>\n",
       "      <td>1.0</td>\n",
       "    </tr>\n",
       "    <tr>\n",
       "      <th>flynn van Munk</th>\n",
       "      <td>0.0</td>\n",
       "      <td>0.0</td>\n",
       "      <td>1.0</td>\n",
       "    </tr>\n",
       "    <tr>\n",
       "      <th>zwicker murray r GLASTAR</th>\n",
       "      <td>0.0</td>\n",
       "      <td>0.0</td>\n",
       "      <td>1.0</td>\n",
       "    </tr>\n",
       "  </tbody>\n",
       "</table>\n",
       "<p>15764 rows × 3 columns</p>\n",
       "</div>"
      ],
      "text/plain": [
       "Aircraft_damage                        Destroyed  Minor  Substantial\n",
       "Make_model                                                          \n",
       "cessna 152                                 352.0   28.0       1935.0\n",
       "cessna 172                                 178.0    8.0       1440.0\n",
       "cessna 172N                                225.0    7.0        893.0\n",
       "piper PA-28-140                            218.0    5.0        694.0\n",
       "cessna 150                                 123.0    9.0        653.0\n",
       "...                                          ...    ...          ...\n",
       "fly by sea co COMP AIR 1                     0.0    0.0          1.0\n",
       "fly hard trike inc SKYCYCLE STING RAY        0.0    0.0          1.0\n",
       "flying k enterprises Sky Raider              0.0    0.0          1.0\n",
       "flynn van Munk                               0.0    0.0          1.0\n",
       "zwicker murray r GLASTAR                     0.0    0.0          1.0\n",
       "\n",
       "[15764 rows x 3 columns]"
      ]
     },
     "execution_count": 427,
     "metadata": {},
     "output_type": "execute_result"
    }
   ],
   "source": [
    "# create total column to be able to sort values\n",
    "make_model_damage_pivot['Total'] = make_model_damage_pivot.sum(axis=1)\n",
    "make_model_damage_pivot = make_model_damage_pivot.sort_values(by='Total', ascending=False).drop(columns='Total')\n",
    "make_model_damage_pivot"
   ]
  },
  {
   "cell_type": "code",
   "execution_count": null,
   "id": "944c1f31-bb72-4fc3-9df2-1f22bb095fac",
   "metadata": {},
   "outputs": [],
   "source": [
    "fig, ax = plt.subplots(figsize=(12,8))\n",
    "\n",
    "make_model_damage_pivot[:10].plot(kind='bar',stacked=True, ax=ax)\n",
    "ax.set_title('Aircraft Damage Distribution by Make and Model')\n",
    "ax.set_xlabel('Make and Model')\n",
    "ax.set_ylabel('Numbr of Accidents')\n",
    "plt.xticks(rotation=45, ha='right');"
   ]
  },
  {
   "cell_type": "markdown",
   "id": "606c60f9-459d-46f5-a096-7562c2a17b7f",
   "metadata": {},
   "source": [
    "The Cessna suffered substantial damage more."
   ]
  },
  {
   "cell_type": "markdown",
   "id": "e89934e7-d429-40e2-8137-1813318cc883",
   "metadata": {},
   "source": [
    "Now Lets look at the most reliable models and make"
   ]
  },
  {
   "cell_type": "code",
   "execution_count": null,
   "id": "8b40282b-9a5c-443d-ab8d-64356ef79a5b",
   "metadata": {},
   "outputs": [],
   "source": []
  }
 ],
 "metadata": {
  "kernelspec": {
   "display_name": "Python 3 (ipykernel)",
   "language": "python",
   "name": "python3"
  },
  "language_info": {
   "codemirror_mode": {
    "name": "ipython",
    "version": 3
   },
   "file_extension": ".py",
   "mimetype": "text/x-python",
   "name": "python",
   "nbconvert_exporter": "python",
   "pygments_lexer": "ipython3",
   "version": "3.12.3"
  }
 },
 "nbformat": 4,
 "nbformat_minor": 5
}
